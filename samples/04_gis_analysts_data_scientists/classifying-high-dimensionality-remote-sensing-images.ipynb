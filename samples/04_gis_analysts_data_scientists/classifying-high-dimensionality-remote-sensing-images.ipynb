{
 "cells": [
  {
   "cell_type": "markdown",
   "metadata": {},
   "source": [
    "# Classifying high dimensionality remote sensing images\n",
    "\n",
    "## Intro to hyperspectral remote sensing\n",
    "Insert graphic of cube, explanative text"
   ]
  },
  {
   "cell_type": "code",
   "execution_count": 1,
   "metadata": {
    "collapsed": true
   },
   "outputs": [],
   "source": [
    "from arcgis.gis import GIS\n",
    "from arcgis import raster"
   ]
  },
  {
   "cell_type": "code",
   "execution_count": 2,
   "metadata": {},
   "outputs": [
    {
     "name": "stdout",
     "output_type": "stream",
     "text": [
      "Enter password: ········\n"
     ]
    }
   ],
   "source": [
    "# gis = GIS(\"https://dev0001902.esri.com/portal\",\"admin\", verify_cert=False)\n",
    "gis = GIS(\"https://pythonapi.playground.esri.com/portal\",\"atma.mani\")\n",
    "# gis = GIS(\"https://python.playground.esri.com/portal\",\"arcgis_python\",\"amazing_arcgis_123\")"
   ]
  },
  {
   "cell_type": "code",
   "execution_count": 3,
   "metadata": {
    "scrolled": true
   },
   "outputs": [
    {
     "data": {
      "text/html": [
       "<div class=\"item_container\" style=\"height: auto; overflow: hidden; border: 1px solid #cfcfcf; border-radius: 2px; background: #f6fafa; line-height: 1.21429em; padding: 10px;\">\n",
       "                    <div class=\"item_left\" style=\"width: 210px; float: left;\">\n",
       "                       <a href='https://pythonapi.playground.esri.com/portal/home/item.html?id=2a0c245ff84e47bfaca04c05a2bcf9f1' target='_blank'>\n",
       "                        <img src='https://pythonapi.playground.esri.com/portal/portalimages/desktopapp.png' class=\"itemThumbnail\">\n",
       "                       </a>\n",
       "                    </div>\n",
       "\n",
       "                    <div class=\"item_right\"     style=\"float: none; width: auto; overflow: hidden;\">\n",
       "                        <a href='https://pythonapi.playground.esri.com/portal/home/item.html?id=2a0c245ff84e47bfaca04c05a2bcf9f1' target='_blank'><b>omaha_aviris</b>\n",
       "                        </a>\n",
       "                        <br/>AVIRIS data for farms in Omaha<img src='https://pythonapi.playground.esri.com/portal/home/js/jsapi/esri/css/images/item_type_icons/imagery16.png' style=\"vertical-align:middle;\">Imagery Layer by atma.mani\n",
       "                        <br/>Last Modified: April 26, 2018\n",
       "                        <br/>0 comments, 1 views\n",
       "                    </div>\n",
       "                </div>\n",
       "                "
      ],
      "text/plain": [
       "<Item title:\"omaha_aviris\" type:Imagery Layer owner:atma.mani>"
      ]
     },
     "execution_count": 3,
     "metadata": {},
     "output_type": "execute_result"
    }
   ],
   "source": [
    "# aviris_item = gis.content.get('596098ec0e834e7d9f8e81e14de14ef2')\n",
    "aviris_item = gis.content.search('AVIRIS', item_type='Imagery Layer')[0]\n",
    "aviris_item"
   ]
  },
  {
   "cell_type": "code",
   "execution_count": 4,
   "metadata": {},
   "outputs": [],
   "source": [
    "map1 = gis.map('Omaha, NE')\n",
    "map1"
   ]
  },
  {
   "cell_type": "code",
   "execution_count": 5,
   "metadata": {
    "collapsed": true
   },
   "outputs": [],
   "source": [
    "map1.add_layer(aviris_item)"
   ]
  },
  {
   "cell_type": "markdown",
   "metadata": {},
   "source": [
    "## Draw using false color composite"
   ]
  },
  {
   "cell_type": "markdown",
   "metadata": {},
   "source": [
    "### Get AVIRIS band wavelengths"
   ]
  },
  {
   "cell_type": "code",
   "execution_count": 6,
   "metadata": {},
   "outputs": [
    {
     "data": {
      "text/plain": [
       "224"
      ]
     },
     "execution_count": 6,
     "metadata": {},
     "output_type": "execute_result"
    }
   ],
   "source": [
    "aviris_layer = aviris_item.layers[0]\n",
    "aviris_bands = aviris_layer.key_properties()['BandProperties']\n",
    "len(aviris_bands)"
   ]
  },
  {
   "cell_type": "code",
   "execution_count": 7,
   "metadata": {},
   "outputs": [
    {
     "data": {
      "text/plain": [
       "'365.9298'"
      ]
     },
     "execution_count": 7,
     "metadata": {},
     "output_type": "execute_result"
    }
   ],
   "source": [
    "aviris_bands[0]['wavelength']"
   ]
  },
  {
   "cell_type": "code",
   "execution_count": 8,
   "metadata": {},
   "outputs": [
    {
     "data": {
      "text/plain": [
       "'2497.036'"
      ]
     },
     "execution_count": 8,
     "metadata": {},
     "output_type": "execute_result"
    }
   ],
   "source": [
    "aviris_bands[-1]['wavelength']"
   ]
  },
  {
   "cell_type": "code",
   "execution_count": 9,
   "metadata": {
    "collapsed": true
   },
   "outputs": [],
   "source": [
    "aviris_layer = aviris_item.layers[0]\n",
    "aviris_fcc = raster.stretch(raster = raster.extract_band(aviris_layer, band_wavelengths=[831, 665.0994, 560]),\n",
    "                            stretch_type='histogram')"
   ]
  },
  {
   "cell_type": "code",
   "execution_count": 10,
   "metadata": {
    "collapsed": true
   },
   "outputs": [],
   "source": [
    "from ipywidgets import Output\n",
    "map1.remove_layers()\n",
    "map1.add_layer(aviris_fcc)"
   ]
  },
  {
   "cell_type": "markdown",
   "metadata": {},
   "source": [
    "## Get spectral signature from the remotely sensed image"
   ]
  },
  {
   "cell_type": "code",
   "execution_count": 17,
   "metadata": {
    "scrolled": false
   },
   "outputs": [
    {
     "data": {
      "text/html": [
       "\n",
       "\n",
       "    <div class=\"bk-root\">\n",
       "        <div class=\"bk-plotdiv\" id=\"02323bec-8c4d-4f51-8f4b-53065918a75a\"></div>\n",
       "    </div>\n",
       "<script type=\"text/javascript\">\n",
       "  \n",
       "  (function(global) {\n",
       "    function now() {\n",
       "      return new Date();\n",
       "    }\n",
       "  \n",
       "    var force = false;\n",
       "  \n",
       "    if (typeof (window._bokeh_onload_callbacks) === \"undefined\" || force === true) {\n",
       "      window._bokeh_onload_callbacks = [];\n",
       "      window._bokeh_is_loading = undefined;\n",
       "    }\n",
       "  \n",
       "  \n",
       "    \n",
       "    if (typeof (window._bokeh_timeout) === \"undefined\" || force === true) {\n",
       "      window._bokeh_timeout = Date.now() + 0;\n",
       "      window._bokeh_failed_load = false;\n",
       "    }\n",
       "  \n",
       "    var NB_LOAD_WARNING = {'data': {'text/html':\n",
       "       \"<div style='background-color: #fdd'>\\n\"+\n",
       "       \"<p>\\n\"+\n",
       "       \"BokehJS does not appear to have successfully loaded. If loading BokehJS from CDN, this \\n\"+\n",
       "       \"may be due to a slow or bad network connection. Possible fixes:\\n\"+\n",
       "       \"</p>\\n\"+\n",
       "       \"<ul>\\n\"+\n",
       "       \"<li>re-rerun `output_notebook()` to attempt to load from CDN again, or</li>\\n\"+\n",
       "       \"<li>use INLINE resources instead, as so:</li>\\n\"+\n",
       "       \"</ul>\\n\"+\n",
       "       \"<code>\\n\"+\n",
       "       \"from bokeh.resources import INLINE\\n\"+\n",
       "       \"output_notebook(resources=INLINE)\\n\"+\n",
       "       \"</code>\\n\"+\n",
       "       \"</div>\"}};\n",
       "  \n",
       "    function display_loaded() {\n",
       "      if (window.Bokeh !== undefined) {\n",
       "        var el = document.getElementById(\"02323bec-8c4d-4f51-8f4b-53065918a75a\");\n",
       "        el.textContent = \"BokehJS \" + Bokeh.version + \" successfully loaded.\";\n",
       "      } else if (Date.now() < window._bokeh_timeout) {\n",
       "        setTimeout(display_loaded, 100)\n",
       "      }\n",
       "    }if ((window.Jupyter !== undefined) && Jupyter.notebook.kernel) {\n",
       "      comm_manager = Jupyter.notebook.kernel.comm_manager\n",
       "      comm_manager.register_target(\"787e3e0a-3ee3-4cee-a512-d04fe61ad665\", function () {});\n",
       "    }\n",
       "  \n",
       "    function run_callbacks() {\n",
       "      window._bokeh_onload_callbacks.forEach(function(callback) { callback() });\n",
       "      delete window._bokeh_onload_callbacks\n",
       "      console.info(\"Bokeh: all callbacks have finished\");\n",
       "    }\n",
       "  \n",
       "    function load_libs(js_urls, callback) {\n",
       "      window._bokeh_onload_callbacks.push(callback);\n",
       "      if (window._bokeh_is_loading > 0) {\n",
       "        console.log(\"Bokeh: BokehJS is being loaded, scheduling callback at\", now());\n",
       "        return null;\n",
       "      }\n",
       "      if (js_urls == null || js_urls.length === 0) {\n",
       "        run_callbacks();\n",
       "        return null;\n",
       "      }\n",
       "      console.log(\"Bokeh: BokehJS not loaded, scheduling load and callback at\", now());\n",
       "      window._bokeh_is_loading = js_urls.length;\n",
       "      for (var i = 0; i < js_urls.length; i++) {\n",
       "        var url = js_urls[i];\n",
       "        var s = document.createElement('script');\n",
       "        s.src = url;\n",
       "        s.async = false;\n",
       "        s.onreadystatechange = s.onload = function() {\n",
       "          window._bokeh_is_loading--;\n",
       "          if (window._bokeh_is_loading === 0) {\n",
       "            console.log(\"Bokeh: all BokehJS libraries loaded\");\n",
       "            run_callbacks()\n",
       "          }\n",
       "        };\n",
       "        s.onerror = function() {\n",
       "          console.warn(\"failed to load library \" + url);\n",
       "        };\n",
       "        console.log(\"Bokeh: injecting script tag for BokehJS library: \", url);\n",
       "        document.getElementsByTagName(\"head\")[0].appendChild(s);\n",
       "      }\n",
       "    };var element = document.getElementById(\"02323bec-8c4d-4f51-8f4b-53065918a75a\");\n",
       "    if (element == null) {\n",
       "      console.log(\"Bokeh: ERROR: autoload.js configured with elementid '02323bec-8c4d-4f51-8f4b-53065918a75a' but no matching script tag was found. \")\n",
       "      return false;\n",
       "    }\n",
       "  \n",
       "    var js_urls = [];\n",
       "  \n",
       "    var inline_js = [\n",
       "      function(Bokeh) {\n",
       "        (function() {\n",
       "          var fn = function() {\n",
       "            var docs_json = {\"b3ce3bb8-cd8c-4b1c-beab-5945aab512af\":{\"roots\":{\"references\":[{\"attributes\":{},\"id\":\"0ea92b71-f966-4208-85ab-23a0c261f11f\",\"type\":\"BasicTickFormatter\"},{\"attributes\":{\"plot\":{\"id\":\"ade46fdd-1758-4ff0-a03a-2ecc9a9ac56f\",\"subtype\":\"Figure\",\"type\":\"Plot\"}},\"id\":\"6e8f1849-339a-405a-9e21-5d4665ea42cf\",\"type\":\"HelpTool\"},{\"attributes\":{\"line_alpha\":{\"value\":0.1},\"line_color\":{\"value\":\"#1f77b4\"},\"line_width\":{\"value\":2},\"x\":{\"field\":\"x\"},\"y\":{\"field\":\"y\"}},\"id\":\"3af67aef-0998-4aaa-9c79-53545e5c0a6c\",\"type\":\"Line\"},{\"attributes\":{\"line_alpha\":{\"value\":0.1},\"line_color\":{\"value\":\"#1f77b4\"},\"line_width\":{\"value\":2},\"x\":{\"field\":\"x\"},\"y\":{\"field\":\"y\"}},\"id\":\"a9c165d7-752a-48bd-a747-edbddc5af751\",\"type\":\"Line\"},{\"attributes\":{\"data_source\":{\"id\":\"6627fed9-ec42-4b76-95af-dd1781cb3640\",\"type\":\"ColumnDataSource\"},\"glyph\":{\"id\":\"334b72c9-6863-4920-8700-3971fddbb9c1\",\"type\":\"Line\"},\"hover_glyph\":null,\"muted_glyph\":null,\"nonselection_glyph\":{\"id\":\"33c5edf2-a4df-41b2-a980-7d8c0c2abf0f\",\"type\":\"Line\"},\"selection_glyph\":null},\"id\":\"55d0a256-1fc2-4af1-86cc-130f16df0049\",\"type\":\"GlyphRenderer\"},{\"attributes\":{\"plot\":{\"id\":\"ade46fdd-1758-4ff0-a03a-2ecc9a9ac56f\",\"subtype\":\"Figure\",\"type\":\"Plot\"}},\"id\":\"6e4435f2-e664-44bf-88e5-799dd08acae5\",\"type\":\"PanTool\"},{\"attributes\":{\"line_color\":{\"value\":\"blueviolet\"},\"line_width\":{\"value\":2},\"x\":{\"field\":\"x\"},\"y\":{\"field\":\"y\"}},\"id\":\"9338188a-b2d8-4adf-ad7e-31a93102f33b\",\"type\":\"Line\"},{\"attributes\":{\"callback\":null,\"column_names\":[\"x\",\"y\"],\"data\":{\"x\":[365.9298,375.594,385.2625,394.9355,404.6129,414.2946,423.9808,433.6713,443.3662,453.0655,462.7692,472.4773,482.1898,491.9066,501.6279,511.3535,521.0836,530.818,540.5568,550.3,560.0477,569.7996,579.556,589.3168,599.0819,608.8515,618.6254,628.4037,638.1865,647.9736,657.7651,667.561,655.2923,665.0994,674.9012,684.6979,694.4894,704.2756,714.0566,723.8325,733.6031,743.3685,753.1287,762.8837,772.6335,782.3781,792.1174,801.8516,811.5805,821.3043,831.0228,840.7361,850.4442,860.1471,869.8448,879.5372,889.2245,898.9066,908.5834,918.2551,927.9214,937.5827,947.2387,956.8895,966.5351,976.1755,985.8106,995.4406,1005.065,1014.685,1024.299,1033.908,1043.512,1053.111,1062.704,1072.293,1081.876,1091.454,1101.026,1110.594,1120.156,1129.713,1139.265,1148.811,1158.353,1167.889,1177.42,1186.946,1196.466,1205.982,1215.492,1224.997,1234.496,1243.991,1253.48,1262.964,1253.373,1263.346,1273.318,1283.291,1293.262,1303.234,1313.206,1323.177,1333.148,1343.119,1353.089,1363.06,1373.03,1383.0,1392.969,1402.939,1412.908,1422.877,1432.845,1442.814,1452.782,1462.75,1472.718,1482.685,1492.652,1502.619,1512.586,1522.552,1532.518,1542.484,1552.45,1562.416,1572.381,1582.346,1592.311,1602.275,1612.24,1622.204,1632.167,1642.131,1652.094,1662.057,1672.02,1681.983,1691.945,1701.907,1711.869,1721.831,1731.792,1741.753,1751.714,1761.675,1771.635,1781.596,1791.556,1801.515,1811.475,1821.434,1831.393,1841.352,1851.31,1861.269,1871.227,1873.184,1867.664,1877.725,1887.785,1897.842,1907.896,1917.948,1927.999,1938.046,1948.092,1958.135,1968.175,1978.214,1988.25,1998.284,2008.315,2018.345,2028.372,2038.396,2048.419,2058.439,2068.456,2078.472,2088.485,2098.496,2108.504,2118.51,2128.514,2138.516,2148.515,2158.512,2168.507,2178.499,2188.489,2198.477,2208.462,2218.445,2228.426,2238.405,2248.381,2258.354,2268.326,2278.295,2288.262,2298.227,2308.189,2318.149,2328.107,2338.062,2348.016,2357.967,2367.915,2377.861,2387.805,2397.747,2407.686,2417.623,2427.558,2437.49,2447.42,2457.348,2467.273,2477.196,2487.117,2497.036],\"y\":[1176.0,1349.0,1431.0,1803.0,2600.0,2831.0,2768.0,2702.0,3062.0,3288.0,3274.0,3226.0,3175.0,3058.0,3017.0,2985.0,2870.0,2902.0,2934.0,2930.0,2845.0,2785.0,2767.0,2675.0,2673.0,2676.0,2623.0,2548.0,2575.0,2520.0,2468.0,2530.0,2446.0,2530.0,2507.0,2255.0,2220.0,2280.0,2133.0,1874.0,2072.0,2244.0,2181.0,1389.0,2039.0,2138.0,2036.0,1973.0,1798.0,1554.0,1634.0,1771.0,1767.0,1745.0,1711.0,1692.0,1612.0,1309.0,1168.0,1092.0,964.0,517.0,480.0,631.0,970.0,1085.0,1274.0,1304.0,1278.0,1271.0,1251.0,1221.0,1196.0,1154.0,1109.0,1079.0,1014.0,947.0,791.0,537.0,191.0,176.0,263.0,251.0,452.0,647.0,695.0,691.0,718.0,706.0,741.0,776.0,807.0,798.0,760.0,649.0,747.0,393.0,308.0,298.0,285.0,222.0,168.0,194.0,80.0,49.0,5.0,1.0,0.0,1.0,2.0,2.0,17.0,30.0,37.0,44.0,96.0,110.0,88.0,125.0,215.0,269.0,1124.0,948.0,902.0,796.0,848.0,832.0,717.0,682.0,636.0,550.0,522.0,525.0,503.0,466.0,475.0,477.0,479.0,484.0,496.0,499.0,496.0,467.0,451.0,391.0,407.0,389.0,357.0,287.0,223.0,98.0,30.0,5.0,1.0,0.0,0.0,0.0,0.0,1.0,0.0,1.0,0.0,1.0,0.0,0.0,3.0,12.0,37.0,60.0,211.0,398.0,505.0,304.0,112.0,196.0,492.0,654.0,543.0,411.0,450.0,596.0,671.0,693.0,702.0,694.0,697.0,704.0,669.0,629.0,597.0,593.0,573.0,546.0,566.0,578.0,562.0,541.0,511.0,472.0,445.0,425.0,394.0,351.0,367.0,320.0,322.0,284.0,244.0,264.0,259.0,223.0,206.0,232.0,188.0,135.0,188.0,145.0,94.0,108.0,88.0,43.0,7.0,11.0]}},\"id\":\"771f4846-974a-4f6a-b8f9-1d44d712d26b\",\"type\":\"ColumnDataSource\"},{\"attributes\":{\"plot\":{\"id\":\"ade46fdd-1758-4ff0-a03a-2ecc9a9ac56f\",\"subtype\":\"Figure\",\"type\":\"Plot\"}},\"id\":\"a28836a2-d0c2-416a-a428-390bb7652fb4\",\"type\":\"SaveTool\"},{\"attributes\":{\"callback\":null},\"id\":\"9eeedc1c-1385-41f4-9fff-194b89341ed7\",\"type\":\"DataRange1d\"},{\"attributes\":{\"label\":{\"value\":\"B\"},\"renderers\":[{\"id\":\"ec7896b0-12b3-4a96-b87a-7486f1941846\",\"type\":\"GlyphRenderer\"}]},\"id\":\"a0c29613-3938-4eef-b27f-7eafe03ad5ef\",\"type\":\"LegendItem\"},{\"attributes\":{\"bottom_units\":\"screen\",\"fill_alpha\":{\"value\":0.5},\"fill_color\":{\"value\":\"lightgrey\"},\"left_units\":\"screen\",\"level\":\"overlay\",\"line_alpha\":{\"value\":1.0},\"line_color\":{\"value\":\"black\"},\"line_dash\":[4,4],\"line_width\":{\"value\":2},\"plot\":null,\"render_mode\":\"css\",\"right_units\":\"screen\",\"top_units\":\"screen\"},\"id\":\"55d4faf6-01d8-477c-97aa-f9e0e5784008\",\"type\":\"BoxAnnotation\"},{\"attributes\":{\"line_color\":{\"value\":\"brown\"},\"line_width\":{\"value\":2},\"x\":{\"field\":\"x\"},\"y\":{\"field\":\"y\"}},\"id\":\"334b72c9-6863-4920-8700-3971fddbb9c1\",\"type\":\"Line\"},{\"attributes\":{},\"id\":\"3b50de1e-a296-454c-8992-468b95fd3cc4\",\"type\":\"ToolEvents\"},{\"attributes\":{\"callback\":null,\"column_names\":[\"x\",\"y\"],\"data\":{\"x\":[365.9298,375.594,385.2625,394.9355,404.6129,414.2946,423.9808,433.6713,443.3662,453.0655,462.7692,472.4773,482.1898,491.9066,501.6279,511.3535,521.0836,530.818,540.5568,550.3,560.0477,569.7996,579.556,589.3168,599.0819,608.8515,618.6254,628.4037,638.1865,647.9736,657.7651,667.561,655.2923,665.0994,674.9012,684.6979,694.4894,704.2756,714.0566,723.8325,733.6031,743.3685,753.1287,762.8837,772.6335,782.3781,792.1174,801.8516,811.5805,821.3043,831.0228,840.7361,850.4442,860.1471,869.8448,879.5372,889.2245,898.9066,908.5834,918.2551,927.9214,937.5827,947.2387,956.8895,966.5351,976.1755,985.8106,995.4406,1005.065,1014.685,1024.299,1033.908,1043.512,1053.111,1062.704,1072.293,1081.876,1091.454,1101.026,1110.594,1120.156,1129.713,1139.265,1148.811,1158.353,1167.889,1177.42,1186.946,1196.466,1205.982,1215.492,1224.997,1234.496,1243.991,1253.48,1262.964,1253.373,1263.346,1273.318,1283.291,1293.262,1303.234,1313.206,1323.177,1333.148,1343.119,1353.089,1363.06,1373.03,1383.0,1392.969,1402.939,1412.908,1422.877,1432.845,1442.814,1452.782,1462.75,1472.718,1482.685,1492.652,1502.619,1512.586,1522.552,1532.518,1542.484,1552.45,1562.416,1572.381,1582.346,1592.311,1602.275,1612.24,1622.204,1632.167,1642.131,1652.094,1662.057,1672.02,1681.983,1691.945,1701.907,1711.869,1721.831,1731.792,1741.753,1751.714,1761.675,1771.635,1781.596,1791.556,1801.515,1811.475,1821.434,1831.393,1841.352,1851.31,1861.269,1871.227,1873.184,1867.664,1877.725,1887.785,1897.842,1907.896,1917.948,1927.999,1938.046,1948.092,1958.135,1968.175,1978.214,1988.25,1998.284,2008.315,2018.345,2028.372,2038.396,2048.419,2058.439,2068.456,2078.472,2088.485,2098.496,2108.504,2118.51,2128.514,2138.516,2148.515,2158.512,2168.507,2178.499,2188.489,2198.477,2208.462,2218.445,2228.426,2238.405,2248.381,2258.354,2268.326,2278.295,2288.262,2298.227,2308.189,2318.149,2328.107,2338.062,2348.016,2357.967,2367.915,2377.861,2387.805,2397.747,2407.686,2417.623,2427.558,2437.49,2447.42,2457.348,2467.273,2477.196,2487.117,2497.036],\"y\":[955.0,1053.0,1063.0,1306.0,1799.0,1846.0,1713.0,1583.0,1701.0,1733.0,1642.0,1533.0,1440.0,1329.0,1257.0,1216.0,1201.0,1248.0,1295.0,1287.0,1211.0,1093.0,997.0,905.0,861.0,820.0,755.0,707.0,687.0,643.0,595.0,585.0,591.0,578.0,551.0,518.0,609.0,855.0,1112.0,1443.0,2246.0,3067.0,3360.0,2282.0,3442.0,3651.0,3490.0,3400.0,3117.0,2688.0,2844.0,3101.0,3107.0,3080.0,3032.0,3002.0,2865.0,2315.0,2059.0,1922.0,1691.0,888.0,785.0,1001.0,1546.0,1736.0,2053.0,2132.0,2106.0,2132.0,2122.0,2109.0,2085.0,2033.0,1958.0,1904.0,1783.0,1659.0,1365.0,913.0,311.0,280.0,402.0,356.0,624.0,895.0,959.0,948.0,987.0,968.0,1027.0,1081.0,1127.0,1127.0,1076.0,916.0,1056.0,551.0,433.0,413.0,394.0,293.0,216.0,232.0,91.0,52.0,5.0,1.0,0.0,1.0,1.0,1.0,10.0,11.0,13.0,15.0,28.0,33.0,27.0,42.0,78.0,109.0,498.0,451.0,461.0,436.0,489.0,505.0,450.0,451.0,435.0,386.0,382.0,391.0,385.0,363.0,368.0,376.0,381.0,381.0,391.0,384.0,378.0,353.0,329.0,283.0,280.0,257.0,226.0,176.0,132.0,53.0,17.0,6.0,1.0,0.0,0.0,1.0,0.0,0.0,3.0,1.0,2.0,2.0,2.0,1.0,2.0,2.0,7.0,11.0,32.0,61.0,75.0,49.0,22.0,40.0,93.0,127.0,110.0,89.0,102.0,143.0,169.0,183.0,197.0,205.0,214.0,226.0,219.0,213.0,207.0,212.0,208.0,202.0,214.0,221.0,217.0,206.0,195.0,173.0,160.0,156.0,141.0,126.0,123.0,107.0,110.0,93.0,72.0,75.0,64.0,55.0,44.0,51.0,40.0,25.0,33.0,27.0,19.0,19.0,15.0,9.0,2.0,1.0]}},\"id\":\"8ab9c53a-a62a-42af-bc08-ac1629030155\",\"type\":\"ColumnDataSource\"},{\"attributes\":{\"line_alpha\":{\"value\":0.1},\"line_color\":{\"value\":\"#1f77b4\"},\"line_width\":{\"value\":2},\"x\":{\"field\":\"x\"},\"y\":{\"field\":\"y\"}},\"id\":\"33c5edf2-a4df-41b2-a980-7d8c0c2abf0f\",\"type\":\"Line\"},{\"attributes\":{\"plot\":null,\"text\":\"Spectral Profile\"},\"id\":\"5186e01d-58da-4da2-9049-02e3ae17fb55\",\"type\":\"Title\"},{\"attributes\":{\"items\":[{\"id\":\"10450f0f-363b-4659-83fb-1268fd723659\",\"type\":\"LegendItem\"},{\"id\":\"a0c29613-3938-4eef-b27f-7eafe03ad5ef\",\"type\":\"LegendItem\"},{\"id\":\"7b99d8e9-390d-4ccf-b365-081467a313ab\",\"type\":\"LegendItem\"},{\"id\":\"7c8032f3-7559-4951-9d32-8de26b6e9a24\",\"type\":\"LegendItem\"}],\"plot\":{\"id\":\"ade46fdd-1758-4ff0-a03a-2ecc9a9ac56f\",\"subtype\":\"Figure\",\"type\":\"Plot\"}},\"id\":\"216067e6-0e38-43ab-9f66-fbdf0a496d93\",\"type\":\"Legend\"},{\"attributes\":{},\"id\":\"61ad441e-635a-4235-a8da-0b3b9f564c31\",\"type\":\"BasicTicker\"},{\"attributes\":{\"label\":{\"value\":\"C\"},\"renderers\":[{\"id\":\"55d0a256-1fc2-4af1-86cc-130f16df0049\",\"type\":\"GlyphRenderer\"}]},\"id\":\"7b99d8e9-390d-4ccf-b365-081467a313ab\",\"type\":\"LegendItem\"},{\"attributes\":{\"plot\":{\"id\":\"ade46fdd-1758-4ff0-a03a-2ecc9a9ac56f\",\"subtype\":\"Figure\",\"type\":\"Plot\"},\"ticker\":{\"id\":\"61ad441e-635a-4235-a8da-0b3b9f564c31\",\"type\":\"BasicTicker\"}},\"id\":\"580ec7c9-48d3-43f6-9790-6a86f3195e40\",\"type\":\"Grid\"},{\"attributes\":{\"active_drag\":\"auto\",\"active_scroll\":\"auto\",\"active_tap\":\"auto\",\"tools\":[{\"id\":\"6e4435f2-e664-44bf-88e5-799dd08acae5\",\"type\":\"PanTool\"},{\"id\":\"d8989f5c-d2da-456d-bf19-df2ca7847f0c\",\"type\":\"WheelZoomTool\"},{\"id\":\"1c36019d-97a5-4988-b1e6-7c27f6883d64\",\"type\":\"BoxZoomTool\"},{\"id\":\"a28836a2-d0c2-416a-a428-390bb7652fb4\",\"type\":\"SaveTool\"},{\"id\":\"eb1e6104-b6b4-48b7-aa9a-7b7395fcce36\",\"type\":\"ResetTool\"},{\"id\":\"6e8f1849-339a-405a-9e21-5d4665ea42cf\",\"type\":\"HelpTool\"}]},\"id\":\"98d3cc74-d732-4564-8332-9def180c3a63\",\"type\":\"Toolbar\"},{\"attributes\":{\"callback\":null,\"column_names\":[\"x\",\"y\"],\"data\":{\"x\":[365.9298,375.594,385.2625,394.9355,404.6129,414.2946,423.9808,433.6713,443.3662,453.0655,462.7692,472.4773,482.1898,491.9066,501.6279,511.3535,521.0836,530.818,540.5568,550.3,560.0477,569.7996,579.556,589.3168,599.0819,608.8515,618.6254,628.4037,638.1865,647.9736,657.7651,667.561,655.2923,665.0994,674.9012,684.6979,694.4894,704.2756,714.0566,723.8325,733.6031,743.3685,753.1287,762.8837,772.6335,782.3781,792.1174,801.8516,811.5805,821.3043,831.0228,840.7361,850.4442,860.1471,869.8448,879.5372,889.2245,898.9066,908.5834,918.2551,927.9214,937.5827,947.2387,956.8895,966.5351,976.1755,985.8106,995.4406,1005.065,1014.685,1024.299,1033.908,1043.512,1053.111,1062.704,1072.293,1081.876,1091.454,1101.026,1110.594,1120.156,1129.713,1139.265,1148.811,1158.353,1167.889,1177.42,1186.946,1196.466,1205.982,1215.492,1224.997,1234.496,1243.991,1253.48,1262.964,1253.373,1263.346,1273.318,1283.291,1293.262,1303.234,1313.206,1323.177,1333.148,1343.119,1353.089,1363.06,1373.03,1383.0,1392.969,1402.939,1412.908,1422.877,1432.845,1442.814,1452.782,1462.75,1472.718,1482.685,1492.652,1502.619,1512.586,1522.552,1532.518,1542.484,1552.45,1562.416,1572.381,1582.346,1592.311,1602.275,1612.24,1622.204,1632.167,1642.131,1652.094,1662.057,1672.02,1681.983,1691.945,1701.907,1711.869,1721.831,1731.792,1741.753,1751.714,1761.675,1771.635,1781.596,1791.556,1801.515,1811.475,1821.434,1831.393,1841.352,1851.31,1861.269,1871.227,1873.184,1867.664,1877.725,1887.785,1897.842,1907.896,1917.948,1927.999,1938.046,1948.092,1958.135,1968.175,1978.214,1988.25,1998.284,2008.315,2018.345,2028.372,2038.396,2048.419,2058.439,2068.456,2078.472,2088.485,2098.496,2108.504,2118.51,2128.514,2138.516,2148.515,2158.512,2168.507,2178.499,2188.489,2198.477,2208.462,2218.445,2228.426,2238.405,2248.381,2258.354,2268.326,2278.295,2288.262,2298.227,2308.189,2318.149,2328.107,2338.062,2348.016,2357.967,2367.915,2377.861,2387.805,2397.747,2407.686,2417.623,2427.558,2437.49,2447.42,2457.348,2467.273,2477.196,2487.117,2497.036],\"y\":[979.0,1093.0,1102.0,1330.0,1842.0,1908.0,1770.0,1649.0,1783.0,1823.0,1759.0,1685.0,1609.0,1517.0,1457.0,1411.0,1350.0,1355.0,1359.0,1348.0,1298.0,1255.0,1234.0,1175.0,1150.0,1120.0,1079.0,1036.0,1041.0,1001.0,948.0,940.0,897.0,892.0,867.0,790.0,805.0,837.0,777.0,652.0,661.0,707.0,700.0,448.0,667.0,716.0,700.0,692.0,635.0,535.0,514.0,512.0,501.0,480.0,464.0,445.0,413.0,325.0,280.0,254.0,207.0,107.0,93.0,115.0,171.0,191.0,226.0,236.0,233.0,235.0,238.0,234.0,237.0,233.0,227.0,219.0,204.0,188.0,152.0,98.0,40.0,36.0,46.0,45.0,70.0,101.0,109.0,109.0,111.0,108.0,118.0,123.0,129.0,127.0,120.0,102.0,121.0,63.0,48.0,45.0,42.0,32.0,25.0,25.0,12.0,7.0,1.0,0.0,0.0,0.0,0.0,1.0,6.0,6.0,8.0,6.0,11.0,12.0,9.0,11.0,18.0,20.0,89.0,76.0,77.0,75.0,75.0,76.0,67.0,64.0,65.0,56.0,53.0,54.0,52.0,50.0,50.0,50.0,51.0,53.0,53.0,54.0,52.0,49.0,47.0,39.0,40.0,38.0,37.0,28.0,29.0,19.0,7.0,1.0,0.0,0.0,0.0,1.0,0.0,0.0,0.0,0.0,1.0,0.0,0.0,0.0,2.0,7.0,17.0,22.0,40.0,53.0,60.0,44.0,30.0,40.0,57.0,66.0,61.0,55.0,55.0,63.0,69.0,73.0,72.0,69.0,76.0,74.0,74.0,72.0,74.0,69.0,66.0,66.0,65.0,69.0,66.0,63.0,62.0,56.0,57.0,51.0,54.0,49.0,50.0,41.0,40.0,38.0,30.0,33.0,28.0,29.0,22.0,22.0,17.0,15.0,16.0,14.0,7.0,10.0,9.0,2.0,1.0,0.0]}},\"id\":\"803e5c21-5ee2-4f20-856f-cb269af777f6\",\"type\":\"ColumnDataSource\"},{\"attributes\":{\"data_source\":{\"id\":\"8ab9c53a-a62a-42af-bc08-ac1629030155\",\"type\":\"ColumnDataSource\"},\"glyph\":{\"id\":\"c37dccdd-360c-4402-8fa1-5c25832c9af8\",\"type\":\"Line\"},\"hover_glyph\":null,\"muted_glyph\":null,\"nonselection_glyph\":{\"id\":\"3af67aef-0998-4aaa-9c79-53545e5c0a6c\",\"type\":\"Line\"},\"selection_glyph\":null},\"id\":\"85176516-1287-459a-a16d-33346ccdc87b\",\"type\":\"GlyphRenderer\"},{\"attributes\":{},\"id\":\"161bcb71-4b96-42cd-8abe-c1e9f34e7b3e\",\"type\":\"BasicTicker\"},{\"attributes\":{\"axis_label\":\"Wavelengths\",\"formatter\":{\"id\":\"feb85822-99f8-4e69-9c94-fab2993bbb4a\",\"type\":\"BasicTickFormatter\"},\"plot\":{\"id\":\"ade46fdd-1758-4ff0-a03a-2ecc9a9ac56f\",\"subtype\":\"Figure\",\"type\":\"Plot\"},\"ticker\":{\"id\":\"61ad441e-635a-4235-a8da-0b3b9f564c31\",\"type\":\"BasicTicker\"}},\"id\":\"53575d7b-ceae-40ae-848f-998b750988fb\",\"type\":\"LinearAxis\"},{\"attributes\":{\"data_source\":{\"id\":\"771f4846-974a-4f6a-b8f9-1d44d712d26b\",\"type\":\"ColumnDataSource\"},\"glyph\":{\"id\":\"9338188a-b2d8-4adf-ad7e-31a93102f33b\",\"type\":\"Line\"},\"hover_glyph\":null,\"muted_glyph\":null,\"nonselection_glyph\":{\"id\":\"ae7ec1c8-01e2-439e-99d1-cf7bbff8bb6d\",\"type\":\"Line\"},\"selection_glyph\":null},\"id\":\"ec7896b0-12b3-4a96-b87a-7486f1941846\",\"type\":\"GlyphRenderer\"},{\"attributes\":{\"plot\":{\"id\":\"ade46fdd-1758-4ff0-a03a-2ecc9a9ac56f\",\"subtype\":\"Figure\",\"type\":\"Plot\"}},\"id\":\"eb1e6104-b6b4-48b7-aa9a-7b7395fcce36\",\"type\":\"ResetTool\"},{\"attributes\":{\"callback\":null},\"id\":\"48f5b066-2c7f-4696-b606-25bbaf299541\",\"type\":\"DataRange1d\"},{\"attributes\":{\"data_source\":{\"id\":\"803e5c21-5ee2-4f20-856f-cb269af777f6\",\"type\":\"ColumnDataSource\"},\"glyph\":{\"id\":\"cc1b7e39-5eab-4be4-896d-f4cc7335463f\",\"type\":\"Line\"},\"hover_glyph\":null,\"muted_glyph\":null,\"nonselection_glyph\":{\"id\":\"a9c165d7-752a-48bd-a747-edbddc5af751\",\"type\":\"Line\"},\"selection_glyph\":null},\"id\":\"614e6c5e-eff8-47ef-904b-691982ed135c\",\"type\":\"GlyphRenderer\"},{\"attributes\":{\"label\":{\"value\":\"D\"},\"renderers\":[{\"id\":\"614e6c5e-eff8-47ef-904b-691982ed135c\",\"type\":\"GlyphRenderer\"}]},\"id\":\"7c8032f3-7559-4951-9d32-8de26b6e9a24\",\"type\":\"LegendItem\"},{\"attributes\":{\"line_alpha\":{\"value\":0.1},\"line_color\":{\"value\":\"#1f77b4\"},\"line_width\":{\"value\":2},\"x\":{\"field\":\"x\"},\"y\":{\"field\":\"y\"}},\"id\":\"ae7ec1c8-01e2-439e-99d1-cf7bbff8bb6d\",\"type\":\"Line\"},{\"attributes\":{\"line_color\":{\"value\":\"blue\"},\"line_width\":{\"value\":2},\"x\":{\"field\":\"x\"},\"y\":{\"field\":\"y\"}},\"id\":\"c37dccdd-360c-4402-8fa1-5c25832c9af8\",\"type\":\"Line\"},{\"attributes\":{\"line_color\":{\"value\":\"burlywood\"},\"line_width\":{\"value\":2},\"x\":{\"field\":\"x\"},\"y\":{\"field\":\"y\"}},\"id\":\"cc1b7e39-5eab-4be4-896d-f4cc7335463f\",\"type\":\"Line\"},{\"attributes\":{\"plot\":{\"id\":\"ade46fdd-1758-4ff0-a03a-2ecc9a9ac56f\",\"subtype\":\"Figure\",\"type\":\"Plot\"}},\"id\":\"d8989f5c-d2da-456d-bf19-df2ca7847f0c\",\"type\":\"WheelZoomTool\"},{\"attributes\":{\"below\":[{\"id\":\"53575d7b-ceae-40ae-848f-998b750988fb\",\"type\":\"LinearAxis\"}],\"left\":[{\"id\":\"9596bc1b-1846-47e6-be64-611346edbd40\",\"type\":\"LinearAxis\"}],\"plot_height\":300,\"renderers\":[{\"id\":\"53575d7b-ceae-40ae-848f-998b750988fb\",\"type\":\"LinearAxis\"},{\"id\":\"580ec7c9-48d3-43f6-9790-6a86f3195e40\",\"type\":\"Grid\"},{\"id\":\"9596bc1b-1846-47e6-be64-611346edbd40\",\"type\":\"LinearAxis\"},{\"id\":\"6d9358c5-e2ff-415b-9861-86fd24f283cb\",\"type\":\"Grid\"},{\"id\":\"55d4faf6-01d8-477c-97aa-f9e0e5784008\",\"type\":\"BoxAnnotation\"},{\"id\":\"216067e6-0e38-43ab-9f66-fbdf0a496d93\",\"type\":\"Legend\"},{\"id\":\"85176516-1287-459a-a16d-33346ccdc87b\",\"type\":\"GlyphRenderer\"},{\"id\":\"ec7896b0-12b3-4a96-b87a-7486f1941846\",\"type\":\"GlyphRenderer\"},{\"id\":\"55d0a256-1fc2-4af1-86cc-130f16df0049\",\"type\":\"GlyphRenderer\"},{\"id\":\"614e6c5e-eff8-47ef-904b-691982ed135c\",\"type\":\"GlyphRenderer\"}],\"title\":{\"id\":\"5186e01d-58da-4da2-9049-02e3ae17fb55\",\"type\":\"Title\"},\"tool_events\":{\"id\":\"3b50de1e-a296-454c-8992-468b95fd3cc4\",\"type\":\"ToolEvents\"},\"toolbar\":{\"id\":\"98d3cc74-d732-4564-8332-9def180c3a63\",\"type\":\"Toolbar\"},\"x_range\":{\"id\":\"48f5b066-2c7f-4696-b606-25bbaf299541\",\"type\":\"DataRange1d\"},\"y_range\":{\"id\":\"9eeedc1c-1385-41f4-9fff-194b89341ed7\",\"type\":\"DataRange1d\"}},\"id\":\"ade46fdd-1758-4ff0-a03a-2ecc9a9ac56f\",\"subtype\":\"Figure\",\"type\":\"Plot\"},{\"attributes\":{\"overlay\":{\"id\":\"55d4faf6-01d8-477c-97aa-f9e0e5784008\",\"type\":\"BoxAnnotation\"},\"plot\":{\"id\":\"ade46fdd-1758-4ff0-a03a-2ecc9a9ac56f\",\"subtype\":\"Figure\",\"type\":\"Plot\"}},\"id\":\"1c36019d-97a5-4988-b1e6-7c27f6883d64\",\"type\":\"BoxZoomTool\"},{\"attributes\":{\"callback\":null,\"column_names\":[\"x\",\"y\"],\"data\":{\"x\":[365.9298,375.594,385.2625,394.9355,404.6129,414.2946,423.9808,433.6713,443.3662,453.0655,462.7692,472.4773,482.1898,491.9066,501.6279,511.3535,521.0836,530.818,540.5568,550.3,560.0477,569.7996,579.556,589.3168,599.0819,608.8515,618.6254,628.4037,638.1865,647.9736,657.7651,667.561,655.2923,665.0994,674.9012,684.6979,694.4894,704.2756,714.0566,723.8325,733.6031,743.3685,753.1287,762.8837,772.6335,782.3781,792.1174,801.8516,811.5805,821.3043,831.0228,840.7361,850.4442,860.1471,869.8448,879.5372,889.2245,898.9066,908.5834,918.2551,927.9214,937.5827,947.2387,956.8895,966.5351,976.1755,985.8106,995.4406,1005.065,1014.685,1024.299,1033.908,1043.512,1053.111,1062.704,1072.293,1081.876,1091.454,1101.026,1110.594,1120.156,1129.713,1139.265,1148.811,1158.353,1167.889,1177.42,1186.946,1196.466,1205.982,1215.492,1224.997,1234.496,1243.991,1253.48,1262.964,1253.373,1263.346,1273.318,1283.291,1293.262,1303.234,1313.206,1323.177,1333.148,1343.119,1353.089,1363.06,1373.03,1383.0,1392.969,1402.939,1412.908,1422.877,1432.845,1442.814,1452.782,1462.75,1472.718,1482.685,1492.652,1502.619,1512.586,1522.552,1532.518,1542.484,1552.45,1562.416,1572.381,1582.346,1592.311,1602.275,1612.24,1622.204,1632.167,1642.131,1652.094,1662.057,1672.02,1681.983,1691.945,1701.907,1711.869,1721.831,1731.792,1741.753,1751.714,1761.675,1771.635,1781.596,1791.556,1801.515,1811.475,1821.434,1831.393,1841.352,1851.31,1861.269,1871.227,1873.184,1867.664,1877.725,1887.785,1897.842,1907.896,1917.948,1927.999,1938.046,1948.092,1958.135,1968.175,1978.214,1988.25,1998.284,2008.315,2018.345,2028.372,2038.396,2048.419,2058.439,2068.456,2078.472,2088.485,2098.496,2108.504,2118.51,2128.514,2138.516,2148.515,2158.512,2168.507,2178.499,2188.489,2198.477,2208.462,2218.445,2228.426,2238.405,2248.381,2258.354,2268.326,2278.295,2288.262,2298.227,2308.189,2318.149,2328.107,2338.062,2348.016,2357.967,2367.915,2377.861,2387.805,2397.747,2407.686,2417.623,2427.558,2437.49,2447.42,2457.348,2467.273,2477.196,2487.117,2497.036],\"y\":[989.0,1077.0,1061.0,1272.0,1752.0,1802.0,1665.0,1538.0,1635.0,1660.0,1569.0,1460.0,1357.0,1245.0,1188.0,1170.0,1227.0,1347.0,1467.0,1476.0,1381.0,1207.0,1055.0,933.0,877.0,810.0,721.0,667.0,633.0,571.0,511.0,491.0,505.0,473.0,451.0,444.0,672.0,1298.0,2038.0,2850.0,4326.0,5627.0,5927.0,3929.0,5839.0,6147.0,5850.0,5682.0,5207.0,4502.0,4723.0,5122.0,5110.0,5031.0,4949.0,4887.0,4642.0,3774.0,3364.0,3144.0,2778.0,1490.0,1306.0,1613.0,2413.0,2687.0,3138.0,3253.0,3212.0,3251.0,3236.0,3210.0,3178.0,3096.0,2969.0,2884.0,2699.0,2509.0,2079.0,1404.0,500.0,445.0,614.0,531.0,893.0,1242.0,1308.0,1285.0,1326.0,1297.0,1371.0,1435.0,1490.0,1479.0,1415.0,1207.0,1382.0,732.0,567.0,547.0,511.0,386.0,284.0,318.0,120.0,70.0,7.0,1.0,1.0,1.0,2.0,1.0,12.0,15.0,15.0,16.0,31.0,37.0,31.0,47.0,84.0,114.0,513.0,467.0,482.0,457.0,521.0,541.0,491.0,492.0,480.0,428.0,422.0,435.0,430.0,404.0,414.0,423.0,427.0,427.0,437.0,433.0,422.0,393.0,371.0,310.0,315.0,286.0,257.0,205.0,159.0,73.0,22.0,7.0,1.0,0.0,0.0,1.0,1.0,1.0,0.0,-1.0,1.0,2.0,0.0,0.0,1.0,0.0,3.0,5.0,18.0,37.0,53.0,33.0,14.0,27.0,75.0,105.0,94.0,78.0,92.0,133.0,161.0,178.0,193.0,200.0,213.0,223.0,224.0,217.0,214.0,219.0,213.0,209.0,222.0,228.0,224.0,215.0,201.0,183.0,166.0,156.0,145.0,125.0,124.0,107.0,106.0,91.0,74.0,68.0,63.0,50.0,40.0,44.0,35.0,22.0,28.0,22.0,12.0,16.0,11.0,5.0,2.0,0.0]}},\"id\":\"6627fed9-ec42-4b76-95af-dd1781cb3640\",\"type\":\"ColumnDataSource\"},{\"attributes\":{},\"id\":\"feb85822-99f8-4e69-9c94-fab2993bbb4a\",\"type\":\"BasicTickFormatter\"},{\"attributes\":{\"label\":{\"value\":\"A\"},\"renderers\":[{\"id\":\"85176516-1287-459a-a16d-33346ccdc87b\",\"type\":\"GlyphRenderer\"}]},\"id\":\"10450f0f-363b-4659-83fb-1268fd723659\",\"type\":\"LegendItem\"},{\"attributes\":{\"dimension\":1,\"plot\":{\"id\":\"ade46fdd-1758-4ff0-a03a-2ecc9a9ac56f\",\"subtype\":\"Figure\",\"type\":\"Plot\"},\"ticker\":{\"id\":\"161bcb71-4b96-42cd-8abe-c1e9f34e7b3e\",\"type\":\"BasicTicker\"}},\"id\":\"6d9358c5-e2ff-415b-9861-86fd24f283cb\",\"type\":\"Grid\"},{\"attributes\":{\"axis_label\":\"Radiance\",\"formatter\":{\"id\":\"0ea92b71-f966-4208-85ab-23a0c261f11f\",\"type\":\"BasicTickFormatter\"},\"plot\":{\"id\":\"ade46fdd-1758-4ff0-a03a-2ecc9a9ac56f\",\"subtype\":\"Figure\",\"type\":\"Plot\"},\"ticker\":{\"id\":\"161bcb71-4b96-42cd-8abe-c1e9f34e7b3e\",\"type\":\"BasicTicker\"}},\"id\":\"9596bc1b-1846-47e6-be64-611346edbd40\",\"type\":\"LinearAxis\"}],\"root_ids\":[\"ade46fdd-1758-4ff0-a03a-2ecc9a9ac56f\"]},\"title\":\"Bokeh Application\",\"version\":\"0.12.5\"}};\n",
       "            var render_items = [{\"docid\":\"b3ce3bb8-cd8c-4b1c-beab-5945aab512af\",\"elementid\":\"02323bec-8c4d-4f51-8f4b-53065918a75a\",\"modelid\":\"ade46fdd-1758-4ff0-a03a-2ecc9a9ac56f\",\"notebook_comms_target\":\"787e3e0a-3ee3-4cee-a512-d04fe61ad665\"}];\n",
       "            \n",
       "            Bokeh.embed.embed_items(docs_json, render_items);\n",
       "          };\n",
       "          if (document.readyState != \"loading\") fn();\n",
       "          else document.addEventListener(\"DOMContentLoaded\", fn);\n",
       "        })();\n",
       "      },\n",
       "      function(Bokeh) {\n",
       "      }\n",
       "    ];\n",
       "  \n",
       "    function run_inline_js() {\n",
       "      \n",
       "      if ((window.Bokeh !== undefined) || (force === true)) {\n",
       "        for (var i = 0; i < inline_js.length; i++) {\n",
       "          inline_js[i](window.Bokeh);\n",
       "        }if (force === true) {\n",
       "          display_loaded();\n",
       "        }} else if (Date.now() < window._bokeh_timeout) {\n",
       "        setTimeout(run_inline_js, 100);\n",
       "      } else if (!window._bokeh_failed_load) {\n",
       "        console.log(\"Bokeh: BokehJS failed to load within specified timeout.\");\n",
       "        window._bokeh_failed_load = true;\n",
       "      } else if (force !== true) {\n",
       "        var cell = $(document.getElementById(\"02323bec-8c4d-4f51-8f4b-53065918a75a\")).parents('.cell').data().cell;\n",
       "        cell.output_area.append_execute_result(NB_LOAD_WARNING)\n",
       "      }\n",
       "  \n",
       "    }\n",
       "  \n",
       "    if (window._bokeh_is_loading === 0) {\n",
       "      console.log(\"Bokeh: BokehJS loaded, going straight to plotting\");\n",
       "      run_inline_js();\n",
       "    } else {\n",
       "      load_libs(js_urls, function() {\n",
       "        console.log(\"Bokeh: BokehJS plotting callback run at\", now());\n",
       "        run_inline_js();\n",
       "      });\n",
       "    }\n",
       "  }(this));\n",
       "</script>"
      ]
     },
     "metadata": {},
     "output_type": "display_data"
    }
   ],
   "source": [
    "from ipywidgets import Output\n",
    "from IPython.display import display\n",
    "\n",
    "map2 = gis.map('Greenwood, NE', zoomlevel=13)\n",
    "display(map2)"
   ]
  },
  {
   "cell_type": "code",
   "execution_count": 18,
   "metadata": {
    "collapsed": true
   },
   "outputs": [],
   "source": [
    "map2.add_layer(aviris_fcc)"
   ]
  },
  {
   "cell_type": "code",
   "execution_count": 13,
   "metadata": {
    "collapsed": true
   },
   "outputs": [],
   "source": [
    "out = Output()"
   ]
  },
  {
   "cell_type": "markdown",
   "metadata": {},
   "source": [
    "##### drawing logic"
   ]
  },
  {
   "cell_type": "code",
   "execution_count": 14,
   "metadata": {},
   "outputs": [
    {
     "data": {
      "text/html": [
       "\n",
       "    <div class=\"bk-root\">\n",
       "        <a href=\"http://bokeh.pydata.org\" target=\"_blank\" class=\"bk-logo bk-logo-small bk-logo-notebook\"></a>\n",
       "        <span id=\"250e34b2-3fcd-4b17-b710-7ba012f4eca7\">Loading BokehJS ...</span>\n",
       "    </div>"
      ]
     },
     "metadata": {},
     "output_type": "display_data"
    },
    {
     "data": {
      "application/javascript": [
       "\n",
       "(function(global) {\n",
       "  function now() {\n",
       "    return new Date();\n",
       "  }\n",
       "\n",
       "  var force = true;\n",
       "\n",
       "  if (typeof (window._bokeh_onload_callbacks) === \"undefined\" || force === true) {\n",
       "    window._bokeh_onload_callbacks = [];\n",
       "    window._bokeh_is_loading = undefined;\n",
       "  }\n",
       "\n",
       "\n",
       "  \n",
       "  if (typeof (window._bokeh_timeout) === \"undefined\" || force === true) {\n",
       "    window._bokeh_timeout = Date.now() + 5000;\n",
       "    window._bokeh_failed_load = false;\n",
       "  }\n",
       "\n",
       "  var NB_LOAD_WARNING = {'data': {'text/html':\n",
       "     \"<div style='background-color: #fdd'>\\n\"+\n",
       "     \"<p>\\n\"+\n",
       "     \"BokehJS does not appear to have successfully loaded. If loading BokehJS from CDN, this \\n\"+\n",
       "     \"may be due to a slow or bad network connection. Possible fixes:\\n\"+\n",
       "     \"</p>\\n\"+\n",
       "     \"<ul>\\n\"+\n",
       "     \"<li>re-rerun `output_notebook()` to attempt to load from CDN again, or</li>\\n\"+\n",
       "     \"<li>use INLINE resources instead, as so:</li>\\n\"+\n",
       "     \"</ul>\\n\"+\n",
       "     \"<code>\\n\"+\n",
       "     \"from bokeh.resources import INLINE\\n\"+\n",
       "     \"output_notebook(resources=INLINE)\\n\"+\n",
       "     \"</code>\\n\"+\n",
       "     \"</div>\"}};\n",
       "\n",
       "  function display_loaded() {\n",
       "    if (window.Bokeh !== undefined) {\n",
       "      var el = document.getElementById(\"250e34b2-3fcd-4b17-b710-7ba012f4eca7\");\n",
       "      el.textContent = \"BokehJS \" + Bokeh.version + \" successfully loaded.\";\n",
       "    } else if (Date.now() < window._bokeh_timeout) {\n",
       "      setTimeout(display_loaded, 100)\n",
       "    }\n",
       "  }\n",
       "\n",
       "  function run_callbacks() {\n",
       "    window._bokeh_onload_callbacks.forEach(function(callback) { callback() });\n",
       "    delete window._bokeh_onload_callbacks\n",
       "    console.info(\"Bokeh: all callbacks have finished\");\n",
       "  }\n",
       "\n",
       "  function load_libs(js_urls, callback) {\n",
       "    window._bokeh_onload_callbacks.push(callback);\n",
       "    if (window._bokeh_is_loading > 0) {\n",
       "      console.log(\"Bokeh: BokehJS is being loaded, scheduling callback at\", now());\n",
       "      return null;\n",
       "    }\n",
       "    if (js_urls == null || js_urls.length === 0) {\n",
       "      run_callbacks();\n",
       "      return null;\n",
       "    }\n",
       "    console.log(\"Bokeh: BokehJS not loaded, scheduling load and callback at\", now());\n",
       "    window._bokeh_is_loading = js_urls.length;\n",
       "    for (var i = 0; i < js_urls.length; i++) {\n",
       "      var url = js_urls[i];\n",
       "      var s = document.createElement('script');\n",
       "      s.src = url;\n",
       "      s.async = false;\n",
       "      s.onreadystatechange = s.onload = function() {\n",
       "        window._bokeh_is_loading--;\n",
       "        if (window._bokeh_is_loading === 0) {\n",
       "          console.log(\"Bokeh: all BokehJS libraries loaded\");\n",
       "          run_callbacks()\n",
       "        }\n",
       "      };\n",
       "      s.onerror = function() {\n",
       "        console.warn(\"failed to load library \" + url);\n",
       "      };\n",
       "      console.log(\"Bokeh: injecting script tag for BokehJS library: \", url);\n",
       "      document.getElementsByTagName(\"head\")[0].appendChild(s);\n",
       "    }\n",
       "  };var element = document.getElementById(\"250e34b2-3fcd-4b17-b710-7ba012f4eca7\");\n",
       "  if (element == null) {\n",
       "    console.log(\"Bokeh: ERROR: autoload.js configured with elementid '250e34b2-3fcd-4b17-b710-7ba012f4eca7' but no matching script tag was found. \")\n",
       "    return false;\n",
       "  }\n",
       "\n",
       "  var js_urls = [\"https://cdn.pydata.org/bokeh/release/bokeh-0.12.5.min.js\", \"https://cdn.pydata.org/bokeh/release/bokeh-widgets-0.12.5.min.js\"];\n",
       "\n",
       "  var inline_js = [\n",
       "    function(Bokeh) {\n",
       "      Bokeh.set_log_level(\"info\");\n",
       "    },\n",
       "    \n",
       "    function(Bokeh) {\n",
       "      \n",
       "    },\n",
       "    \n",
       "    function(Bokeh) {\n",
       "      \n",
       "      document.getElementById(\"250e34b2-3fcd-4b17-b710-7ba012f4eca7\").textContent = \"BokehJS is loading...\";\n",
       "    },\n",
       "    function(Bokeh) {\n",
       "      console.log(\"Bokeh: injecting CSS: https://cdn.pydata.org/bokeh/release/bokeh-0.12.5.min.css\");\n",
       "      Bokeh.embed.inject_css(\"https://cdn.pydata.org/bokeh/release/bokeh-0.12.5.min.css\");\n",
       "      console.log(\"Bokeh: injecting CSS: https://cdn.pydata.org/bokeh/release/bokeh-widgets-0.12.5.min.css\");\n",
       "      Bokeh.embed.inject_css(\"https://cdn.pydata.org/bokeh/release/bokeh-widgets-0.12.5.min.css\");\n",
       "    }\n",
       "  ];\n",
       "\n",
       "  function run_inline_js() {\n",
       "    \n",
       "    if ((window.Bokeh !== undefined) || (force === true)) {\n",
       "      for (var i = 0; i < inline_js.length; i++) {\n",
       "        inline_js[i](window.Bokeh);\n",
       "      }if (force === true) {\n",
       "        display_loaded();\n",
       "      }} else if (Date.now() < window._bokeh_timeout) {\n",
       "      setTimeout(run_inline_js, 100);\n",
       "    } else if (!window._bokeh_failed_load) {\n",
       "      console.log(\"Bokeh: BokehJS failed to load within specified timeout.\");\n",
       "      window._bokeh_failed_load = true;\n",
       "    } else if (force !== true) {\n",
       "      var cell = $(document.getElementById(\"250e34b2-3fcd-4b17-b710-7ba012f4eca7\")).parents('.cell').data().cell;\n",
       "      cell.output_area.append_execute_result(NB_LOAD_WARNING)\n",
       "    }\n",
       "\n",
       "  }\n",
       "\n",
       "  if (window._bokeh_is_loading === 0) {\n",
       "    console.log(\"Bokeh: BokehJS loaded, going straight to plotting\");\n",
       "    run_inline_js();\n",
       "  } else {\n",
       "    load_libs(js_urls, function() {\n",
       "      console.log(\"Bokeh: BokehJS plotting callback run at\", now());\n",
       "      run_inline_js();\n",
       "    });\n",
       "  }\n",
       "}(this));"
      ]
     },
     "metadata": {},
     "output_type": "display_data"
    }
   ],
   "source": [
    "from bokeh.io import show, output_notebook, push_notebook\n",
    "from bokeh.plotting import figure\n",
    "from IPython.display import clear_output\n",
    "output_notebook()"
   ]
  },
  {
   "cell_type": "code",
   "execution_count": 15,
   "metadata": {
    "collapsed": true
   },
   "outputs": [],
   "source": [
    "symbol_list = [{\"angle\":0,\"xoffset\":0,\"yoffset\":8.15625,\"type\":\"esriPMS\",\"url\":\"http://static.arcgis.com/images/Symbols/AtoZ/blueA.png\",\"contentType\":\"image/png\",\"width\":14,\"height\":22},\n",
    "              {\"angle\":0,\"xoffset\":0,\"yoffset\":8.15625,\"type\":\"esriPMS\",\"url\":\"http://static.arcgis.com/images/Symbols/AtoZ/blueB.png\",\"contentType\":\"image/png\",\"width\":14,\"height\":22},\n",
    "              {\"angle\":0,\"xoffset\":0,\"yoffset\":8.15625,\"type\":\"esriPMS\",\"url\":\"http://static.arcgis.com/images/Symbols/AtoZ/blueC.png\",\"contentType\":\"image/png\",\"width\":14,\"height\":22},\n",
    "              {\"angle\":0,\"xoffset\":0,\"yoffset\":8.15625,\"type\":\"esriPMS\",\"url\":\"http://static.arcgis.com/images/Symbols/AtoZ/blueD.png\",\"contentType\":\"image/png\",\"width\":14,\"height\":22},\n",
    "              {\"angle\":0,\"xoffset\":0,\"yoffset\":8.15625,\"type\":\"esriPMS\",\"url\":\"http://static.arcgis.com/images/Symbols/AtoZ/blueE.png\",\"contentType\":\"image/png\",\"width\":14,\"height\":22},\n",
    "              {\"angle\":0,\"xoffset\":0,\"yoffset\":8.15625,\"type\":\"esriPMS\",\"url\":\"http://static.arcgis.com/images/Symbols/AtoZ/blueF.png\",\"contentType\":\"image/png\",\"width\":14,\"height\":22},\n",
    "              {\"angle\":0,\"xoffset\":0,\"yoffset\":8.15625,\"type\":\"esriPMS\",\"url\":\"http://static.arcgis.com/images/Symbols/AtoZ/blueG.png\",\"contentType\":\"image/png\",\"width\":14,\"height\":22},\n",
    "              {\"angle\":0,\"xoffset\":0,\"yoffset\":8.15625,\"type\":\"esriPMS\",\"url\":\"http://static.arcgis.com/images/Symbols/AtoZ/blueH.png\",\"contentType\":\"image/png\",\"width\":14,\"height\":22},\n",
    "              {\"angle\":0,\"xoffset\":0,\"yoffset\":8.15625,\"type\":\"esriPMS\",\"url\":\"http://static.arcgis.com/images/Symbols/AtoZ/blueI.png\",\"contentType\":\"image/png\",\"width\":14,\"height\":22},\n",
    "              {\"angle\":0,\"xoffset\":0,\"yoffset\":8.15625,\"type\":\"esriPMS\",\"url\":\"http://static.arcgis.com/images/Symbols/AtoZ/blueJ.png\",\"contentType\":\"image/png\",\"width\":14,\"height\":22},\n",
    "              {\"angle\":0,\"xoffset\":0,\"yoffset\":8.15625,\"type\":\"esriPMS\",\"url\":\"http://static.arcgis.com/images/Symbols/AtoZ/blueK.png\",\"contentType\":\"image/png\",\"width\":14,\"height\":22}]\n",
    "legend_list = ['A','B','C','D','E','F','G','H','I','J']\n",
    "bokeh_colors=['blue','blueviolet','brown',\n",
    "              'burlywood','cadetblue','chartreuse',\n",
    "              'chocolate','coral','cornflowerblue',\n",
    "             'cyan','darkblue']\n",
    "x_axis = [float(s['wavelength']) for s in aviris_bands]"
   ]
  },
  {
   "cell_type": "code",
   "execution_count": 19,
   "metadata": {
    "collapsed": true
   },
   "outputs": [],
   "source": [
    "i = 0\n",
    "p = figure(title=\"Spectral Profile\", x_axis_label='Wavelengths', \n",
    "           y_axis_label='Radiance', width=600, height=300)\n",
    "\n",
    "def plot_reflectance_curves(map_handle, clicked_point):\n",
    "    global i, p\n",
    "    if i>0:\n",
    "#           out.clear_output()\n",
    "        clear_output()\n",
    "#     print(i)\n",
    "\n",
    "    # Get cell value from imagery layer\n",
    "    image_data = aviris_layer.get_samples(clicked_point)\n",
    "    radiance_values = image_data[0]['values']\n",
    "\n",
    "    # choose symbol\n",
    "    map_handle.draw(clicked_point, symbol = symbol_list[i])\n",
    "        \n",
    "    lines = p.line(x_axis, radiance_values, legend=legend_list[i], line_color=bokeh_colors[i], line_width=2)\n",
    "    curve_handle = show(p, notebook_handle=True)\n",
    "\n",
    "#     if i>0:\n",
    "#         push_notebook(handle=curve_handle)\n",
    "    \n",
    "    i = i+1\n",
    "#     print(i)\n",
    "    \n",
    "map2.on_click(plot_reflectance_curves)"
   ]
  },
  {
   "cell_type": "code",
   "execution_count": null,
   "metadata": {
    "collapsed": true
   },
   "outputs": [],
   "source": []
  }
 ],
 "metadata": {
  "kernelspec": {
   "display_name": "Python 3",
   "language": "python",
   "name": "python3"
  },
  "language_info": {
   "codemirror_mode": {
    "name": "ipython",
    "version": 3
   },
   "file_extension": ".py",
   "mimetype": "text/x-python",
   "name": "python",
   "nbconvert_exporter": "python",
   "pygments_lexer": "ipython3",
   "version": "3.5.2"
  },
  "widgets": {
   "state": {
    "5087318b038f4946b17b4336082b6a82": {
     "views": [
      {
       "cell_index": 14
      }
     ]
    },
    "cdb1b748cb754a17a5f9b8a526be7fd6": {
     "views": [
      {
       "cell_index": 4
      }
     ]
    }
   },
   "version": "1.2.0"
  }
 },
 "nbformat": 4,
 "nbformat_minor": 2
}
