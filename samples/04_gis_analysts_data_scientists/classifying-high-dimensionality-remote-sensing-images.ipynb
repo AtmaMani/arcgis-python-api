{
 "cells": [
  {
   "cell_type": "markdown",
   "metadata": {},
   "source": [
    "# Classifying high dimensionality remote sensing images\n",
    "\n",
    "## Intro to hyperspectral remote sensing\n",
    "Insert graphic of cube, explanative text"
   ]
  },
  {
   "cell_type": "code",
   "execution_count": 1,
   "metadata": {
    "collapsed": true
   },
   "outputs": [],
   "source": [
    "from arcgis.gis import GIS\n",
    "from arcgis import raster"
   ]
  },
  {
   "cell_type": "code",
   "execution_count": 2,
   "metadata": {},
   "outputs": [
    {
     "name": "stdout",
     "output_type": "stream",
     "text": [
      "Enter password: ········\n"
     ]
    }
   ],
   "source": [
    "gis = GIS(\"https://dev0001902.esri.com/portal\",\"admin\", verify_cert=False)"
   ]
  },
  {
   "cell_type": "code",
   "execution_count": 3,
   "metadata": {},
   "outputs": [
    {
     "data": {
      "text/html": [
       "<div class=\"item_container\" style=\"height: auto; overflow: hidden; border: 1px solid #cfcfcf; border-radius: 2px; background: #f6fafa; line-height: 1.21429em; padding: 10px;\">\n",
       "                    <div class=\"item_left\" style=\"width: 210px; float: left;\">\n",
       "                       <a href='https://dev0001902.esri.com/portal/home/item.html?id=596098ec0e834e7d9f8e81e14de14ef2' target='_blank'>\n",
       "                        <img src='https://dev0001902.esri.com/portal/portalimages/desktopapp.png' class=\"itemThumbnail\">\n",
       "                       </a>\n",
       "                    </div>\n",
       "\n",
       "                    <div class=\"item_right\"     style=\"float: none; width: auto; overflow: hidden;\">\n",
       "                        <a href='https://dev0001902.esri.com/portal/home/item.html?id=596098ec0e834e7d9f8e81e14de14ef2' target='_blank'><b>omaha_aviris_wv</b>\n",
       "                        </a>\n",
       "                        <br/>AVIRIS image of Omaha with wavelengths<img src='https://dev0001902.esri.com/portal/home/js/jsapi/esri/css/images/item_type_icons/imagery16.png' style=\"vertical-align:middle;\">Imagery Layer by admin\n",
       "                        <br/>Last Modified: March 29, 2018\n",
       "                        <br/>0 comments, 1 views\n",
       "                    </div>\n",
       "                </div>\n",
       "                "
      ],
      "text/plain": [
       "<Item title:\"omaha_aviris_wv\" type:Imagery Layer owner:admin>"
      ]
     },
     "execution_count": 3,
     "metadata": {},
     "output_type": "execute_result"
    }
   ],
   "source": [
    "aviris_item = gis.content.get('596098ec0e834e7d9f8e81e14de14ef2')\n",
    "aviris_item"
   ]
  },
  {
   "cell_type": "code",
   "execution_count": 5,
   "metadata": {},
   "outputs": [
    {
     "data": {
      "application/vnd.jupyter.widget-view+json": {
       "model_id": "bf96d3e7575441e3b7086d7873da2307"
      }
     },
     "metadata": {},
     "output_type": "display_data"
    }
   ],
   "source": [
    "map1 = gis.map('Omaha, NE')\n",
    "map1"
   ]
  },
  {
   "cell_type": "code",
   "execution_count": 6,
   "metadata": {
    "collapsed": true
   },
   "outputs": [],
   "source": [
    "map1.add_layer(aviris_item)"
   ]
  },
  {
   "cell_type": "markdown",
   "metadata": {},
   "source": [
    "## Draw using false color composite"
   ]
  },
  {
   "cell_type": "markdown",
   "metadata": {},
   "source": [
    "### Get AVIRIS band wavelengths"
   ]
  },
  {
   "cell_type": "code",
   "execution_count": 4,
   "metadata": {},
   "outputs": [
    {
     "data": {
      "text/plain": [
       "224"
      ]
     },
     "execution_count": 4,
     "metadata": {},
     "output_type": "execute_result"
    }
   ],
   "source": [
    "aviris_layer = aviris_item.layers[0]\n",
    "aviris_bands = aviris_layer.key_properties()['BandProperties']\n",
    "len(aviris_bands)"
   ]
  },
  {
   "cell_type": "code",
   "execution_count": 5,
   "metadata": {},
   "outputs": [
    {
     "data": {
      "text/plain": [
       "'365.9298'"
      ]
     },
     "execution_count": 5,
     "metadata": {},
     "output_type": "execute_result"
    }
   ],
   "source": [
    "aviris_bands[0]['wavelength']"
   ]
  },
  {
   "cell_type": "code",
   "execution_count": 6,
   "metadata": {},
   "outputs": [
    {
     "data": {
      "text/plain": [
       "'2497.036'"
      ]
     },
     "execution_count": 6,
     "metadata": {},
     "output_type": "execute_result"
    }
   ],
   "source": [
    "aviris_bands[-1]['wavelength']"
   ]
  },
  {
   "cell_type": "code",
   "execution_count": 7,
   "metadata": {},
   "outputs": [
    {
     "ename": "NameError",
     "evalue": "name 'map1' is not defined",
     "output_type": "error",
     "traceback": [
      "\u001b[0;31m---------------------------------------------------------------------------\u001b[0m",
      "\u001b[0;31mNameError\u001b[0m                                 Traceback (most recent call last)",
      "\u001b[0;32m<ipython-input-7-9e60e11ff448>\u001b[0m in \u001b[0;36m<module>\u001b[0;34m()\u001b[0m\n\u001b[1;32m      2\u001b[0m aviris_fcc = raster.stretch(raster = raster.extract_band(aviris_layer, band_wavelengths=[831, 665.0994, 560]),\n\u001b[1;32m      3\u001b[0m                             stretch_type='histogram')\n\u001b[0;32m----> 4\u001b[0;31m \u001b[0mmap1\u001b[0m\u001b[0;34m.\u001b[0m\u001b[0mremove_layers\u001b[0m\u001b[0;34m(\u001b[0m\u001b[0;34m)\u001b[0m\u001b[0;34m\u001b[0m\u001b[0m\n\u001b[0m\u001b[1;32m      5\u001b[0m \u001b[0mmap1\u001b[0m\u001b[0;34m.\u001b[0m\u001b[0madd_layer\u001b[0m\u001b[0;34m(\u001b[0m\u001b[0maviris_fcc\u001b[0m\u001b[0;34m)\u001b[0m\u001b[0;34m\u001b[0m\u001b[0m\n",
      "\u001b[0;31mNameError\u001b[0m: name 'map1' is not defined"
     ]
    }
   ],
   "source": [
    "aviris_layer = aviris_item.layers[0]\n",
    "aviris_fcc = raster.stretch(raster = raster.extract_band(aviris_layer, band_wavelengths=[831, 665.0994, 560]),\n",
    "                            stretch_type='histogram')\n",
    "map1.remove_layers()\n",
    "map1.add_layer(aviris_fcc)"
   ]
  },
  {
   "cell_type": "markdown",
   "metadata": {},
   "source": [
    "## Get spectral signature from the remotely sensed image"
   ]
  },
  {
   "cell_type": "code",
   "execution_count": 8,
   "metadata": {},
   "outputs": [
    {
     "data": {
      "text/html": [
       "\n",
       "\n",
       "    <div class=\"bk-root\">\n",
       "        <div class=\"bk-plotdiv\" id=\"cb444d73-0ddb-48d9-9c3b-bb7fa006abce\"></div>\n",
       "    </div>\n",
       "<script type=\"text/javascript\">\n",
       "  \n",
       "  (function(global) {\n",
       "    function now() {\n",
       "      return new Date();\n",
       "    }\n",
       "  \n",
       "    var force = false;\n",
       "  \n",
       "    if (typeof (window._bokeh_onload_callbacks) === \"undefined\" || force === true) {\n",
       "      window._bokeh_onload_callbacks = [];\n",
       "      window._bokeh_is_loading = undefined;\n",
       "    }\n",
       "  \n",
       "  \n",
       "    \n",
       "    if (typeof (window._bokeh_timeout) === \"undefined\" || force === true) {\n",
       "      window._bokeh_timeout = Date.now() + 0;\n",
       "      window._bokeh_failed_load = false;\n",
       "    }\n",
       "  \n",
       "    var NB_LOAD_WARNING = {'data': {'text/html':\n",
       "       \"<div style='background-color: #fdd'>\\n\"+\n",
       "       \"<p>\\n\"+\n",
       "       \"BokehJS does not appear to have successfully loaded. If loading BokehJS from CDN, this \\n\"+\n",
       "       \"may be due to a slow or bad network connection. Possible fixes:\\n\"+\n",
       "       \"</p>\\n\"+\n",
       "       \"<ul>\\n\"+\n",
       "       \"<li>re-rerun `output_notebook()` to attempt to load from CDN again, or</li>\\n\"+\n",
       "       \"<li>use INLINE resources instead, as so:</li>\\n\"+\n",
       "       \"</ul>\\n\"+\n",
       "       \"<code>\\n\"+\n",
       "       \"from bokeh.resources import INLINE\\n\"+\n",
       "       \"output_notebook(resources=INLINE)\\n\"+\n",
       "       \"</code>\\n\"+\n",
       "       \"</div>\"}};\n",
       "  \n",
       "    function display_loaded() {\n",
       "      if (window.Bokeh !== undefined) {\n",
       "        var el = document.getElementById(\"cb444d73-0ddb-48d9-9c3b-bb7fa006abce\");\n",
       "        el.textContent = \"BokehJS \" + Bokeh.version + \" successfully loaded.\";\n",
       "      } else if (Date.now() < window._bokeh_timeout) {\n",
       "        setTimeout(display_loaded, 100)\n",
       "      }\n",
       "    }\n",
       "  \n",
       "    function run_callbacks() {\n",
       "      window._bokeh_onload_callbacks.forEach(function(callback) { callback() });\n",
       "      delete window._bokeh_onload_callbacks\n",
       "      console.info(\"Bokeh: all callbacks have finished\");\n",
       "    }\n",
       "  \n",
       "    function load_libs(js_urls, callback) {\n",
       "      window._bokeh_onload_callbacks.push(callback);\n",
       "      if (window._bokeh_is_loading > 0) {\n",
       "        console.log(\"Bokeh: BokehJS is being loaded, scheduling callback at\", now());\n",
       "        return null;\n",
       "      }\n",
       "      if (js_urls == null || js_urls.length === 0) {\n",
       "        run_callbacks();\n",
       "        return null;\n",
       "      }\n",
       "      console.log(\"Bokeh: BokehJS not loaded, scheduling load and callback at\", now());\n",
       "      window._bokeh_is_loading = js_urls.length;\n",
       "      for (var i = 0; i < js_urls.length; i++) {\n",
       "        var url = js_urls[i];\n",
       "        var s = document.createElement('script');\n",
       "        s.src = url;\n",
       "        s.async = false;\n",
       "        s.onreadystatechange = s.onload = function() {\n",
       "          window._bokeh_is_loading--;\n",
       "          if (window._bokeh_is_loading === 0) {\n",
       "            console.log(\"Bokeh: all BokehJS libraries loaded\");\n",
       "            run_callbacks()\n",
       "          }\n",
       "        };\n",
       "        s.onerror = function() {\n",
       "          console.warn(\"failed to load library \" + url);\n",
       "        };\n",
       "        console.log(\"Bokeh: injecting script tag for BokehJS library: \", url);\n",
       "        document.getElementsByTagName(\"head\")[0].appendChild(s);\n",
       "      }\n",
       "    };var element = document.getElementById(\"cb444d73-0ddb-48d9-9c3b-bb7fa006abce\");\n",
       "    if (element == null) {\n",
       "      console.log(\"Bokeh: ERROR: autoload.js configured with elementid 'cb444d73-0ddb-48d9-9c3b-bb7fa006abce' but no matching script tag was found. \")\n",
       "      return false;\n",
       "    }\n",
       "  \n",
       "    var js_urls = [];\n",
       "  \n",
       "    var inline_js = [\n",
       "      function(Bokeh) {\n",
       "        (function() {\n",
       "          var fn = function() {\n",
       "            var docs_json = {\"1d5424f0-42ac-477b-8e98-9c49a1facd3a\":{\"roots\":{\"references\":[{\"attributes\":{},\"id\":\"f6279469-b40a-4472-ad22-45a2df037478\",\"type\":\"BasicTicker\"},{\"attributes\":{\"callback\":null,\"column_names\":[\"x\",\"y\"],\"data\":{\"x\":[365.9298,375.594,385.2625,394.9355,404.6129,414.2946,423.9808,433.6713,443.3662,453.0655,462.7692,472.4773,482.1898,491.9066,501.6279,511.3535,521.0836,530.818,540.5568,550.3,560.0477,569.7996,579.556,589.3168,599.0819,608.8515,618.6254,628.4037,638.1865,647.9736,657.7651,667.561,655.2923,665.0994,674.9012,684.6979,694.4894,704.2756,714.0566,723.8325,733.6031,743.3685,753.1287,762.8837,772.6335,782.3781,792.1174,801.8516,811.5805,821.3043,831.0228,840.7361,850.4442,860.1471,869.8448,879.5372,889.2245,898.9066,908.5834,918.2551,927.9214,937.5827,947.2387,956.8895,966.5351,976.1755,985.8106,995.4406,1005.065,1014.685,1024.299,1033.908,1043.512,1053.111,1062.704,1072.293,1081.876,1091.454,1101.026,1110.594,1120.156,1129.713,1139.265,1148.811,1158.353,1167.889,1177.42,1186.946,1196.466,1205.982,1215.492,1224.997,1234.496,1243.991,1253.48,1262.964,1253.373,1263.346,1273.318,1283.291,1293.262,1303.234,1313.206,1323.177,1333.148,1343.119,1353.089,1363.06,1373.03,1383.0,1392.969,1402.939,1412.908,1422.877,1432.845,1442.814,1452.782,1462.75,1472.718,1482.685,1492.652,1502.619,1512.586,1522.552,1532.518,1542.484,1552.45,1562.416,1572.381,1582.346,1592.311,1602.275,1612.24,1622.204,1632.167,1642.131,1652.094,1662.057,1672.02,1681.983,1691.945,1701.907,1711.869,1721.831,1731.792,1741.753,1751.714,1761.675,1771.635,1781.596,1791.556,1801.515,1811.475,1821.434,1831.393,1841.352,1851.31,1861.269,1871.227,1873.184,1867.664,1877.725,1887.785,1897.842,1907.896,1917.948,1927.999,1938.046,1948.092,1958.135,1968.175,1978.214,1988.25,1998.284,2008.315,2018.345,2028.372,2038.396,2048.419,2058.439,2068.456,2078.472,2088.485,2098.496,2108.504,2118.51,2128.514,2138.516,2148.515,2158.512,2168.507,2178.499,2188.489,2198.477,2208.462,2218.445,2228.426,2238.405,2248.381,2258.354,2268.326,2278.295,2288.262,2298.227,2308.189,2318.149,2328.107,2338.062,2348.016,2357.967,2367.915,2377.861,2387.805,2397.747,2407.686,2417.623,2427.558,2437.49,2447.42,2457.348,2467.273,2477.196,2487.117,2497.036],\"y\":[1034.0,1157.0,1177.0,1419.0,1993.0,2068.0,1951.0,1856.0,2047.0,2123.0,2078.0,1998.0,1929.0,1824.0,1775.0,1751.0,1694.0,1729.0,1763.0,1765.0,1711.0,1668.0,1637.0,1587.0,1584.0,1576.0,1541.0,1506.0,1523.0,1496.0,1472.0,1527.0,1447.0,1502.0,1504.0,1383.0,1427.0,1579.0,1571.0,1481.0,1738.0,1964.0,1941.0,1261.0,1881.0,2005.0,1925.0,1897.0,1747.0,1525.0,1632.0,1802.0,1828.0,1820.0,1816.0,1814.0,1744.0,1424.0,1279.0,1210.0,1075.0,565.0,537.0,718.0,1128.0,1285.0,1529.0,1587.0,1568.0,1578.0,1565.0,1544.0,1530.0,1494.0,1441.0,1409.0,1331.0,1252.0,1040.0,703.0,240.0,224.0,340.0,324.0,593.0,870.0,938.0,943.0,982.0,972.0,1032.0,1087.0,1131.0,1128.0,1080.0,924.0,1061.0,557.0,435.0,423.0,403.0,314.0,238.0,276.0,110.0,67.0,7.0,2.0,1.0,1.0,4.0,3.0,23.0,35.0,42.0,52.0,112.0,130.0,103.0,149.0,267.0,345.0,1451.0,1247.0,1208.0,1078.0,1156.0,1155.0,996.0,955.0,902.0,780.0,750.0,753.0,733.0,677.0,691.0,704.0,707.0,710.0,739.0,738.0,734.0,694.0,666.0,575.0,596.0,563.0,508.0,405.0,311.0,134.0,38.0,13.0,1.0,1.0,0.0,0.0,1.0,0.0,0.0,3.0,2.0,3.0,0.0,1.0,2.0,10.0,34.0,65.0,242.0,463.0,597.0,367.0,141.0,246.0,615.0,818.0,682.0,523.0,573.0,757.0,861.0,899.0,920.0,911.0,934.0,945.0,905.0,856.0,814.0,812.0,766.0,730.0,760.0,795.0,778.0,756.0,727.0,687.0,658.0,642.0,612.0,553.0,587.0,511.0,518.0,468.0,383.0,393.0,359.0,294.0,265.0,294.0,239.0,164.0,232.0,181.0,115.0,138.0,112.0,55.0,13.0,16.0]}},\"id\":\"968d592d-766b-41d0-a541-4917ac4840e1\",\"type\":\"ColumnDataSource\"},{\"attributes\":{\"dimension\":1,\"plot\":{\"id\":\"0ae95964-67d3-4b1e-a930-67c3f35ac662\",\"subtype\":\"Figure\",\"type\":\"Plot\"},\"ticker\":{\"id\":\"f6279469-b40a-4472-ad22-45a2df037478\",\"type\":\"BasicTicker\"}},\"id\":\"9071e185-4e4c-4ffa-983e-7fe0af1f0063\",\"type\":\"Grid\"},{\"attributes\":{},\"id\":\"98a8b445-b7ee-4787-be8e-fd3aa22e8b0e\",\"type\":\"ToolEvents\"},{\"attributes\":{\"plot\":{\"id\":\"0ae95964-67d3-4b1e-a930-67c3f35ac662\",\"subtype\":\"Figure\",\"type\":\"Plot\"}},\"id\":\"c6a94e44-772e-402a-bd25-f3006805c4ca\",\"type\":\"PanTool\"},{\"attributes\":{\"line_color\":{\"value\":\"red\"},\"line_width\":{\"value\":2},\"x\":{\"field\":\"x\"},\"y\":{\"field\":\"y\"}},\"id\":\"bb3f44c3-820d-404d-9a06-303bdb2a0d66\",\"type\":\"Line\"},{\"attributes\":{\"callback\":null},\"id\":\"fa895d99-942d-4430-91a2-556637da7b7f\",\"type\":\"DataRange1d\"},{\"attributes\":{\"plot\":{\"id\":\"0ae95964-67d3-4b1e-a930-67c3f35ac662\",\"subtype\":\"Figure\",\"type\":\"Plot\"}},\"id\":\"17f38f7a-9ac8-4c45-8e6d-3e83eb0f42c3\",\"type\":\"WheelZoomTool\"},{\"attributes\":{},\"id\":\"ba6c9ec4-3117-48c9-88bb-2560955eeac9\",\"type\":\"BasicTickFormatter\"},{\"attributes\":{\"overlay\":{\"id\":\"41da58f1-472c-449f-9ad1-58e9b7c822e4\",\"type\":\"BoxAnnotation\"},\"plot\":{\"id\":\"0ae95964-67d3-4b1e-a930-67c3f35ac662\",\"subtype\":\"Figure\",\"type\":\"Plot\"}},\"id\":\"3bd96bd4-79ed-43a8-833c-29fcd003047f\",\"type\":\"BoxZoomTool\"},{\"attributes\":{\"callback\":null},\"id\":\"cb8bf276-ecd5-4493-b19b-4df6f876e332\",\"type\":\"DataRange1d\"},{\"attributes\":{\"data_source\":{\"id\":\"968d592d-766b-41d0-a541-4917ac4840e1\",\"type\":\"ColumnDataSource\"},\"glyph\":{\"id\":\"75a4b576-aa02-495a-a73f-f0e7a876e4f7\",\"type\":\"Circle\"},\"hover_glyph\":null,\"muted_glyph\":null,\"nonselection_glyph\":{\"id\":\"c6623bd4-054b-4b02-8ddc-464af900ae67\",\"type\":\"Circle\"},\"selection_glyph\":null},\"id\":\"553f4781-48f9-4567-ab08-899bacc276a3\",\"type\":\"GlyphRenderer\"},{\"attributes\":{\"fill_alpha\":{\"value\":0.1},\"fill_color\":{\"value\":\"#1f77b4\"},\"line_alpha\":{\"value\":0.1},\"line_color\":{\"value\":\"#1f77b4\"},\"size\":{\"units\":\"screen\",\"value\":8},\"x\":{\"field\":\"x\"},\"y\":{\"field\":\"y\"}},\"id\":\"c6623bd4-054b-4b02-8ddc-464af900ae67\",\"type\":\"Circle\"},{\"attributes\":{\"fill_color\":{\"value\":\"white\"},\"line_color\":{\"value\":\"red\"},\"size\":{\"units\":\"screen\",\"value\":8},\"x\":{\"field\":\"x\"},\"y\":{\"field\":\"y\"}},\"id\":\"75a4b576-aa02-495a-a73f-f0e7a876e4f7\",\"type\":\"Circle\"},{\"attributes\":{\"axis_label\":\"Wavelengths\",\"formatter\":{\"id\":\"3118f708-3d3a-4630-a17d-175fad611dd2\",\"type\":\"BasicTickFormatter\"},\"plot\":{\"id\":\"0ae95964-67d3-4b1e-a930-67c3f35ac662\",\"subtype\":\"Figure\",\"type\":\"Plot\"},\"ticker\":{\"id\":\"eae4a273-b08f-4200-920f-434b6bb74717\",\"type\":\"BasicTicker\"}},\"id\":\"be9f5bfc-d353-4aa6-ac4e-5d58a4256857\",\"type\":\"LinearAxis\"},{\"attributes\":{},\"id\":\"eae4a273-b08f-4200-920f-434b6bb74717\",\"type\":\"BasicTicker\"},{\"attributes\":{\"plot\":{\"id\":\"0ae95964-67d3-4b1e-a930-67c3f35ac662\",\"subtype\":\"Figure\",\"type\":\"Plot\"},\"ticker\":{\"id\":\"eae4a273-b08f-4200-920f-434b6bb74717\",\"type\":\"BasicTicker\"}},\"id\":\"2095a874-9e57-4854-aa30-aa3c6656f10f\",\"type\":\"Grid\"},{\"attributes\":{\"data_source\":{\"id\":\"98001ae9-dc5d-4690-9e11-de61bcc85598\",\"type\":\"ColumnDataSource\"},\"glyph\":{\"id\":\"bb3f44c3-820d-404d-9a06-303bdb2a0d66\",\"type\":\"Line\"},\"hover_glyph\":null,\"muted_glyph\":null,\"nonselection_glyph\":{\"id\":\"205419f0-cb03-41ad-b525-a8066a228238\",\"type\":\"Line\"},\"selection_glyph\":null},\"id\":\"021d59ee-9ed8-4581-8bfb-9679dca761f5\",\"type\":\"GlyphRenderer\"},{\"attributes\":{\"line_alpha\":{\"value\":0.1},\"line_color\":{\"value\":\"#1f77b4\"},\"line_width\":{\"value\":2},\"x\":{\"field\":\"x\"},\"y\":{\"field\":\"y\"}},\"id\":\"205419f0-cb03-41ad-b525-a8066a228238\",\"type\":\"Line\"},{\"attributes\":{},\"id\":\"3118f708-3d3a-4630-a17d-175fad611dd2\",\"type\":\"BasicTickFormatter\"},{\"attributes\":{\"active_drag\":\"auto\",\"active_scroll\":\"auto\",\"active_tap\":\"auto\",\"tools\":[{\"id\":\"c6a94e44-772e-402a-bd25-f3006805c4ca\",\"type\":\"PanTool\"},{\"id\":\"17f38f7a-9ac8-4c45-8e6d-3e83eb0f42c3\",\"type\":\"WheelZoomTool\"},{\"id\":\"3bd96bd4-79ed-43a8-833c-29fcd003047f\",\"type\":\"BoxZoomTool\"},{\"id\":\"4d71eb42-66c8-47cc-9444-83a3546848cd\",\"type\":\"SaveTool\"},{\"id\":\"ce8c005a-dad2-4b0e-853c-9ef83ed845fc\",\"type\":\"ResetTool\"},{\"id\":\"9b573e6e-c8f0-432d-8d97-240c9586ae18\",\"type\":\"HelpTool\"}]},\"id\":\"f57be8d9-6d0f-45d3-a837-e73c9f4dacde\",\"type\":\"Toolbar\"},{\"attributes\":{\"plot\":{\"id\":\"0ae95964-67d3-4b1e-a930-67c3f35ac662\",\"subtype\":\"Figure\",\"type\":\"Plot\"}},\"id\":\"4d71eb42-66c8-47cc-9444-83a3546848cd\",\"type\":\"SaveTool\"},{\"attributes\":{\"axis_label\":\"Radiance\",\"formatter\":{\"id\":\"ba6c9ec4-3117-48c9-88bb-2560955eeac9\",\"type\":\"BasicTickFormatter\"},\"plot\":{\"id\":\"0ae95964-67d3-4b1e-a930-67c3f35ac662\",\"subtype\":\"Figure\",\"type\":\"Plot\"},\"ticker\":{\"id\":\"f6279469-b40a-4472-ad22-45a2df037478\",\"type\":\"BasicTicker\"}},\"id\":\"b715ffb4-e784-4108-9922-7b2b6b84609d\",\"type\":\"LinearAxis\"},{\"attributes\":{\"below\":[{\"id\":\"be9f5bfc-d353-4aa6-ac4e-5d58a4256857\",\"type\":\"LinearAxis\"}],\"left\":[{\"id\":\"b715ffb4-e784-4108-9922-7b2b6b84609d\",\"type\":\"LinearAxis\"}],\"plot_height\":300,\"renderers\":[{\"id\":\"be9f5bfc-d353-4aa6-ac4e-5d58a4256857\",\"type\":\"LinearAxis\"},{\"id\":\"2095a874-9e57-4854-aa30-aa3c6656f10f\",\"type\":\"Grid\"},{\"id\":\"b715ffb4-e784-4108-9922-7b2b6b84609d\",\"type\":\"LinearAxis\"},{\"id\":\"9071e185-4e4c-4ffa-983e-7fe0af1f0063\",\"type\":\"Grid\"},{\"id\":\"41da58f1-472c-449f-9ad1-58e9b7c822e4\",\"type\":\"BoxAnnotation\"},{\"id\":\"9d9dbb37-36f0-4f3b-8891-4a38611399a9\",\"type\":\"Legend\"},{\"id\":\"021d59ee-9ed8-4581-8bfb-9679dca761f5\",\"type\":\"GlyphRenderer\"},{\"id\":\"553f4781-48f9-4567-ab08-899bacc276a3\",\"type\":\"GlyphRenderer\"}],\"title\":{\"id\":\"f0f8fe2d-8d1d-49d4-932d-71a038ba78a8\",\"type\":\"Title\"},\"tool_events\":{\"id\":\"98a8b445-b7ee-4787-be8e-fd3aa22e8b0e\",\"type\":\"ToolEvents\"},\"toolbar\":{\"id\":\"f57be8d9-6d0f-45d3-a837-e73c9f4dacde\",\"type\":\"Toolbar\"},\"x_range\":{\"id\":\"fa895d99-942d-4430-91a2-556637da7b7f\",\"type\":\"DataRange1d\"},\"y_range\":{\"id\":\"cb8bf276-ecd5-4493-b19b-4df6f876e332\",\"type\":\"DataRange1d\"}},\"id\":\"0ae95964-67d3-4b1e-a930-67c3f35ac662\",\"subtype\":\"Figure\",\"type\":\"Plot\"},{\"attributes\":{\"plot\":{\"id\":\"0ae95964-67d3-4b1e-a930-67c3f35ac662\",\"subtype\":\"Figure\",\"type\":\"Plot\"}},\"id\":\"9b573e6e-c8f0-432d-8d97-240c9586ae18\",\"type\":\"HelpTool\"},{\"attributes\":{\"plot\":null,\"text\":\"Spectral Profile\"},\"id\":\"f0f8fe2d-8d1d-49d4-932d-71a038ba78a8\",\"type\":\"Title\"},{\"attributes\":{\"items\":[{\"id\":\"a5a4fcf0-d5d8-4b8a-a1a4-eb3f35be34fe\",\"type\":\"LegendItem\"}],\"plot\":{\"id\":\"0ae95964-67d3-4b1e-a930-67c3f35ac662\",\"subtype\":\"Figure\",\"type\":\"Plot\"}},\"id\":\"9d9dbb37-36f0-4f3b-8891-4a38611399a9\",\"type\":\"Legend\"},{\"attributes\":{\"plot\":{\"id\":\"0ae95964-67d3-4b1e-a930-67c3f35ac662\",\"subtype\":\"Figure\",\"type\":\"Plot\"}},\"id\":\"ce8c005a-dad2-4b0e-853c-9ef83ed845fc\",\"type\":\"ResetTool\"},{\"attributes\":{\"callback\":null,\"column_names\":[\"x\",\"y\"],\"data\":{\"x\":[365.9298,375.594,385.2625,394.9355,404.6129,414.2946,423.9808,433.6713,443.3662,453.0655,462.7692,472.4773,482.1898,491.9066,501.6279,511.3535,521.0836,530.818,540.5568,550.3,560.0477,569.7996,579.556,589.3168,599.0819,608.8515,618.6254,628.4037,638.1865,647.9736,657.7651,667.561,655.2923,665.0994,674.9012,684.6979,694.4894,704.2756,714.0566,723.8325,733.6031,743.3685,753.1287,762.8837,772.6335,782.3781,792.1174,801.8516,811.5805,821.3043,831.0228,840.7361,850.4442,860.1471,869.8448,879.5372,889.2245,898.9066,908.5834,918.2551,927.9214,937.5827,947.2387,956.8895,966.5351,976.1755,985.8106,995.4406,1005.065,1014.685,1024.299,1033.908,1043.512,1053.111,1062.704,1072.293,1081.876,1091.454,1101.026,1110.594,1120.156,1129.713,1139.265,1148.811,1158.353,1167.889,1177.42,1186.946,1196.466,1205.982,1215.492,1224.997,1234.496,1243.991,1253.48,1262.964,1253.373,1263.346,1273.318,1283.291,1293.262,1303.234,1313.206,1323.177,1333.148,1343.119,1353.089,1363.06,1373.03,1383.0,1392.969,1402.939,1412.908,1422.877,1432.845,1442.814,1452.782,1462.75,1472.718,1482.685,1492.652,1502.619,1512.586,1522.552,1532.518,1542.484,1552.45,1562.416,1572.381,1582.346,1592.311,1602.275,1612.24,1622.204,1632.167,1642.131,1652.094,1662.057,1672.02,1681.983,1691.945,1701.907,1711.869,1721.831,1731.792,1741.753,1751.714,1761.675,1771.635,1781.596,1791.556,1801.515,1811.475,1821.434,1831.393,1841.352,1851.31,1861.269,1871.227,1873.184,1867.664,1877.725,1887.785,1897.842,1907.896,1917.948,1927.999,1938.046,1948.092,1958.135,1968.175,1978.214,1988.25,1998.284,2008.315,2018.345,2028.372,2038.396,2048.419,2058.439,2068.456,2078.472,2088.485,2098.496,2108.504,2118.51,2128.514,2138.516,2148.515,2158.512,2168.507,2178.499,2188.489,2198.477,2208.462,2218.445,2228.426,2238.405,2248.381,2258.354,2268.326,2278.295,2288.262,2298.227,2308.189,2318.149,2328.107,2338.062,2348.016,2357.967,2367.915,2377.861,2387.805,2397.747,2407.686,2417.623,2427.558,2437.49,2447.42,2457.348,2467.273,2477.196,2487.117,2497.036],\"y\":[1034.0,1157.0,1177.0,1419.0,1993.0,2068.0,1951.0,1856.0,2047.0,2123.0,2078.0,1998.0,1929.0,1824.0,1775.0,1751.0,1694.0,1729.0,1763.0,1765.0,1711.0,1668.0,1637.0,1587.0,1584.0,1576.0,1541.0,1506.0,1523.0,1496.0,1472.0,1527.0,1447.0,1502.0,1504.0,1383.0,1427.0,1579.0,1571.0,1481.0,1738.0,1964.0,1941.0,1261.0,1881.0,2005.0,1925.0,1897.0,1747.0,1525.0,1632.0,1802.0,1828.0,1820.0,1816.0,1814.0,1744.0,1424.0,1279.0,1210.0,1075.0,565.0,537.0,718.0,1128.0,1285.0,1529.0,1587.0,1568.0,1578.0,1565.0,1544.0,1530.0,1494.0,1441.0,1409.0,1331.0,1252.0,1040.0,703.0,240.0,224.0,340.0,324.0,593.0,870.0,938.0,943.0,982.0,972.0,1032.0,1087.0,1131.0,1128.0,1080.0,924.0,1061.0,557.0,435.0,423.0,403.0,314.0,238.0,276.0,110.0,67.0,7.0,2.0,1.0,1.0,4.0,3.0,23.0,35.0,42.0,52.0,112.0,130.0,103.0,149.0,267.0,345.0,1451.0,1247.0,1208.0,1078.0,1156.0,1155.0,996.0,955.0,902.0,780.0,750.0,753.0,733.0,677.0,691.0,704.0,707.0,710.0,739.0,738.0,734.0,694.0,666.0,575.0,596.0,563.0,508.0,405.0,311.0,134.0,38.0,13.0,1.0,1.0,0.0,0.0,1.0,0.0,0.0,3.0,2.0,3.0,0.0,1.0,2.0,10.0,34.0,65.0,242.0,463.0,597.0,367.0,141.0,246.0,615.0,818.0,682.0,523.0,573.0,757.0,861.0,899.0,920.0,911.0,934.0,945.0,905.0,856.0,814.0,812.0,766.0,730.0,760.0,795.0,778.0,756.0,727.0,687.0,658.0,642.0,612.0,553.0,587.0,511.0,518.0,468.0,383.0,393.0,359.0,294.0,265.0,294.0,239.0,164.0,232.0,181.0,115.0,138.0,112.0,55.0,13.0,16.0]}},\"id\":\"98001ae9-dc5d-4690-9e11-de61bcc85598\",\"type\":\"ColumnDataSource\"},{\"attributes\":{\"bottom_units\":\"screen\",\"fill_alpha\":{\"value\":0.5},\"fill_color\":{\"value\":\"lightgrey\"},\"left_units\":\"screen\",\"level\":\"overlay\",\"line_alpha\":{\"value\":1.0},\"line_color\":{\"value\":\"black\"},\"line_dash\":[4,4],\"line_width\":{\"value\":2},\"plot\":null,\"render_mode\":\"css\",\"right_units\":\"screen\",\"top_units\":\"screen\"},\"id\":\"41da58f1-472c-449f-9ad1-58e9b7c822e4\",\"type\":\"BoxAnnotation\"},{\"attributes\":{\"label\":{\"value\":\"Selected Point\"},\"renderers\":[{\"id\":\"021d59ee-9ed8-4581-8bfb-9679dca761f5\",\"type\":\"GlyphRenderer\"}]},\"id\":\"a5a4fcf0-d5d8-4b8a-a1a4-eb3f35be34fe\",\"type\":\"LegendItem\"}],\"root_ids\":[\"0ae95964-67d3-4b1e-a930-67c3f35ac662\"]},\"title\":\"Bokeh Application\",\"version\":\"0.12.5\"}};\n",
       "            var render_items = [{\"docid\":\"1d5424f0-42ac-477b-8e98-9c49a1facd3a\",\"elementid\":\"cb444d73-0ddb-48d9-9c3b-bb7fa006abce\",\"modelid\":\"0ae95964-67d3-4b1e-a930-67c3f35ac662\"}];\n",
       "            \n",
       "            Bokeh.embed.embed_items(docs_json, render_items);\n",
       "          };\n",
       "          if (document.readyState != \"loading\") fn();\n",
       "          else document.addEventListener(\"DOMContentLoaded\", fn);\n",
       "        })();\n",
       "      },\n",
       "      function(Bokeh) {\n",
       "      }\n",
       "    ];\n",
       "  \n",
       "    function run_inline_js() {\n",
       "      \n",
       "      if ((window.Bokeh !== undefined) || (force === true)) {\n",
       "        for (var i = 0; i < inline_js.length; i++) {\n",
       "          inline_js[i](window.Bokeh);\n",
       "        }if (force === true) {\n",
       "          display_loaded();\n",
       "        }} else if (Date.now() < window._bokeh_timeout) {\n",
       "        setTimeout(run_inline_js, 100);\n",
       "      } else if (!window._bokeh_failed_load) {\n",
       "        console.log(\"Bokeh: BokehJS failed to load within specified timeout.\");\n",
       "        window._bokeh_failed_load = true;\n",
       "      } else if (force !== true) {\n",
       "        var cell = $(document.getElementById(\"cb444d73-0ddb-48d9-9c3b-bb7fa006abce\")).parents('.cell').data().cell;\n",
       "        cell.output_area.append_execute_result(NB_LOAD_WARNING)\n",
       "      }\n",
       "  \n",
       "    }\n",
       "  \n",
       "    if (window._bokeh_is_loading === 0) {\n",
       "      console.log(\"Bokeh: BokehJS loaded, going straight to plotting\");\n",
       "      run_inline_js();\n",
       "    } else {\n",
       "      load_libs(js_urls, function() {\n",
       "        console.log(\"Bokeh: BokehJS plotting callback run at\", now());\n",
       "        run_inline_js();\n",
       "      });\n",
       "    }\n",
       "  }(this));\n",
       "</script>"
      ]
     },
     "metadata": {},
     "output_type": "display_data"
    }
   ],
   "source": [
    "map2 = gis.map('Omaha, NE', zoomlevel=10)\n",
    "map2"
   ]
  },
  {
   "cell_type": "code",
   "execution_count": 9,
   "metadata": {
    "collapsed": true
   },
   "outputs": [],
   "source": [
    "map2.add_layer(aviris_fcc)"
   ]
  },
  {
   "cell_type": "code",
   "execution_count": 19,
   "metadata": {},
   "outputs": [
    {
     "data": {
      "text/html": [
       "\n",
       "    <div class=\"bk-root\">\n",
       "        <a href=\"http://bokeh.pydata.org\" target=\"_blank\" class=\"bk-logo bk-logo-small bk-logo-notebook\"></a>\n",
       "        <span id=\"2a838def-97b5-4ea2-98e5-cea91f980e74\">Loading BokehJS ...</span>\n",
       "    </div>"
      ]
     },
     "metadata": {},
     "output_type": "display_data"
    },
    {
     "data": {
      "application/javascript": [
       "\n",
       "(function(global) {\n",
       "  function now() {\n",
       "    return new Date();\n",
       "  }\n",
       "\n",
       "  var force = true;\n",
       "\n",
       "  if (typeof (window._bokeh_onload_callbacks) === \"undefined\" || force === true) {\n",
       "    window._bokeh_onload_callbacks = [];\n",
       "    window._bokeh_is_loading = undefined;\n",
       "  }\n",
       "\n",
       "\n",
       "  \n",
       "  if (typeof (window._bokeh_timeout) === \"undefined\" || force === true) {\n",
       "    window._bokeh_timeout = Date.now() + 5000;\n",
       "    window._bokeh_failed_load = false;\n",
       "  }\n",
       "\n",
       "  var NB_LOAD_WARNING = {'data': {'text/html':\n",
       "     \"<div style='background-color: #fdd'>\\n\"+\n",
       "     \"<p>\\n\"+\n",
       "     \"BokehJS does not appear to have successfully loaded. If loading BokehJS from CDN, this \\n\"+\n",
       "     \"may be due to a slow or bad network connection. Possible fixes:\\n\"+\n",
       "     \"</p>\\n\"+\n",
       "     \"<ul>\\n\"+\n",
       "     \"<li>re-rerun `output_notebook()` to attempt to load from CDN again, or</li>\\n\"+\n",
       "     \"<li>use INLINE resources instead, as so:</li>\\n\"+\n",
       "     \"</ul>\\n\"+\n",
       "     \"<code>\\n\"+\n",
       "     \"from bokeh.resources import INLINE\\n\"+\n",
       "     \"output_notebook(resources=INLINE)\\n\"+\n",
       "     \"</code>\\n\"+\n",
       "     \"</div>\"}};\n",
       "\n",
       "  function display_loaded() {\n",
       "    if (window.Bokeh !== undefined) {\n",
       "      var el = document.getElementById(\"2a838def-97b5-4ea2-98e5-cea91f980e74\");\n",
       "      el.textContent = \"BokehJS \" + Bokeh.version + \" successfully loaded.\";\n",
       "    } else if (Date.now() < window._bokeh_timeout) {\n",
       "      setTimeout(display_loaded, 100)\n",
       "    }\n",
       "  }\n",
       "\n",
       "  function run_callbacks() {\n",
       "    window._bokeh_onload_callbacks.forEach(function(callback) { callback() });\n",
       "    delete window._bokeh_onload_callbacks\n",
       "    console.info(\"Bokeh: all callbacks have finished\");\n",
       "  }\n",
       "\n",
       "  function load_libs(js_urls, callback) {\n",
       "    window._bokeh_onload_callbacks.push(callback);\n",
       "    if (window._bokeh_is_loading > 0) {\n",
       "      console.log(\"Bokeh: BokehJS is being loaded, scheduling callback at\", now());\n",
       "      return null;\n",
       "    }\n",
       "    if (js_urls == null || js_urls.length === 0) {\n",
       "      run_callbacks();\n",
       "      return null;\n",
       "    }\n",
       "    console.log(\"Bokeh: BokehJS not loaded, scheduling load and callback at\", now());\n",
       "    window._bokeh_is_loading = js_urls.length;\n",
       "    for (var i = 0; i < js_urls.length; i++) {\n",
       "      var url = js_urls[i];\n",
       "      var s = document.createElement('script');\n",
       "      s.src = url;\n",
       "      s.async = false;\n",
       "      s.onreadystatechange = s.onload = function() {\n",
       "        window._bokeh_is_loading--;\n",
       "        if (window._bokeh_is_loading === 0) {\n",
       "          console.log(\"Bokeh: all BokehJS libraries loaded\");\n",
       "          run_callbacks()\n",
       "        }\n",
       "      };\n",
       "      s.onerror = function() {\n",
       "        console.warn(\"failed to load library \" + url);\n",
       "      };\n",
       "      console.log(\"Bokeh: injecting script tag for BokehJS library: \", url);\n",
       "      document.getElementsByTagName(\"head\")[0].appendChild(s);\n",
       "    }\n",
       "  };var element = document.getElementById(\"2a838def-97b5-4ea2-98e5-cea91f980e74\");\n",
       "  if (element == null) {\n",
       "    console.log(\"Bokeh: ERROR: autoload.js configured with elementid '2a838def-97b5-4ea2-98e5-cea91f980e74' but no matching script tag was found. \")\n",
       "    return false;\n",
       "  }\n",
       "\n",
       "  var js_urls = [\"https://cdn.pydata.org/bokeh/release/bokeh-0.12.5.min.js\", \"https://cdn.pydata.org/bokeh/release/bokeh-widgets-0.12.5.min.js\"];\n",
       "\n",
       "  var inline_js = [\n",
       "    function(Bokeh) {\n",
       "      Bokeh.set_log_level(\"info\");\n",
       "    },\n",
       "    \n",
       "    function(Bokeh) {\n",
       "      \n",
       "    },\n",
       "    \n",
       "    function(Bokeh) {\n",
       "      \n",
       "      document.getElementById(\"2a838def-97b5-4ea2-98e5-cea91f980e74\").textContent = \"BokehJS is loading...\";\n",
       "    },\n",
       "    function(Bokeh) {\n",
       "      console.log(\"Bokeh: injecting CSS: https://cdn.pydata.org/bokeh/release/bokeh-0.12.5.min.css\");\n",
       "      Bokeh.embed.inject_css(\"https://cdn.pydata.org/bokeh/release/bokeh-0.12.5.min.css\");\n",
       "      console.log(\"Bokeh: injecting CSS: https://cdn.pydata.org/bokeh/release/bokeh-widgets-0.12.5.min.css\");\n",
       "      Bokeh.embed.inject_css(\"https://cdn.pydata.org/bokeh/release/bokeh-widgets-0.12.5.min.css\");\n",
       "    }\n",
       "  ];\n",
       "\n",
       "  function run_inline_js() {\n",
       "    \n",
       "    if ((window.Bokeh !== undefined) || (force === true)) {\n",
       "      for (var i = 0; i < inline_js.length; i++) {\n",
       "        inline_js[i](window.Bokeh);\n",
       "      }if (force === true) {\n",
       "        display_loaded();\n",
       "      }} else if (Date.now() < window._bokeh_timeout) {\n",
       "      setTimeout(run_inline_js, 100);\n",
       "    } else if (!window._bokeh_failed_load) {\n",
       "      console.log(\"Bokeh: BokehJS failed to load within specified timeout.\");\n",
       "      window._bokeh_failed_load = true;\n",
       "    } else if (force !== true) {\n",
       "      var cell = $(document.getElementById(\"2a838def-97b5-4ea2-98e5-cea91f980e74\")).parents('.cell').data().cell;\n",
       "      cell.output_area.append_execute_result(NB_LOAD_WARNING)\n",
       "    }\n",
       "\n",
       "  }\n",
       "\n",
       "  if (window._bokeh_is_loading === 0) {\n",
       "    console.log(\"Bokeh: BokehJS loaded, going straight to plotting\");\n",
       "    run_inline_js();\n",
       "  } else {\n",
       "    load_libs(js_urls, function() {\n",
       "      console.log(\"Bokeh: BokehJS plotting callback run at\", now());\n",
       "      run_inline_js();\n",
       "    });\n",
       "  }\n",
       "}(this));"
      ]
     },
     "metadata": {},
     "output_type": "display_data"
    }
   ],
   "source": [
    "x_axis = [float(s['wavelength']) for s in aviris_bands]\n",
    "\n",
    "from bokeh.models import Range1d\n",
    "from bokeh.plotting import figure, show, output_notebook\n",
    "from IPython.display import clear_output\n",
    "output_notebook()"
   ]
  },
  {
   "cell_type": "code",
   "execution_count": 21,
   "metadata": {
    "collapsed": true
   },
   "outputs": [],
   "source": [
    "def get_samples(map_handle, clicked_point):\n",
    "    image_data = aviris_layer.get_samples(clicked_point)\n",
    "    clear_output()\n",
    "    map_handle.draw(clicked_point)\n",
    "    radiance_values = image_data[0]['value']\n",
    "   \n",
    "    p = figure(title=\"Spectral Profile\", x_axis_label='Wavelengths', \n",
    "               y_axis_label='Radiance', width=600, height=300)\n",
    "    p.line(x_axis, radiance_values, legend=\"Selected Point\", line_color=\"red\", line_width=2)\n",
    "    p.circle(x_axis, radiance_values, line_color=\"red\", fill_color=\"white\", size=8)\n",
    "#     p.y_range=Range1d(0, 1.0)\n",
    "    show(p)\n",
    "    \n",
    "map2.on_click(get_samples)"
   ]
  },
  {
   "cell_type": "markdown",
   "metadata": {},
   "source": [
    "g={'type': 'point', 'x': -10739095.918328783, 'y': 5030225.212874767, 'spatialReference': {'wkid': 102100, 'latestWkid': 3857}}\n",
    "samples = aviris_layer.get_samples(g)\n",
    "samples"
   ]
  },
  {
   "cell_type": "code",
   "execution_count": null,
   "metadata": {
    "collapsed": true
   },
   "outputs": [],
   "source": []
  }
 ],
 "metadata": {
  "kernelspec": {
   "display_name": "Python 3",
   "language": "python",
   "name": "python3"
  },
  "language_info": {
   "codemirror_mode": {
    "name": "ipython",
    "version": 3
   },
   "file_extension": ".py",
   "mimetype": "text/x-python",
   "name": "python",
   "nbconvert_exporter": "python",
   "pygments_lexer": "ipython3",
   "version": "3.6.1"
  }
 },
 "nbformat": 4,
 "nbformat_minor": 2
}
