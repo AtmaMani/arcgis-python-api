{
 "cells": [
  {
   "cell_type": "markdown",
   "metadata": {},
   "source": [
    "# Classifying high dimensionality remote sensing images\n",
    "\n",
    "## Intro to hyperspectral remote sensing\n",
    "Insert graphic of cube, explanative text"
   ]
  },
  {
   "cell_type": "code",
   "execution_count": 1,
   "metadata": {
    "collapsed": true
   },
   "outputs": [],
   "source": [
    "from arcgis.gis import GIS\n",
    "from arcgis import raster"
   ]
  },
  {
   "cell_type": "code",
   "execution_count": 3,
   "metadata": {},
   "outputs": [
    {
     "name": "stdout",
     "output_type": "stream",
     "text": [
      "Enter password: ········\n"
     ]
    }
   ],
   "source": [
    "gis = GIS(\"https://dev0001902.esri.com/portal\",\"admin\", verify_cert=False)"
   ]
  },
  {
   "cell_type": "code",
   "execution_count": 4,
   "metadata": {},
   "outputs": [
    {
     "data": {
      "text/html": [
       "<div class=\"item_container\" style=\"height: auto; overflow: hidden; border: 1px solid #cfcfcf; border-radius: 2px; background: #f6fafa; line-height: 1.21429em; padding: 10px;\">\n",
       "                    <div class=\"item_left\" style=\"width: 210px; float: left;\">\n",
       "                       <a href='https://dev0001902.esri.com/portal/home/item.html?id=596098ec0e834e7d9f8e81e14de14ef2' target='_blank'>\n",
       "                        <img src='https://dev0001902.esri.com/portal/portalimages/desktopapp.png' class=\"itemThumbnail\">\n",
       "                       </a>\n",
       "                    </div>\n",
       "\n",
       "                    <div class=\"item_right\"     style=\"float: none; width: auto; overflow: hidden;\">\n",
       "                        <a href='https://dev0001902.esri.com/portal/home/item.html?id=596098ec0e834e7d9f8e81e14de14ef2' target='_blank'><b>omaha_aviris_wv</b>\n",
       "                        </a>\n",
       "                        <br/>AVIRIS image of Omaha with wavelengths<img src='https://dev0001902.esri.com/portal/home/js/jsapi/esri/css/images/item_type_icons/imagery16.png' style=\"vertical-align:middle;\">Imagery Layer by admin\n",
       "                        <br/>Last Modified: March 29, 2018\n",
       "                        <br/>0 comments, 1 views\n",
       "                    </div>\n",
       "                </div>\n",
       "                "
      ],
      "text/plain": [
       "<Item title:\"omaha_aviris_wv\" type:Imagery Layer owner:admin>"
      ]
     },
     "execution_count": 4,
     "metadata": {},
     "output_type": "execute_result"
    }
   ],
   "source": [
    "aviris_item = gis.content.get('596098ec0e834e7d9f8e81e14de14ef2')\n",
    "aviris_item"
   ]
  },
  {
   "cell_type": "code",
   "execution_count": 5,
   "metadata": {},
   "outputs": [
    {
     "data": {
      "application/vnd.jupyter.widget-view+json": {
       "model_id": "bf96d3e7575441e3b7086d7873da2307"
      }
     },
     "metadata": {},
     "output_type": "display_data"
    }
   ],
   "source": [
    "map1 = gis.map('Omaha, NE')\n",
    "map1"
   ]
  },
  {
   "cell_type": "code",
   "execution_count": 6,
   "metadata": {
    "collapsed": true
   },
   "outputs": [],
   "source": [
    "map1.add_layer(aviris_item)"
   ]
  },
  {
   "cell_type": "markdown",
   "metadata": {},
   "source": [
    "## Draw using false color composite"
   ]
  },
  {
   "cell_type": "markdown",
   "metadata": {},
   "source": [
    "### Get AVIRIS band wavelengths"
   ]
  },
  {
   "cell_type": "code",
   "execution_count": 16,
   "metadata": {},
   "outputs": [
    {
     "data": {
      "text/plain": [
       "224"
      ]
     },
     "execution_count": 16,
     "metadata": {},
     "output_type": "execute_result"
    }
   ],
   "source": [
    "aviris_layer = aviris_item.layers[0]\n",
    "aviris_bands = aviris_layer.key_properties()['BandProperties']\n",
    "len(aviris_bands)"
   ]
  },
  {
   "cell_type": "code",
   "execution_count": 18,
   "metadata": {},
   "outputs": [
    {
     "data": {
      "text/plain": [
       "'365.9298'"
      ]
     },
     "execution_count": 18,
     "metadata": {},
     "output_type": "execute_result"
    }
   ],
   "source": [
    "aviris_bands[0]['wavelength']"
   ]
  },
  {
   "cell_type": "code",
   "execution_count": 19,
   "metadata": {},
   "outputs": [
    {
     "data": {
      "text/plain": [
       "'2497.036'"
      ]
     },
     "execution_count": 19,
     "metadata": {},
     "output_type": "execute_result"
    }
   ],
   "source": [
    "aviris_bands[-1]['wavelength']"
   ]
  },
  {
   "cell_type": "code",
   "execution_count": 27,
   "metadata": {},
   "outputs": [],
   "source": [
    "aviris_layer = aviris_item.layers[0]\n",
    "aviris_fcc = raster.stretch(raster = raster.extract_band(aviris_layer, band_wavelengths=[831, 665.0994, 560]),\n",
    "                            stretch_type='histogram')\n",
    "map1.remove_layers()\n",
    "map1.add_layer(aviris_fcc)"
   ]
  },
  {
   "cell_type": "markdown",
   "metadata": {},
   "source": [
    "## Get spectral signature from the remotely sensed image"
   ]
  },
  {
   "cell_type": "code",
   "execution_count": 36,
   "metadata": {},
   "outputs": [
    {
     "data": {
      "application/vnd.jupyter.widget-view+json": {
       "model_id": "a2621d98478a4f42a381ddfdff53c8de"
      }
     },
     "metadata": {},
     "output_type": "display_data"
    },
    {
     "name": "stdout",
     "output_type": "stream",
     "text": [
      "{'type': 'point', 'x': -10739095.918328783, 'y': 5030225.212874767, 'spatialReference': {'wkid': 102100, 'latestWkid': 3857}}\n"
     ]
    }
   ],
   "source": [
    "map2 = gis.map('Omaha, NE', zoomlevel=10)\n",
    "map2"
   ]
  },
  {
   "cell_type": "code",
   "execution_count": 37,
   "metadata": {
    "collapsed": true
   },
   "outputs": [],
   "source": [
    "map2.add_layer(aviris_fcc)"
   ]
  },
  {
   "cell_type": "code",
   "execution_count": 38,
   "metadata": {
    "collapsed": true
   },
   "outputs": [],
   "source": [
    "def get_samples(map_handle, clicked_point):\n",
    "    image_data = aviris_layer.get_samples(clicked_point)\n",
    "    \n",
    "\n",
    "map2.on_click(get_samples)"
   ]
  },
  {
   "cell_type": "code",
   "execution_count": 41,
   "metadata": {},
   "outputs": [
    {
     "data": {
      "text/plain": [
       "[{'location': {'spatialReference': {'latestWkid': 3857, 'wkid': 102100},\n",
       "   'x': -10739095.918328783,\n",
       "   'y': 5030225.212874767},\n",
       "  'locationId': 0,\n",
       "  'rasterId': 0,\n",
       "  'resolution': 16.90000000000003,\n",
       "  'value': '996 1095 1084 1311 1848 1916 1791 1675 1832 1891 1810 1727 1649 1540 1494 1478 1473 1543 1612 1628 1555 1451 1378 1288 1258 1226 1157 1104 1097 1039 976 979 975 977 947 899 1074 1435 1665 1794 2280 2681 2708 1769 2637 2801 2695 2640 2444 2139 2268 2484 2503 2480 2466 2449 2355 1934 1738 1645 1461 790 739 952 1445 1625 1904 1973 1944 1958 1938 1914 1890 1845 1776 1737 1640 1541 1291 883 319 293 428 397 688 970 1037 1030 1071 1052 1114 1170 1219 1217 1165 996 1141 605 472 461 440 336 255 288 116 69 7 1 1 1 4 2 13 19 25 31 64 76 60 91 160 212 906 790 782 711 772 786 694 676 648 568 553 564 553 519 529 534 541 536 554 551 543 510 483 416 427 397 357 286 221 95 29 11 0 0 0 0 0 0 1 0 1 0 0 0 2 3 11 19 77 165 223 134 44 86 252 345 282 208 237 330 380 400 417 423 430 446 435 414 399 402 388 377 395 410 399 380 357 327 305 292 272 245 250 215 221 193 158 159 145 119 108 118 89 67 87 68 42 52 41 19 2 4'}]"
      ]
     },
     "execution_count": 41,
     "metadata": {},
     "output_type": "execute_result"
    }
   ],
   "source": [
    "g={'type': 'point', 'x': -10739095.918328783, 'y': 5030225.212874767, 'spatialReference': {'wkid': 102100, 'latestWkid': 3857}}\n",
    "samples = aviris_layer.get_samples(g)\n",
    "samples"
   ]
  },
  {
   "cell_type": "code",
   "execution_count": 45,
   "metadata": {
    "collapsed": true
   },
   "outputs": [
    {
     "data": {
      "text/plain": [
       "[996,\n",
       " 1095,\n",
       " 1084,\n",
       " 1311,\n",
       " 1848,\n",
       " 1916,\n",
       " 1791,\n",
       " 1675,\n",
       " 1832,\n",
       " 1891,\n",
       " 1810,\n",
       " 1727,\n",
       " 1649,\n",
       " 1540,\n",
       " 1494,\n",
       " 1478,\n",
       " 1473,\n",
       " 1543,\n",
       " 1612,\n",
       " 1628,\n",
       " 1555,\n",
       " 1451,\n",
       " 1378,\n",
       " 1288,\n",
       " 1258,\n",
       " 1226,\n",
       " 1157,\n",
       " 1104,\n",
       " 1097,\n",
       " 1039,\n",
       " 976,\n",
       " 979,\n",
       " 975,\n",
       " 977,\n",
       " 947,\n",
       " 899,\n",
       " 1074,\n",
       " 1435,\n",
       " 1665,\n",
       " 1794,\n",
       " 2280,\n",
       " 2681,\n",
       " 2708,\n",
       " 1769,\n",
       " 2637,\n",
       " 2801,\n",
       " 2695,\n",
       " 2640,\n",
       " 2444,\n",
       " 2139,\n",
       " 2268,\n",
       " 2484,\n",
       " 2503,\n",
       " 2480,\n",
       " 2466,\n",
       " 2449,\n",
       " 2355,\n",
       " 1934,\n",
       " 1738,\n",
       " 1645,\n",
       " 1461,\n",
       " 790,\n",
       " 739,\n",
       " 952,\n",
       " 1445,\n",
       " 1625,\n",
       " 1904,\n",
       " 1973,\n",
       " 1944,\n",
       " 1958,\n",
       " 1938,\n",
       " 1914,\n",
       " 1890,\n",
       " 1845,\n",
       " 1776,\n",
       " 1737,\n",
       " 1640,\n",
       " 1541,\n",
       " 1291,\n",
       " 883,\n",
       " 319,\n",
       " 293,\n",
       " 428,\n",
       " 397,\n",
       " 688,\n",
       " 970,\n",
       " 1037,\n",
       " 1030,\n",
       " 1071,\n",
       " 1052,\n",
       " 1114,\n",
       " 1170,\n",
       " 1219,\n",
       " 1217,\n",
       " 1165,\n",
       " 996,\n",
       " 1141,\n",
       " 605,\n",
       " 472,\n",
       " 461,\n",
       " 440,\n",
       " 336,\n",
       " 255,\n",
       " 288,\n",
       " 116,\n",
       " 69,\n",
       " 7,\n",
       " 1,\n",
       " 1,\n",
       " 1,\n",
       " 4,\n",
       " 2,\n",
       " 13,\n",
       " 19,\n",
       " 25,\n",
       " 31,\n",
       " 64,\n",
       " 76,\n",
       " 60,\n",
       " 91,\n",
       " 160,\n",
       " 212,\n",
       " 906,\n",
       " 790,\n",
       " 782,\n",
       " 711,\n",
       " 772,\n",
       " 786,\n",
       " 694,\n",
       " 676,\n",
       " 648,\n",
       " 568,\n",
       " 553,\n",
       " 564,\n",
       " 553,\n",
       " 519,\n",
       " 529,\n",
       " 534,\n",
       " 541,\n",
       " 536,\n",
       " 554,\n",
       " 551,\n",
       " 543,\n",
       " 510,\n",
       " 483,\n",
       " 416,\n",
       " 427,\n",
       " 397,\n",
       " 357,\n",
       " 286,\n",
       " 221,\n",
       " 95,\n",
       " 29,\n",
       " 11,\n",
       " 0,\n",
       " 0,\n",
       " 0,\n",
       " 0,\n",
       " 0,\n",
       " 0,\n",
       " 1,\n",
       " 0,\n",
       " 1,\n",
       " 0,\n",
       " 0,\n",
       " 0,\n",
       " 2,\n",
       " 3,\n",
       " 11,\n",
       " 19,\n",
       " 77,\n",
       " 165,\n",
       " 223,\n",
       " 134,\n",
       " 44,\n",
       " 86,\n",
       " 252,\n",
       " 345,\n",
       " 282,\n",
       " 208,\n",
       " 237,\n",
       " 330,\n",
       " 380,\n",
       " 400,\n",
       " 417,\n",
       " 423,\n",
       " 430,\n",
       " 446,\n",
       " 435,\n",
       " 414,\n",
       " 399,\n",
       " 402,\n",
       " 388,\n",
       " 377,\n",
       " 395,\n",
       " 410,\n",
       " 399,\n",
       " 380,\n",
       " 357,\n",
       " 327,\n",
       " 305,\n",
       " 292,\n",
       " 272,\n",
       " 245,\n",
       " 250,\n",
       " 215,\n",
       " 221,\n",
       " 193,\n",
       " 158,\n",
       " 159,\n",
       " 145,\n",
       " 119,\n",
       " 108,\n",
       " 118,\n",
       " 89,\n",
       " 67,\n",
       " 87,\n",
       " 68,\n",
       " 42,\n",
       " 52,\n",
       " 41,\n",
       " 19,\n",
       " 2,\n",
       " 4]"
      ]
     },
     "execution_count": 45,
     "metadata": {},
     "output_type": "execute_result"
    }
   ],
   "source": [
    "[int(s) for s in samples[0]['value'].split(' ')]"
   ]
  },
  {
   "cell_type": "code",
   "execution_count": 46,
   "metadata": {},
   "outputs": [
    {
     "data": {
      "text/plain": [
       "True"
      ]
     },
     "execution_count": 46,
     "metadata": {},
     "output_type": "execute_result"
    }
   ],
   "source": [
    "'value' in samples[0]"
   ]
  },
  {
   "cell_type": "code",
   "execution_count": 50,
   "metadata": {},
   "outputs": [
    {
     "data": {
      "text/plain": [
       "False"
      ]
     },
     "execution_count": 50,
     "metadata": {},
     "output_type": "execute_result"
    }
   ],
   "source": [
    "'value3' in samples[0] and isinstance(samples[0]['value3'], str)"
   ]
  },
  {
   "cell_type": "code",
   "execution_count": 56,
   "metadata": {},
   "outputs": [
    {
     "data": {
      "text/plain": [
       "22.4"
      ]
     },
     "execution_count": 56,
     "metadata": {},
     "output_type": "execute_result"
    }
   ],
   "source": [
    "a='22.4'\n",
    "float(a)"
   ]
  },
  {
   "cell_type": "code",
   "execution_count": null,
   "metadata": {
    "collapsed": true
   },
   "outputs": [],
   "source": []
  }
 ],
 "metadata": {
  "kernelspec": {
   "display_name": "Python 3",
   "language": "python",
   "name": "python3"
  },
  "language_info": {
   "codemirror_mode": {
    "name": "ipython",
    "version": 3
   },
   "file_extension": ".py",
   "mimetype": "text/x-python",
   "name": "python",
   "nbconvert_exporter": "python",
   "pygments_lexer": "ipython3",
   "version": "3.6.1"
  }
 },
 "nbformat": 4,
 "nbformat_minor": 2
}
