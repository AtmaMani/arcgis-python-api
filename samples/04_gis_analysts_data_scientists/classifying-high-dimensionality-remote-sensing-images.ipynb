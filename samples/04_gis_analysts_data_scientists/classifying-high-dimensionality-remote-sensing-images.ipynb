{
 "cells": [
  {
   "cell_type": "markdown",
   "metadata": {},
   "source": [
    "# Classifying high dimensionality remote sensing images\n",
    "\n",
    "## Intro to hyperspectral remote sensing\n",
    "Insert graphic of cube, explanative text"
   ]
  },
  {
   "cell_type": "code",
   "execution_count": 1,
   "metadata": {},
   "outputs": [],
   "source": [
    "from arcgis.gis import GIS\n",
    "from arcgis import raster"
   ]
  },
  {
   "cell_type": "code",
   "execution_count": 2,
   "metadata": {},
   "outputs": [
    {
     "name": "stdout",
     "output_type": "stream",
     "text": [
      "Enter password: ········\n"
     ]
    }
   ],
   "source": [
    "# gis = GIS(\"https://dev0001902.esri.com/portal\",\"admin\", verify_cert=False)\n",
    "gis = GIS(\"https://pythonapi.playground.esri.com/portal\",\"atma.mani\")\n",
    "# gis = GIS(\"https://python.playground.esri.com/portal\",\"arcgis_python\",\"amazing_arcgis_123\")"
   ]
  },
  {
   "cell_type": "code",
   "execution_count": 3,
   "metadata": {},
   "outputs": [
    {
     "data": {
      "text/html": [
       "<div class=\"item_container\" style=\"height: auto; overflow: hidden; border: 1px solid #cfcfcf; border-radius: 2px; background: #f6fafa; line-height: 1.21429em; padding: 10px;\">\n",
       "                    <div class=\"item_left\" style=\"width: 210px; float: left;\">\n",
       "                       <a href='https://pythonapi.playground.esri.com/portal/home/item.html?id=2a0c245ff84e47bfaca04c05a2bcf9f1' target='_blank'>\n",
       "                        <img src='https://pythonapi.playground.esri.com/portal/portalimages/desktopapp.png' class=\"itemThumbnail\">\n",
       "                       </a>\n",
       "                    </div>\n",
       "\n",
       "                    <div class=\"item_right\"     style=\"float: none; width: auto; overflow: hidden;\">\n",
       "                        <a href='https://pythonapi.playground.esri.com/portal/home/item.html?id=2a0c245ff84e47bfaca04c05a2bcf9f1' target='_blank'><b>omaha_aviris</b>\n",
       "                        </a>\n",
       "                        <br/>AVIRIS data for farms in Omaha<img src='https://pythonapi.playground.esri.com/portal/home/js/jsapi/esri/css/images/item_type_icons/imagery16.png' style=\"vertical-align:middle;\">Imagery Layer by atma.mani\n",
       "                        <br/>Last Modified: April 26, 2018\n",
       "                        <br/>0 comments, 1 views\n",
       "                    </div>\n",
       "                </div>\n",
       "                "
      ],
      "text/plain": [
       "<Item title:\"omaha_aviris\" type:Imagery Layer owner:atma.mani>"
      ]
     },
     "execution_count": 3,
     "metadata": {},
     "output_type": "execute_result"
    }
   ],
   "source": [
    "# aviris_item = gis.content.get('596098ec0e834e7d9f8e81e14de14ef2')\n",
    "aviris_item = gis.content.search('AVIRIS', item_type='Imagery Layer')[0]\n",
    "aviris_item"
   ]
  },
  {
   "cell_type": "code",
   "execution_count": 4,
   "metadata": {},
   "outputs": [
    {
     "data": {
      "application/vnd.jupyter.widget-view+json": {
       "model_id": "7ac7afdc167749b1876205fd4bb22c16",
       "version_major": 2,
       "version_minor": 0
      },
      "text/plain": [
       "MapView(basemaps=['dark-gray', 'dark-gray-vector', 'gray', 'gray-vector', 'hybrid', 'national-geographic', 'oc…"
      ]
     },
     "metadata": {},
     "output_type": "display_data"
    }
   ],
   "source": [
    "map1 = gis.map('Omaha, NE')\n",
    "map1"
   ]
  },
  {
   "cell_type": "code",
   "execution_count": 5,
   "metadata": {},
   "outputs": [],
   "source": [
    "map1.add_layer(aviris_item)"
   ]
  },
  {
   "cell_type": "markdown",
   "metadata": {},
   "source": [
    "## Draw using false color composite"
   ]
  },
  {
   "cell_type": "markdown",
   "metadata": {},
   "source": [
    "### Get AVIRIS band wavelengths"
   ]
  },
  {
   "cell_type": "code",
   "execution_count": 5,
   "metadata": {},
   "outputs": [
    {
     "data": {
      "text/plain": [
       "224"
      ]
     },
     "execution_count": 5,
     "metadata": {},
     "output_type": "execute_result"
    }
   ],
   "source": [
    "aviris_layer = aviris_item.layers[0]\n",
    "aviris_bands = aviris_layer.key_properties()['BandProperties']\n",
    "len(aviris_bands)"
   ]
  },
  {
   "cell_type": "code",
   "execution_count": 6,
   "metadata": {},
   "outputs": [
    {
     "data": {
      "text/plain": [
       "'365.9298'"
      ]
     },
     "execution_count": 6,
     "metadata": {},
     "output_type": "execute_result"
    }
   ],
   "source": [
    "aviris_bands[0]['wavelength']"
   ]
  },
  {
   "cell_type": "code",
   "execution_count": 7,
   "metadata": {},
   "outputs": [
    {
     "data": {
      "text/plain": [
       "'2497.036'"
      ]
     },
     "execution_count": 7,
     "metadata": {},
     "output_type": "execute_result"
    }
   ],
   "source": [
    "aviris_bands[-1]['wavelength']"
   ]
  },
  {
   "cell_type": "code",
   "execution_count": 8,
   "metadata": {},
   "outputs": [],
   "source": [
    "aviris_layer = aviris_item.layers[0]\n",
    "aviris_fcc = raster.stretch(raster = raster.extract_band(aviris_layer, band_wavelengths=[831, 665.0994, 560]),\n",
    "                            stretch_type='histogram')"
   ]
  },
  {
   "cell_type": "code",
   "execution_count": 14,
   "metadata": {},
   "outputs": [],
   "source": [
    "from ipywidgets import Output\n",
    "map1.remove_layers()\n",
    "map1.add_layer(aviris_fcc)"
   ]
  },
  {
   "cell_type": "markdown",
   "metadata": {},
   "source": [
    "## Get spectral signature from the remotely sensed image"
   ]
  },
  {
   "cell_type": "code",
   "execution_count": 26,
   "metadata": {
    "scrolled": false
   },
   "outputs": [
    {
     "data": {
      "application/vnd.jupyter.widget-view+json": {
       "model_id": "cdd312cf423c4a438faf4f9865de7f1c",
       "version_major": 2,
       "version_minor": 0
      },
      "text/plain": [
       "MapView(basemaps=['dark-gray', 'dark-gray-vector', 'gray', 'gray-vector', 'hybrid', 'national-geographic', 'oc…"
      ]
     },
     "metadata": {},
     "output_type": "display_data"
    },
    {
     "data": {
      "text/html": [
       "\n",
       "<div class=\"bk-root\">\n",
       "    <div class=\"bk-plotdiv\" id=\"824510fe-4d61-4755-8483-03d4187165cb\"></div>\n",
       "</div>"
      ]
     },
     "metadata": {},
     "output_type": "display_data"
    },
    {
     "data": {
      "application/javascript": [
       "(function(root) {\n",
       "  function embed_document(root) {\n",
       "    \n",
       "  var docs_json = {\"151138a0-db3b-4ef3-9bc1-611ef4c58652\":{\"roots\":{\"references\":[{\"attributes\":{\"callback\":null,\"column_names\":[\"x\",\"y\"],\"data\":{\"x\":[365.9298,375.594,385.2625,394.9355,404.6129,414.2946,423.9808,433.6713,443.3662,453.0655,462.7692,472.4773,482.1898,491.9066,501.6279,511.3535,521.0836,530.818,540.5568,550.3,560.0477,569.7996,579.556,589.3168,599.0819,608.8515,618.6254,628.4037,638.1865,647.9736,657.7651,667.561,655.2923,665.0994,674.9012,684.6979,694.4894,704.2756,714.0566,723.8325,733.6031,743.3685,753.1287,762.8837,772.6335,782.3781,792.1174,801.8516,811.5805,821.3043,831.0228,840.7361,850.4442,860.1471,869.8448,879.5372,889.2245,898.9066,908.5834,918.2551,927.9214,937.5827,947.2387,956.8895,966.5351,976.1755,985.8106,995.4406,1005.065,1014.685,1024.299,1033.908,1043.512,1053.111,1062.704,1072.293,1081.876,1091.454,1101.026,1110.594,1120.156,1129.713,1139.265,1148.811,1158.353,1167.889,1177.42,1186.946,1196.466,1205.982,1215.492,1224.997,1234.496,1243.991,1253.48,1262.964,1253.373,1263.346,1273.318,1283.291,1293.262,1303.234,1313.206,1323.177,1333.148,1343.119,1353.089,1363.06,1373.03,1383.0,1392.969,1402.939,1412.908,1422.877,1432.845,1442.814,1452.782,1462.75,1472.718,1482.685,1492.652,1502.619,1512.586,1522.552,1532.518,1542.484,1552.45,1562.416,1572.381,1582.346,1592.311,1602.275,1612.24,1622.204,1632.167,1642.131,1652.094,1662.057,1672.02,1681.983,1691.945,1701.907,1711.869,1721.831,1731.792,1741.753,1751.714,1761.675,1771.635,1781.596,1791.556,1801.515,1811.475,1821.434,1831.393,1841.352,1851.31,1861.269,1871.227,1873.184,1867.664,1877.725,1887.785,1897.842,1907.896,1917.948,1927.999,1938.046,1948.092,1958.135,1968.175,1978.214,1988.25,1998.284,2008.315,2018.345,2028.372,2038.396,2048.419,2058.439,2068.456,2078.472,2088.485,2098.496,2108.504,2118.51,2128.514,2138.516,2148.515,2158.512,2168.507,2178.499,2188.489,2198.477,2208.462,2218.445,2228.426,2238.405,2248.381,2258.354,2268.326,2278.295,2288.262,2298.227,2308.189,2318.149,2328.107,2338.062,2348.016,2357.967,2367.915,2377.861,2387.805,2397.747,2407.686,2417.623,2427.558,2437.49,2447.42,2457.348,2467.273,2477.196,2487.117,2497.036],\"y\":[1052.0,1163.0,1206.0,1494.0,2096.0,2202.0,2083.0,1988.0,2192.0,2277.0,2242.0,2163.0,2105.0,1992.0,1951.0,1899.0,1837.0,1862.0,1887.0,1886.0,1840.0,1791.0,1770.0,1715.0,1721.0,1726.0,1693.0,1656.0,1691.0,1665.0,1644.0,1706.0,1627.0,1699.0,1703.0,1572.0,1598.0,1719.0,1675.0,1539.0,1756.0,1961.0,1934.0,1255.0,1876.0,1999.0,1931.0,1914.0,1767.0,1550.0,1656.0,1829.0,1861.0,1857.0,1854.0,1856.0,1793.0,1470.0,1329.0,1261.0,1121.0,598.0,576.0,763.0,1193.0,1346.0,1595.0,1658.0,1632.0,1650.0,1637.0,1612.0,1598.0,1559.0,1511.0,1480.0,1403.0,1323.0,1110.0,754.0,264.0,245.0,376.0,358.0,651.0,946.0,1020.0,1025.0,1068.0,1055.0,1122.0,1177.0,1230.0,1224.0,1175.0,1007.0,1153.0,609.0,476.0,466.0,449.0,351.0,266.0,314.0,125.0,76.0,8.0,2.0,1.0,1.0,3.0,3.0,24.0,39.0,50.0,62.0,134.0,153.0,122.0,177.0,309.0,397.0,1669.0,1434.0,1375.0,1215.0,1307.0,1299.0,1123.0,1076.0,1011.0,881.0,852.0,856.0,831.0,774.0,786.0,795.0,798.0,801.0,828.0,827.0,826.0,777.0,753.0,654.0,679.0,643.0,584.0,465.0,358.0,155.0,45.0,14.0,1.0,0.0,1.0,0.0,0.0,0.0,2.0,1.0,3.0,1.0,2.0,1.0,4.0,18.0,48.0,82.0,292.0,574.0,738.0,444.0,161.0,280.0,726.0,948.0,772.0,575.0,618.0,817.0,915.0,949.0,967.0,960.0,977.0,1001.0,963.0,914.0,878.0,881.0,838.0,809.0,842.0,875.0,853.0,813.0,764.0,716.0,678.0,659.0,633.0,576.0,601.0,520.0,532.0,481.0,399.0,416.0,375.0,314.0,287.0,324.0,257.0,182.0,251.0,196.0,125.0,144.0,114.0,60.0,14.0,16.0]},\"selected\":null,\"selection_policy\":null},\"id\":\"bca491e3-5b88-421e-a2dc-f87d76e22e23\",\"type\":\"ColumnDataSource\"},{\"attributes\":{},\"id\":\"d4a5ca66-9ac5-42f3-a9a2-4a0a19b2308d\",\"type\":\"SaveTool\"},{\"attributes\":{\"active_drag\":\"auto\",\"active_inspect\":\"auto\",\"active_scroll\":\"auto\",\"active_tap\":\"auto\",\"tools\":[{\"id\":\"3658cec8-4d0b-4044-b0f3-6054f6ac32ac\",\"type\":\"PanTool\"},{\"id\":\"ce99af15-8b9f-4e58-8a01-9f04b9794a15\",\"type\":\"WheelZoomTool\"},{\"id\":\"0d9893d8-2300-4d90-b7b9-6824f78546ba\",\"type\":\"BoxZoomTool\"},{\"id\":\"d4a5ca66-9ac5-42f3-a9a2-4a0a19b2308d\",\"type\":\"SaveTool\"},{\"id\":\"aa66f110-e31e-4b81-b556-07252dcf1d33\",\"type\":\"ResetTool\"},{\"id\":\"c9060d0e-6bbb-4b6e-a19c-ac5a22396ed3\",\"type\":\"HelpTool\"}]},\"id\":\"68e8c477-175a-49e5-9a4a-be2cd8b4bcc3\",\"type\":\"Toolbar\"},{\"attributes\":{\"overlay\":{\"id\":\"c3f29ba1-2c9a-4538-9a4b-23fb71920c92\",\"type\":\"BoxAnnotation\"}},\"id\":\"0d9893d8-2300-4d90-b7b9-6824f78546ba\",\"type\":\"BoxZoomTool\"},{\"attributes\":{\"line_alpha\":0.1,\"line_color\":\"#1f77b4\",\"line_width\":2,\"x\":{\"field\":\"x\"},\"y\":{\"field\":\"y\"}},\"id\":\"ed8f154a-cca7-4c5c-9be6-03ff2d1d5d40\",\"type\":\"Line\"},{\"attributes\":{},\"id\":\"ce99af15-8b9f-4e58-8a01-9f04b9794a15\",\"type\":\"WheelZoomTool\"},{\"attributes\":{\"label\":{\"value\":\"A\"},\"renderers\":[{\"id\":\"cc2dd4bc-2db6-4c1f-9942-4bd1ecb9e3c0\",\"type\":\"GlyphRenderer\"}]},\"id\":\"852184f9-0f84-49c5-a110-c7e6e25e6930\",\"type\":\"LegendItem\"},{\"attributes\":{\"callback\":null},\"id\":\"63f06316-8297-40f2-86ab-8dd3baaef5c3\",\"type\":\"DataRange1d\"},{\"attributes\":{\"items\":[{\"id\":\"852184f9-0f84-49c5-a110-c7e6e25e6930\",\"type\":\"LegendItem\"}],\"plot\":{\"id\":\"bd048c8b-8ef4-4dbf-a1da-b53e74dd4721\",\"subtype\":\"Figure\",\"type\":\"Plot\"}},\"id\":\"18362319-b297-49e4-b869-981a6d689b25\",\"type\":\"Legend\"},{\"attributes\":{},\"id\":\"3658cec8-4d0b-4044-b0f3-6054f6ac32ac\",\"type\":\"PanTool\"},{\"attributes\":{\"bottom_units\":\"screen\",\"fill_alpha\":{\"value\":0.5},\"fill_color\":{\"value\":\"lightgrey\"},\"left_units\":\"screen\",\"level\":\"overlay\",\"line_alpha\":{\"value\":1.0},\"line_color\":{\"value\":\"black\"},\"line_dash\":[4,4],\"line_width\":{\"value\":2},\"plot\":null,\"render_mode\":\"css\",\"right_units\":\"screen\",\"top_units\":\"screen\"},\"id\":\"c3f29ba1-2c9a-4538-9a4b-23fb71920c92\",\"type\":\"BoxAnnotation\"},{\"attributes\":{\"source\":{\"id\":\"bca491e3-5b88-421e-a2dc-f87d76e22e23\",\"type\":\"ColumnDataSource\"}},\"id\":\"a4d71c0b-998b-402c-b632-3a6f3409c5ab\",\"type\":\"CDSView\"},{\"attributes\":{},\"id\":\"1e28b89c-4603-4945-920a-990bc06f4d4d\",\"type\":\"BasicTickFormatter\"},{\"attributes\":{},\"id\":\"d5058a6b-b3b5-4e2a-b923-9fd5ea59dc93\",\"type\":\"BasicTickFormatter\"},{\"attributes\":{\"dimension\":1,\"plot\":{\"id\":\"bd048c8b-8ef4-4dbf-a1da-b53e74dd4721\",\"subtype\":\"Figure\",\"type\":\"Plot\"},\"ticker\":{\"id\":\"380d0828-69aa-48a9-8500-899ade6e0363\",\"type\":\"BasicTicker\"}},\"id\":\"a780c900-1731-4a78-b36d-accba0986d8f\",\"type\":\"Grid\"},{\"attributes\":{\"line_color\":\"blue\",\"line_width\":2,\"x\":{\"field\":\"x\"},\"y\":{\"field\":\"y\"}},\"id\":\"7c4fd783-ab53-49fc-b491-d2fe671ec0c7\",\"type\":\"Line\"},{\"attributes\":{\"plot\":null,\"text\":\"Spectral Profile\"},\"id\":\"c82b5939-57bd-4b31-8dd0-4f88a474638b\",\"type\":\"Title\"},{\"attributes\":{},\"id\":\"380d0828-69aa-48a9-8500-899ade6e0363\",\"type\":\"BasicTicker\"},{\"attributes\":{\"data_source\":{\"id\":\"bca491e3-5b88-421e-a2dc-f87d76e22e23\",\"type\":\"ColumnDataSource\"},\"glyph\":{\"id\":\"7c4fd783-ab53-49fc-b491-d2fe671ec0c7\",\"type\":\"Line\"},\"hover_glyph\":null,\"muted_glyph\":null,\"nonselection_glyph\":{\"id\":\"ed8f154a-cca7-4c5c-9be6-03ff2d1d5d40\",\"type\":\"Line\"},\"selection_glyph\":null,\"view\":{\"id\":\"a4d71c0b-998b-402c-b632-3a6f3409c5ab\",\"type\":\"CDSView\"}},\"id\":\"cc2dd4bc-2db6-4c1f-9942-4bd1ecb9e3c0\",\"type\":\"GlyphRenderer\"},{\"attributes\":{},\"id\":\"7f4544ee-e74e-44ad-83d9-1f1d5ebd510e\",\"type\":\"BasicTicker\"},{\"attributes\":{\"axis_label\":\"Wavelengths\",\"formatter\":{\"id\":\"1e28b89c-4603-4945-920a-990bc06f4d4d\",\"type\":\"BasicTickFormatter\"},\"plot\":{\"id\":\"bd048c8b-8ef4-4dbf-a1da-b53e74dd4721\",\"subtype\":\"Figure\",\"type\":\"Plot\"},\"ticker\":{\"id\":\"7f4544ee-e74e-44ad-83d9-1f1d5ebd510e\",\"type\":\"BasicTicker\"}},\"id\":\"03595218-99b2-4043-b719-2bbc7a42045b\",\"type\":\"LinearAxis\"},{\"attributes\":{},\"id\":\"09b9f334-6e51-4f32-827a-f59bc01d06cd\",\"type\":\"LinearScale\"},{\"attributes\":{\"axis_label\":\"Radiance\",\"formatter\":{\"id\":\"d5058a6b-b3b5-4e2a-b923-9fd5ea59dc93\",\"type\":\"BasicTickFormatter\"},\"plot\":{\"id\":\"bd048c8b-8ef4-4dbf-a1da-b53e74dd4721\",\"subtype\":\"Figure\",\"type\":\"Plot\"},\"ticker\":{\"id\":\"380d0828-69aa-48a9-8500-899ade6e0363\",\"type\":\"BasicTicker\"}},\"id\":\"d9fc7ce2-b4f7-430f-9e2e-d09f508de727\",\"type\":\"LinearAxis\"},{\"attributes\":{\"plot\":{\"id\":\"bd048c8b-8ef4-4dbf-a1da-b53e74dd4721\",\"subtype\":\"Figure\",\"type\":\"Plot\"},\"ticker\":{\"id\":\"7f4544ee-e74e-44ad-83d9-1f1d5ebd510e\",\"type\":\"BasicTicker\"}},\"id\":\"35c78ff6-dbae-47cc-b284-7b79fbd8d60d\",\"type\":\"Grid\"},{\"attributes\":{\"callback\":null},\"id\":\"cef26d65-e894-433e-b549-ad1456836c8c\",\"type\":\"DataRange1d\"},{\"attributes\":{},\"id\":\"dd4ee359-ede8-4c09-a1d8-66594baeb347\",\"type\":\"LinearScale\"},{\"attributes\":{},\"id\":\"c9060d0e-6bbb-4b6e-a19c-ac5a22396ed3\",\"type\":\"HelpTool\"},{\"attributes\":{\"below\":[{\"id\":\"03595218-99b2-4043-b719-2bbc7a42045b\",\"type\":\"LinearAxis\"}],\"left\":[{\"id\":\"d9fc7ce2-b4f7-430f-9e2e-d09f508de727\",\"type\":\"LinearAxis\"}],\"plot_height\":300,\"renderers\":[{\"id\":\"03595218-99b2-4043-b719-2bbc7a42045b\",\"type\":\"LinearAxis\"},{\"id\":\"35c78ff6-dbae-47cc-b284-7b79fbd8d60d\",\"type\":\"Grid\"},{\"id\":\"d9fc7ce2-b4f7-430f-9e2e-d09f508de727\",\"type\":\"LinearAxis\"},{\"id\":\"a780c900-1731-4a78-b36d-accba0986d8f\",\"type\":\"Grid\"},{\"id\":\"c3f29ba1-2c9a-4538-9a4b-23fb71920c92\",\"type\":\"BoxAnnotation\"},{\"id\":\"18362319-b297-49e4-b869-981a6d689b25\",\"type\":\"Legend\"},{\"id\":\"cc2dd4bc-2db6-4c1f-9942-4bd1ecb9e3c0\",\"type\":\"GlyphRenderer\"}],\"title\":{\"id\":\"c82b5939-57bd-4b31-8dd0-4f88a474638b\",\"type\":\"Title\"},\"toolbar\":{\"id\":\"68e8c477-175a-49e5-9a4a-be2cd8b4bcc3\",\"type\":\"Toolbar\"},\"x_range\":{\"id\":\"63f06316-8297-40f2-86ab-8dd3baaef5c3\",\"type\":\"DataRange1d\"},\"x_scale\":{\"id\":\"dd4ee359-ede8-4c09-a1d8-66594baeb347\",\"type\":\"LinearScale\"},\"y_range\":{\"id\":\"cef26d65-e894-433e-b549-ad1456836c8c\",\"type\":\"DataRange1d\"},\"y_scale\":{\"id\":\"09b9f334-6e51-4f32-827a-f59bc01d06cd\",\"type\":\"LinearScale\"}},\"id\":\"bd048c8b-8ef4-4dbf-a1da-b53e74dd4721\",\"subtype\":\"Figure\",\"type\":\"Plot\"},{\"attributes\":{},\"id\":\"aa66f110-e31e-4b81-b556-07252dcf1d33\",\"type\":\"ResetTool\"}],\"root_ids\":[\"bd048c8b-8ef4-4dbf-a1da-b53e74dd4721\"]},\"title\":\"Bokeh Application\",\"version\":\"0.12.15\"}};\n",
       "  var render_items = [{\"docid\":\"151138a0-db3b-4ef3-9bc1-611ef4c58652\",\"elementid\":\"824510fe-4d61-4755-8483-03d4187165cb\",\"modelid\":\"bd048c8b-8ef4-4dbf-a1da-b53e74dd4721\",\"notebook_comms_target\":\"c62a1b0d-aec8-43b6-82aa-df4e0c8acef9\"}];\n",
       "  root.Bokeh.embed.embed_items_notebook(docs_json, render_items);\n",
       "\n",
       "  }\n",
       "  if (root.Bokeh !== undefined) {\n",
       "    embed_document(root);\n",
       "  } else {\n",
       "    var attempts = 0;\n",
       "    var timer = setInterval(function(root) {\n",
       "      if (root.Bokeh !== undefined) {\n",
       "        embed_document(root);\n",
       "        clearInterval(timer);\n",
       "      }\n",
       "      attempts++;\n",
       "      if (attempts > 100) {\n",
       "        console.log(\"Bokeh: ERROR: Unable to run BokehJS code because BokehJS library is missing\")\n",
       "        clearInterval(timer);\n",
       "      }\n",
       "    }, 10, root)\n",
       "  }\n",
       "})(window);"
      ],
      "application/vnd.bokehjs_exec.v0+json": ""
     },
     "metadata": {
      "application/vnd.bokehjs_exec.v0+json": {
       "id": "bd048c8b-8ef4-4dbf-a1da-b53e74dd4721"
      }
     },
     "output_type": "display_data"
    },
    {
     "name": "stdout",
     "output_type": "stream",
     "text": [
      "1\n"
     ]
    },
    {
     "data": {
      "text/html": [
       "\n",
       "<div class=\"bk-root\">\n",
       "    <div class=\"bk-plotdiv\" id=\"90b58807-c6e3-4d0f-81b8-dc7dd297058c\"></div>\n",
       "</div>"
      ]
     },
     "metadata": {},
     "output_type": "display_data"
    },
    {
     "data": {
      "application/javascript": [
       "(function(root) {\n",
       "  function embed_document(root) {\n",
       "    \n",
       "  var docs_json = {\"669fab81-355f-4f78-b190-7d7317b04557\":{\"roots\":{\"references\":[{\"attributes\":{\"source\":{\"id\":\"423f1442-f508-474a-8024-d9760a51457b\",\"type\":\"ColumnDataSource\"}},\"id\":\"017140c5-5b9c-421f-9b1f-3bc79cfc7447\",\"type\":\"CDSView\"},{\"attributes\":{\"line_alpha\":0.1,\"line_color\":\"#1f77b4\",\"line_width\":2,\"x\":{\"field\":\"x\"},\"y\":{\"field\":\"y\"}},\"id\":\"ed8f154a-cca7-4c5c-9be6-03ff2d1d5d40\",\"type\":\"Line\"},{\"attributes\":{\"callback\":null,\"column_names\":[\"x\",\"y\"],\"data\":{\"x\":[365.9298,375.594,385.2625,394.9355,404.6129,414.2946,423.9808,433.6713,443.3662,453.0655,462.7692,472.4773,482.1898,491.9066,501.6279,511.3535,521.0836,530.818,540.5568,550.3,560.0477,569.7996,579.556,589.3168,599.0819,608.8515,618.6254,628.4037,638.1865,647.9736,657.7651,667.561,655.2923,665.0994,674.9012,684.6979,694.4894,704.2756,714.0566,723.8325,733.6031,743.3685,753.1287,762.8837,772.6335,782.3781,792.1174,801.8516,811.5805,821.3043,831.0228,840.7361,850.4442,860.1471,869.8448,879.5372,889.2245,898.9066,908.5834,918.2551,927.9214,937.5827,947.2387,956.8895,966.5351,976.1755,985.8106,995.4406,1005.065,1014.685,1024.299,1033.908,1043.512,1053.111,1062.704,1072.293,1081.876,1091.454,1101.026,1110.594,1120.156,1129.713,1139.265,1148.811,1158.353,1167.889,1177.42,1186.946,1196.466,1205.982,1215.492,1224.997,1234.496,1243.991,1253.48,1262.964,1253.373,1263.346,1273.318,1283.291,1293.262,1303.234,1313.206,1323.177,1333.148,1343.119,1353.089,1363.06,1373.03,1383.0,1392.969,1402.939,1412.908,1422.877,1432.845,1442.814,1452.782,1462.75,1472.718,1482.685,1492.652,1502.619,1512.586,1522.552,1532.518,1542.484,1552.45,1562.416,1572.381,1582.346,1592.311,1602.275,1612.24,1622.204,1632.167,1642.131,1652.094,1662.057,1672.02,1681.983,1691.945,1701.907,1711.869,1721.831,1731.792,1741.753,1751.714,1761.675,1771.635,1781.596,1791.556,1801.515,1811.475,1821.434,1831.393,1841.352,1851.31,1861.269,1871.227,1873.184,1867.664,1877.725,1887.785,1897.842,1907.896,1917.948,1927.999,1938.046,1948.092,1958.135,1968.175,1978.214,1988.25,1998.284,2008.315,2018.345,2028.372,2038.396,2048.419,2058.439,2068.456,2078.472,2088.485,2098.496,2108.504,2118.51,2128.514,2138.516,2148.515,2158.512,2168.507,2178.499,2188.489,2198.477,2208.462,2218.445,2228.426,2238.405,2248.381,2258.354,2268.326,2278.295,2288.262,2298.227,2308.189,2318.149,2328.107,2338.062,2348.016,2357.967,2367.915,2377.861,2387.805,2397.747,2407.686,2417.623,2427.558,2437.49,2447.42,2457.348,2467.273,2477.196,2487.117,2497.036],\"y\":[983.0,1114.0,1110.0,1331.0,1848.0,1918.0,1784.0,1659.0,1790.0,1836.0,1771.0,1659.0,1585.0,1459.0,1409.0,1360.0,1328.0,1379.0,1430.0,1412.0,1340.0,1241.0,1165.0,1086.0,1059.0,1029.0,976.0,933.0,924.0,883.0,845.0,852.0,837.0,845.0,825.0,761.0,840.0,1036.0,1200.0,1370.0,1898.0,2395.0,2522.0,1666.0,2499.0,2652.0,2539.0,2487.0,2283.0,1987.0,2105.0,2301.0,2318.0,2304.0,2274.0,2259.0,2170.0,1775.0,1586.0,1496.0,1322.0,704.0,652.0,845.0,1308.0,1473.0,1732.0,1806.0,1779.0,1793.0,1777.0,1759.0,1740.0,1696.0,1638.0,1594.0,1502.0,1408.0,1173.0,794.0,278.0,256.0,376.0,349.0,617.0,889.0,951.0,946.0,987.0,972.0,1031.0,1081.0,1130.0,1129.0,1078.0,922.0,1056.0,562.0,438.0,426.0,408.0,311.0,235.0,257.0,106.0,62.0,6.0,1.0,1.0,1.0,1.0,3.0,16.0,21.0,26.0,30.0,66.0,77.0,62.0,91.0,165.0,217.0,936.0,815.0,804.0,731.0,802.0,814.0,719.0,694.0,667.0,586.0,572.0,580.0,570.0,532.0,541.0,551.0,552.0,553.0,575.0,568.0,563.0,529.0,503.0,433.0,444.0,413.0,372.0,296.0,224.0,95.0,31.0,8.0,0.0,0.0,0.0,1.0,0.0,0.0,1.0,0.0,1.0,1.0,1.0,1.0,4.0,9.0,23.0,33.0,111.0,215.0,283.0,170.0,64.0,114.0,299.0,408.0,334.0,250.0,284.0,382.0,440.0,466.0,485.0,482.0,494.0,511.0,493.0,474.0,450.0,460.0,442.0,427.0,446.0,465.0,453.0,434.0,405.0,378.0,350.0,338.0,317.0,285.0,296.0,258.0,263.0,231.0,189.0,191.0,177.0,144.0,129.0,142.0,117.0,79.0,106.0,84.0,54.0,62.0,49.0,28.0,6.0,7.0]},\"selected\":null,\"selection_policy\":null},\"id\":\"423f1442-f508-474a-8024-d9760a51457b\",\"type\":\"ColumnDataSource\"},{\"attributes\":{},\"id\":\"d5058a6b-b3b5-4e2a-b923-9fd5ea59dc93\",\"type\":\"BasicTickFormatter\"},{\"attributes\":{\"line_color\":\"blueviolet\",\"line_width\":2,\"x\":{\"field\":\"x\"},\"y\":{\"field\":\"y\"}},\"id\":\"0e99203a-771e-4e95-900a-9b6f33a7f0a2\",\"type\":\"Line\"},{\"attributes\":{},\"id\":\"c9060d0e-6bbb-4b6e-a19c-ac5a22396ed3\",\"type\":\"HelpTool\"},{\"attributes\":{\"callback\":null,\"column_names\":[\"x\",\"y\"],\"data\":{\"x\":[365.9298,375.594,385.2625,394.9355,404.6129,414.2946,423.9808,433.6713,443.3662,453.0655,462.7692,472.4773,482.1898,491.9066,501.6279,511.3535,521.0836,530.818,540.5568,550.3,560.0477,569.7996,579.556,589.3168,599.0819,608.8515,618.6254,628.4037,638.1865,647.9736,657.7651,667.561,655.2923,665.0994,674.9012,684.6979,694.4894,704.2756,714.0566,723.8325,733.6031,743.3685,753.1287,762.8837,772.6335,782.3781,792.1174,801.8516,811.5805,821.3043,831.0228,840.7361,850.4442,860.1471,869.8448,879.5372,889.2245,898.9066,908.5834,918.2551,927.9214,937.5827,947.2387,956.8895,966.5351,976.1755,985.8106,995.4406,1005.065,1014.685,1024.299,1033.908,1043.512,1053.111,1062.704,1072.293,1081.876,1091.454,1101.026,1110.594,1120.156,1129.713,1139.265,1148.811,1158.353,1167.889,1177.42,1186.946,1196.466,1205.982,1215.492,1224.997,1234.496,1243.991,1253.48,1262.964,1253.373,1263.346,1273.318,1283.291,1293.262,1303.234,1313.206,1323.177,1333.148,1343.119,1353.089,1363.06,1373.03,1383.0,1392.969,1402.939,1412.908,1422.877,1432.845,1442.814,1452.782,1462.75,1472.718,1482.685,1492.652,1502.619,1512.586,1522.552,1532.518,1542.484,1552.45,1562.416,1572.381,1582.346,1592.311,1602.275,1612.24,1622.204,1632.167,1642.131,1652.094,1662.057,1672.02,1681.983,1691.945,1701.907,1711.869,1721.831,1731.792,1741.753,1751.714,1761.675,1771.635,1781.596,1791.556,1801.515,1811.475,1821.434,1831.393,1841.352,1851.31,1861.269,1871.227,1873.184,1867.664,1877.725,1887.785,1897.842,1907.896,1917.948,1927.999,1938.046,1948.092,1958.135,1968.175,1978.214,1988.25,1998.284,2008.315,2018.345,2028.372,2038.396,2048.419,2058.439,2068.456,2078.472,2088.485,2098.496,2108.504,2118.51,2128.514,2138.516,2148.515,2158.512,2168.507,2178.499,2188.489,2198.477,2208.462,2218.445,2228.426,2238.405,2248.381,2258.354,2268.326,2278.295,2288.262,2298.227,2308.189,2318.149,2328.107,2338.062,2348.016,2357.967,2367.915,2377.861,2387.805,2397.747,2407.686,2417.623,2427.558,2437.49,2447.42,2457.348,2467.273,2477.196,2487.117,2497.036],\"y\":[1052.0,1163.0,1206.0,1494.0,2096.0,2202.0,2083.0,1988.0,2192.0,2277.0,2242.0,2163.0,2105.0,1992.0,1951.0,1899.0,1837.0,1862.0,1887.0,1886.0,1840.0,1791.0,1770.0,1715.0,1721.0,1726.0,1693.0,1656.0,1691.0,1665.0,1644.0,1706.0,1627.0,1699.0,1703.0,1572.0,1598.0,1719.0,1675.0,1539.0,1756.0,1961.0,1934.0,1255.0,1876.0,1999.0,1931.0,1914.0,1767.0,1550.0,1656.0,1829.0,1861.0,1857.0,1854.0,1856.0,1793.0,1470.0,1329.0,1261.0,1121.0,598.0,576.0,763.0,1193.0,1346.0,1595.0,1658.0,1632.0,1650.0,1637.0,1612.0,1598.0,1559.0,1511.0,1480.0,1403.0,1323.0,1110.0,754.0,264.0,245.0,376.0,358.0,651.0,946.0,1020.0,1025.0,1068.0,1055.0,1122.0,1177.0,1230.0,1224.0,1175.0,1007.0,1153.0,609.0,476.0,466.0,449.0,351.0,266.0,314.0,125.0,76.0,8.0,2.0,1.0,1.0,3.0,3.0,24.0,39.0,50.0,62.0,134.0,153.0,122.0,177.0,309.0,397.0,1669.0,1434.0,1375.0,1215.0,1307.0,1299.0,1123.0,1076.0,1011.0,881.0,852.0,856.0,831.0,774.0,786.0,795.0,798.0,801.0,828.0,827.0,826.0,777.0,753.0,654.0,679.0,643.0,584.0,465.0,358.0,155.0,45.0,14.0,1.0,0.0,1.0,0.0,0.0,0.0,2.0,1.0,3.0,1.0,2.0,1.0,4.0,18.0,48.0,82.0,292.0,574.0,738.0,444.0,161.0,280.0,726.0,948.0,772.0,575.0,618.0,817.0,915.0,949.0,967.0,960.0,977.0,1001.0,963.0,914.0,878.0,881.0,838.0,809.0,842.0,875.0,853.0,813.0,764.0,716.0,678.0,659.0,633.0,576.0,601.0,520.0,532.0,481.0,399.0,416.0,375.0,314.0,287.0,324.0,257.0,182.0,251.0,196.0,125.0,144.0,114.0,60.0,14.0,16.0]},\"selected\":null,\"selection_policy\":null},\"id\":\"bca491e3-5b88-421e-a2dc-f87d76e22e23\",\"type\":\"ColumnDataSource\"},{\"attributes\":{},\"id\":\"aa66f110-e31e-4b81-b556-07252dcf1d33\",\"type\":\"ResetTool\"},{\"attributes\":{},\"id\":\"d4a5ca66-9ac5-42f3-a9a2-4a0a19b2308d\",\"type\":\"SaveTool\"},{\"attributes\":{\"active_drag\":\"auto\",\"active_inspect\":\"auto\",\"active_scroll\":\"auto\",\"active_tap\":\"auto\",\"tools\":[{\"id\":\"3658cec8-4d0b-4044-b0f3-6054f6ac32ac\",\"type\":\"PanTool\"},{\"id\":\"ce99af15-8b9f-4e58-8a01-9f04b9794a15\",\"type\":\"WheelZoomTool\"},{\"id\":\"0d9893d8-2300-4d90-b7b9-6824f78546ba\",\"type\":\"BoxZoomTool\"},{\"id\":\"d4a5ca66-9ac5-42f3-a9a2-4a0a19b2308d\",\"type\":\"SaveTool\"},{\"id\":\"aa66f110-e31e-4b81-b556-07252dcf1d33\",\"type\":\"ResetTool\"},{\"id\":\"c9060d0e-6bbb-4b6e-a19c-ac5a22396ed3\",\"type\":\"HelpTool\"}]},\"id\":\"68e8c477-175a-49e5-9a4a-be2cd8b4bcc3\",\"type\":\"Toolbar\"},{\"attributes\":{\"overlay\":{\"id\":\"c3f29ba1-2c9a-4538-9a4b-23fb71920c92\",\"type\":\"BoxAnnotation\"}},\"id\":\"0d9893d8-2300-4d90-b7b9-6824f78546ba\",\"type\":\"BoxZoomTool\"},{\"attributes\":{},\"id\":\"ce99af15-8b9f-4e58-8a01-9f04b9794a15\",\"type\":\"WheelZoomTool\"},{\"attributes\":{\"label\":{\"value\":\"A\"},\"renderers\":[{\"id\":\"cc2dd4bc-2db6-4c1f-9942-4bd1ecb9e3c0\",\"type\":\"GlyphRenderer\"}]},\"id\":\"852184f9-0f84-49c5-a110-c7e6e25e6930\",\"type\":\"LegendItem\"},{\"attributes\":{\"callback\":null},\"id\":\"63f06316-8297-40f2-86ab-8dd3baaef5c3\",\"type\":\"DataRange1d\"},{\"attributes\":{\"label\":{\"value\":\"B\"},\"renderers\":[{\"id\":\"7630a94c-2331-43d7-a554-46b1d6563dd3\",\"type\":\"GlyphRenderer\"}]},\"id\":\"01797b9d-83ca-45cd-8130-85c44d7ece7f\",\"type\":\"LegendItem\"},{\"attributes\":{\"line_alpha\":0.1,\"line_color\":\"#1f77b4\",\"line_width\":2,\"x\":{\"field\":\"x\"},\"y\":{\"field\":\"y\"}},\"id\":\"615f839c-1fd7-4fef-ba26-67f6b0eaf10d\",\"type\":\"Line\"},{\"attributes\":{\"items\":[{\"id\":\"852184f9-0f84-49c5-a110-c7e6e25e6930\",\"type\":\"LegendItem\"},{\"id\":\"01797b9d-83ca-45cd-8130-85c44d7ece7f\",\"type\":\"LegendItem\"}],\"plot\":{\"id\":\"bd048c8b-8ef4-4dbf-a1da-b53e74dd4721\",\"subtype\":\"Figure\",\"type\":\"Plot\"}},\"id\":\"18362319-b297-49e4-b869-981a6d689b25\",\"type\":\"Legend\"},{\"attributes\":{},\"id\":\"3658cec8-4d0b-4044-b0f3-6054f6ac32ac\",\"type\":\"PanTool\"},{\"attributes\":{\"below\":[{\"id\":\"03595218-99b2-4043-b719-2bbc7a42045b\",\"type\":\"LinearAxis\"}],\"left\":[{\"id\":\"d9fc7ce2-b4f7-430f-9e2e-d09f508de727\",\"type\":\"LinearAxis\"}],\"plot_height\":300,\"renderers\":[{\"id\":\"03595218-99b2-4043-b719-2bbc7a42045b\",\"type\":\"LinearAxis\"},{\"id\":\"35c78ff6-dbae-47cc-b284-7b79fbd8d60d\",\"type\":\"Grid\"},{\"id\":\"d9fc7ce2-b4f7-430f-9e2e-d09f508de727\",\"type\":\"LinearAxis\"},{\"id\":\"a780c900-1731-4a78-b36d-accba0986d8f\",\"type\":\"Grid\"},{\"id\":\"c3f29ba1-2c9a-4538-9a4b-23fb71920c92\",\"type\":\"BoxAnnotation\"},{\"id\":\"18362319-b297-49e4-b869-981a6d689b25\",\"type\":\"Legend\"},{\"id\":\"cc2dd4bc-2db6-4c1f-9942-4bd1ecb9e3c0\",\"type\":\"GlyphRenderer\"},{\"id\":\"7630a94c-2331-43d7-a554-46b1d6563dd3\",\"type\":\"GlyphRenderer\"}],\"title\":{\"id\":\"c82b5939-57bd-4b31-8dd0-4f88a474638b\",\"type\":\"Title\"},\"toolbar\":{\"id\":\"68e8c477-175a-49e5-9a4a-be2cd8b4bcc3\",\"type\":\"Toolbar\"},\"x_range\":{\"id\":\"63f06316-8297-40f2-86ab-8dd3baaef5c3\",\"type\":\"DataRange1d\"},\"x_scale\":{\"id\":\"dd4ee359-ede8-4c09-a1d8-66594baeb347\",\"type\":\"LinearScale\"},\"y_range\":{\"id\":\"cef26d65-e894-433e-b549-ad1456836c8c\",\"type\":\"DataRange1d\"},\"y_scale\":{\"id\":\"09b9f334-6e51-4f32-827a-f59bc01d06cd\",\"type\":\"LinearScale\"}},\"id\":\"bd048c8b-8ef4-4dbf-a1da-b53e74dd4721\",\"subtype\":\"Figure\",\"type\":\"Plot\"},{\"attributes\":{\"bottom_units\":\"screen\",\"fill_alpha\":{\"value\":0.5},\"fill_color\":{\"value\":\"lightgrey\"},\"left_units\":\"screen\",\"level\":\"overlay\",\"line_alpha\":{\"value\":1.0},\"line_color\":{\"value\":\"black\"},\"line_dash\":[4,4],\"line_width\":{\"value\":2},\"plot\":null,\"render_mode\":\"css\",\"right_units\":\"screen\",\"top_units\":\"screen\"},\"id\":\"c3f29ba1-2c9a-4538-9a4b-23fb71920c92\",\"type\":\"BoxAnnotation\"},{\"attributes\":{\"source\":{\"id\":\"bca491e3-5b88-421e-a2dc-f87d76e22e23\",\"type\":\"ColumnDataSource\"}},\"id\":\"a4d71c0b-998b-402c-b632-3a6f3409c5ab\",\"type\":\"CDSView\"},{\"attributes\":{\"data_source\":{\"id\":\"423f1442-f508-474a-8024-d9760a51457b\",\"type\":\"ColumnDataSource\"},\"glyph\":{\"id\":\"0e99203a-771e-4e95-900a-9b6f33a7f0a2\",\"type\":\"Line\"},\"hover_glyph\":null,\"muted_glyph\":null,\"nonselection_glyph\":{\"id\":\"615f839c-1fd7-4fef-ba26-67f6b0eaf10d\",\"type\":\"Line\"},\"selection_glyph\":null,\"view\":{\"id\":\"017140c5-5b9c-421f-9b1f-3bc79cfc7447\",\"type\":\"CDSView\"}},\"id\":\"7630a94c-2331-43d7-a554-46b1d6563dd3\",\"type\":\"GlyphRenderer\"},{\"attributes\":{},\"id\":\"1e28b89c-4603-4945-920a-990bc06f4d4d\",\"type\":\"BasicTickFormatter\"},{\"attributes\":{\"dimension\":1,\"plot\":{\"id\":\"bd048c8b-8ef4-4dbf-a1da-b53e74dd4721\",\"subtype\":\"Figure\",\"type\":\"Plot\"},\"ticker\":{\"id\":\"380d0828-69aa-48a9-8500-899ade6e0363\",\"type\":\"BasicTicker\"}},\"id\":\"a780c900-1731-4a78-b36d-accba0986d8f\",\"type\":\"Grid\"},{\"attributes\":{\"line_color\":\"blue\",\"line_width\":2,\"x\":{\"field\":\"x\"},\"y\":{\"field\":\"y\"}},\"id\":\"7c4fd783-ab53-49fc-b491-d2fe671ec0c7\",\"type\":\"Line\"},{\"attributes\":{\"plot\":null,\"text\":\"Spectral Profile\"},\"id\":\"c82b5939-57bd-4b31-8dd0-4f88a474638b\",\"type\":\"Title\"},{\"attributes\":{},\"id\":\"380d0828-69aa-48a9-8500-899ade6e0363\",\"type\":\"BasicTicker\"},{\"attributes\":{},\"id\":\"7f4544ee-e74e-44ad-83d9-1f1d5ebd510e\",\"type\":\"BasicTicker\"},{\"attributes\":{},\"id\":\"09b9f334-6e51-4f32-827a-f59bc01d06cd\",\"type\":\"LinearScale\"},{\"attributes\":{\"axis_label\":\"Radiance\",\"formatter\":{\"id\":\"d5058a6b-b3b5-4e2a-b923-9fd5ea59dc93\",\"type\":\"BasicTickFormatter\"},\"plot\":{\"id\":\"bd048c8b-8ef4-4dbf-a1da-b53e74dd4721\",\"subtype\":\"Figure\",\"type\":\"Plot\"},\"ticker\":{\"id\":\"380d0828-69aa-48a9-8500-899ade6e0363\",\"type\":\"BasicTicker\"}},\"id\":\"d9fc7ce2-b4f7-430f-9e2e-d09f508de727\",\"type\":\"LinearAxis\"},{\"attributes\":{\"plot\":{\"id\":\"bd048c8b-8ef4-4dbf-a1da-b53e74dd4721\",\"subtype\":\"Figure\",\"type\":\"Plot\"},\"ticker\":{\"id\":\"7f4544ee-e74e-44ad-83d9-1f1d5ebd510e\",\"type\":\"BasicTicker\"}},\"id\":\"35c78ff6-dbae-47cc-b284-7b79fbd8d60d\",\"type\":\"Grid\"},{\"attributes\":{\"callback\":null},\"id\":\"cef26d65-e894-433e-b549-ad1456836c8c\",\"type\":\"DataRange1d\"},{\"attributes\":{},\"id\":\"dd4ee359-ede8-4c09-a1d8-66594baeb347\",\"type\":\"LinearScale\"},{\"attributes\":{\"data_source\":{\"id\":\"bca491e3-5b88-421e-a2dc-f87d76e22e23\",\"type\":\"ColumnDataSource\"},\"glyph\":{\"id\":\"7c4fd783-ab53-49fc-b491-d2fe671ec0c7\",\"type\":\"Line\"},\"hover_glyph\":null,\"muted_glyph\":null,\"nonselection_glyph\":{\"id\":\"ed8f154a-cca7-4c5c-9be6-03ff2d1d5d40\",\"type\":\"Line\"},\"selection_glyph\":null,\"view\":{\"id\":\"a4d71c0b-998b-402c-b632-3a6f3409c5ab\",\"type\":\"CDSView\"}},\"id\":\"cc2dd4bc-2db6-4c1f-9942-4bd1ecb9e3c0\",\"type\":\"GlyphRenderer\"},{\"attributes\":{\"axis_label\":\"Wavelengths\",\"formatter\":{\"id\":\"1e28b89c-4603-4945-920a-990bc06f4d4d\",\"type\":\"BasicTickFormatter\"},\"plot\":{\"id\":\"bd048c8b-8ef4-4dbf-a1da-b53e74dd4721\",\"subtype\":\"Figure\",\"type\":\"Plot\"},\"ticker\":{\"id\":\"7f4544ee-e74e-44ad-83d9-1f1d5ebd510e\",\"type\":\"BasicTicker\"}},\"id\":\"03595218-99b2-4043-b719-2bbc7a42045b\",\"type\":\"LinearAxis\"}],\"root_ids\":[\"bd048c8b-8ef4-4dbf-a1da-b53e74dd4721\"]},\"title\":\"Bokeh Application\",\"version\":\"0.12.15\"}};\n",
       "  var render_items = [{\"docid\":\"669fab81-355f-4f78-b190-7d7317b04557\",\"elementid\":\"90b58807-c6e3-4d0f-81b8-dc7dd297058c\",\"modelid\":\"bd048c8b-8ef4-4dbf-a1da-b53e74dd4721\",\"notebook_comms_target\":\"a35f5e1f-5376-4910-9366-0eeff8575146\"}];\n",
       "  root.Bokeh.embed.embed_items_notebook(docs_json, render_items);\n",
       "\n",
       "  }\n",
       "  if (root.Bokeh !== undefined) {\n",
       "    embed_document(root);\n",
       "  } else {\n",
       "    var attempts = 0;\n",
       "    var timer = setInterval(function(root) {\n",
       "      if (root.Bokeh !== undefined) {\n",
       "        embed_document(root);\n",
       "        clearInterval(timer);\n",
       "      }\n",
       "      attempts++;\n",
       "      if (attempts > 100) {\n",
       "        console.log(\"Bokeh: ERROR: Unable to run BokehJS code because BokehJS library is missing\")\n",
       "        clearInterval(timer);\n",
       "      }\n",
       "    }, 10, root)\n",
       "  }\n",
       "})(window);"
      ],
      "application/vnd.bokehjs_exec.v0+json": ""
     },
     "metadata": {
      "application/vnd.bokehjs_exec.v0+json": {
       "id": "bd048c8b-8ef4-4dbf-a1da-b53e74dd4721"
      }
     },
     "output_type": "display_data"
    },
    {
     "name": "stdout",
     "output_type": "stream",
     "text": [
      "2\n"
     ]
    }
   ],
   "source": [
    "from ipywidgets import Output\n",
    "from IPython.display import display\n",
    "\n",
    "map2 = gis.map('Greenwood, NE', zoomlevel=13)\n",
    "display(map2)"
   ]
  },
  {
   "cell_type": "code",
   "execution_count": 27,
   "metadata": {},
   "outputs": [],
   "source": [
    "map2.add_layer(aviris_fcc)"
   ]
  },
  {
   "cell_type": "code",
   "execution_count": 28,
   "metadata": {},
   "outputs": [],
   "source": [
    "out = Output()"
   ]
  },
  {
   "cell_type": "markdown",
   "metadata": {},
   "source": [
    "##### drawing logic"
   ]
  },
  {
   "cell_type": "code",
   "execution_count": 11,
   "metadata": {},
   "outputs": [
    {
     "data": {
      "text/html": [
       "\n",
       "    <div class=\"bk-root\">\n",
       "        <a href=\"https://bokeh.pydata.org\" target=\"_blank\" class=\"bk-logo bk-logo-small bk-logo-notebook\"></a>\n",
       "        <span id=\"881df2a9-b5d4-43ba-9d55-4c91d28821b7\">Loading BokehJS ...</span>\n",
       "    </div>"
      ]
     },
     "metadata": {},
     "output_type": "display_data"
    },
    {
     "data": {
      "application/javascript": [
       "\n",
       "(function(root) {\n",
       "  function now() {\n",
       "    return new Date();\n",
       "  }\n",
       "\n",
       "  var force = true;\n",
       "\n",
       "  if (typeof (root._bokeh_onload_callbacks) === \"undefined\" || force === true) {\n",
       "    root._bokeh_onload_callbacks = [];\n",
       "    root._bokeh_is_loading = undefined;\n",
       "  }\n",
       "\n",
       "  var JS_MIME_TYPE = 'application/javascript';\n",
       "  var HTML_MIME_TYPE = 'text/html';\n",
       "  var EXEC_MIME_TYPE = 'application/vnd.bokehjs_exec.v0+json';\n",
       "  var CLASS_NAME = 'output_bokeh rendered_html';\n",
       "\n",
       "  /**\n",
       "   * Render data to the DOM node\n",
       "   */\n",
       "  function render(props, node) {\n",
       "    var script = document.createElement(\"script\");\n",
       "    node.appendChild(script);\n",
       "  }\n",
       "\n",
       "  /**\n",
       "   * Handle when an output is cleared or removed\n",
       "   */\n",
       "  function handleClearOutput(event, handle) {\n",
       "    var cell = handle.cell;\n",
       "\n",
       "    var id = cell.output_area._bokeh_element_id;\n",
       "    var server_id = cell.output_area._bokeh_server_id;\n",
       "    // Clean up Bokeh references\n",
       "    if (id !== undefined) {\n",
       "      Bokeh.index[id].model.document.clear();\n",
       "      delete Bokeh.index[id];\n",
       "    }\n",
       "\n",
       "    if (server_id !== undefined) {\n",
       "      // Clean up Bokeh references\n",
       "      var cmd = \"from bokeh.io.state import curstate; print(curstate().uuid_to_server['\" + server_id + \"'].get_sessions()[0].document.roots[0]._id)\";\n",
       "      cell.notebook.kernel.execute(cmd, {\n",
       "        iopub: {\n",
       "          output: function(msg) {\n",
       "            var element_id = msg.content.text.trim();\n",
       "            Bokeh.index[element_id].model.document.clear();\n",
       "            delete Bokeh.index[element_id];\n",
       "          }\n",
       "        }\n",
       "      });\n",
       "      // Destroy server and session\n",
       "      var cmd = \"import bokeh.io.notebook as ion; ion.destroy_server('\" + server_id + \"')\";\n",
       "      cell.notebook.kernel.execute(cmd);\n",
       "    }\n",
       "  }\n",
       "\n",
       "  /**\n",
       "   * Handle when a new output is added\n",
       "   */\n",
       "  function handleAddOutput(event, handle) {\n",
       "    var output_area = handle.output_area;\n",
       "    var output = handle.output;\n",
       "\n",
       "    // limit handleAddOutput to display_data with EXEC_MIME_TYPE content only\n",
       "    if ((output.output_type != \"display_data\") || (!output.data.hasOwnProperty(EXEC_MIME_TYPE))) {\n",
       "      return\n",
       "    }\n",
       "\n",
       "    var toinsert = output_area.element.find(\".\" + CLASS_NAME.split(' ')[0]);\n",
       "\n",
       "    if (output.metadata[EXEC_MIME_TYPE][\"id\"] !== undefined) {\n",
       "      toinsert[toinsert.length - 1].firstChild.textContent = output.data[JS_MIME_TYPE];\n",
       "      // store reference to embed id on output_area\n",
       "      output_area._bokeh_element_id = output.metadata[EXEC_MIME_TYPE][\"id\"];\n",
       "    }\n",
       "    if (output.metadata[EXEC_MIME_TYPE][\"server_id\"] !== undefined) {\n",
       "      var bk_div = document.createElement(\"div\");\n",
       "      bk_div.innerHTML = output.data[HTML_MIME_TYPE];\n",
       "      var script_attrs = bk_div.children[0].attributes;\n",
       "      for (var i = 0; i < script_attrs.length; i++) {\n",
       "        toinsert[toinsert.length - 1].firstChild.setAttribute(script_attrs[i].name, script_attrs[i].value);\n",
       "      }\n",
       "      // store reference to server id on output_area\n",
       "      output_area._bokeh_server_id = output.metadata[EXEC_MIME_TYPE][\"server_id\"];\n",
       "    }\n",
       "  }\n",
       "\n",
       "  function register_renderer(events, OutputArea) {\n",
       "\n",
       "    function append_mime(data, metadata, element) {\n",
       "      // create a DOM node to render to\n",
       "      var toinsert = this.create_output_subarea(\n",
       "        metadata,\n",
       "        CLASS_NAME,\n",
       "        EXEC_MIME_TYPE\n",
       "      );\n",
       "      this.keyboard_manager.register_events(toinsert);\n",
       "      // Render to node\n",
       "      var props = {data: data, metadata: metadata[EXEC_MIME_TYPE]};\n",
       "      render(props, toinsert[toinsert.length - 1]);\n",
       "      element.append(toinsert);\n",
       "      return toinsert\n",
       "    }\n",
       "\n",
       "    /* Handle when an output is cleared or removed */\n",
       "    events.on('clear_output.CodeCell', handleClearOutput);\n",
       "    events.on('delete.Cell', handleClearOutput);\n",
       "\n",
       "    /* Handle when a new output is added */\n",
       "    events.on('output_added.OutputArea', handleAddOutput);\n",
       "\n",
       "    /**\n",
       "     * Register the mime type and append_mime function with output_area\n",
       "     */\n",
       "    OutputArea.prototype.register_mime_type(EXEC_MIME_TYPE, append_mime, {\n",
       "      /* Is output safe? */\n",
       "      safe: true,\n",
       "      /* Index of renderer in `output_area.display_order` */\n",
       "      index: 0\n",
       "    });\n",
       "  }\n",
       "\n",
       "  // register the mime type if in Jupyter Notebook environment and previously unregistered\n",
       "  if (root.Jupyter !== undefined) {\n",
       "    var events = require('base/js/events');\n",
       "    var OutputArea = require('notebook/js/outputarea').OutputArea;\n",
       "\n",
       "    if (OutputArea.prototype.mime_types().indexOf(EXEC_MIME_TYPE) == -1) {\n",
       "      register_renderer(events, OutputArea);\n",
       "    }\n",
       "  }\n",
       "\n",
       "  \n",
       "  if (typeof (root._bokeh_timeout) === \"undefined\" || force === true) {\n",
       "    root._bokeh_timeout = Date.now() + 5000;\n",
       "    root._bokeh_failed_load = false;\n",
       "  }\n",
       "\n",
       "  var NB_LOAD_WARNING = {'data': {'text/html':\n",
       "     \"<div style='background-color: #fdd'>\\n\"+\n",
       "     \"<p>\\n\"+\n",
       "     \"BokehJS does not appear to have successfully loaded. If loading BokehJS from CDN, this \\n\"+\n",
       "     \"may be due to a slow or bad network connection. Possible fixes:\\n\"+\n",
       "     \"</p>\\n\"+\n",
       "     \"<ul>\\n\"+\n",
       "     \"<li>re-rerun `output_notebook()` to attempt to load from CDN again, or</li>\\n\"+\n",
       "     \"<li>use INLINE resources instead, as so:</li>\\n\"+\n",
       "     \"</ul>\\n\"+\n",
       "     \"<code>\\n\"+\n",
       "     \"from bokeh.resources import INLINE\\n\"+\n",
       "     \"output_notebook(resources=INLINE)\\n\"+\n",
       "     \"</code>\\n\"+\n",
       "     \"</div>\"}};\n",
       "\n",
       "  function display_loaded() {\n",
       "    var el = document.getElementById(\"881df2a9-b5d4-43ba-9d55-4c91d28821b7\");\n",
       "    if (el != null) {\n",
       "      el.textContent = \"BokehJS is loading...\";\n",
       "    }\n",
       "    if (root.Bokeh !== undefined) {\n",
       "      if (el != null) {\n",
       "        el.textContent = \"BokehJS \" + root.Bokeh.version + \" successfully loaded.\";\n",
       "      }\n",
       "    } else if (Date.now() < root._bokeh_timeout) {\n",
       "      setTimeout(display_loaded, 100)\n",
       "    }\n",
       "  }\n",
       "\n",
       "\n",
       "  function run_callbacks() {\n",
       "    try {\n",
       "      root._bokeh_onload_callbacks.forEach(function(callback) { callback() });\n",
       "    }\n",
       "    finally {\n",
       "      delete root._bokeh_onload_callbacks\n",
       "    }\n",
       "    console.info(\"Bokeh: all callbacks have finished\");\n",
       "  }\n",
       "\n",
       "  function load_libs(js_urls, callback) {\n",
       "    root._bokeh_onload_callbacks.push(callback);\n",
       "    if (root._bokeh_is_loading > 0) {\n",
       "      console.log(\"Bokeh: BokehJS is being loaded, scheduling callback at\", now());\n",
       "      return null;\n",
       "    }\n",
       "    if (js_urls == null || js_urls.length === 0) {\n",
       "      run_callbacks();\n",
       "      return null;\n",
       "    }\n",
       "    console.log(\"Bokeh: BokehJS not loaded, scheduling load and callback at\", now());\n",
       "    root._bokeh_is_loading = js_urls.length;\n",
       "    for (var i = 0; i < js_urls.length; i++) {\n",
       "      var url = js_urls[i];\n",
       "      var s = document.createElement('script');\n",
       "      s.src = url;\n",
       "      s.async = false;\n",
       "      s.onreadystatechange = s.onload = function() {\n",
       "        root._bokeh_is_loading--;\n",
       "        if (root._bokeh_is_loading === 0) {\n",
       "          console.log(\"Bokeh: all BokehJS libraries loaded\");\n",
       "          run_callbacks()\n",
       "        }\n",
       "      };\n",
       "      s.onerror = function() {\n",
       "        console.warn(\"failed to load library \" + url);\n",
       "      };\n",
       "      console.log(\"Bokeh: injecting script tag for BokehJS library: \", url);\n",
       "      document.getElementsByTagName(\"head\")[0].appendChild(s);\n",
       "    }\n",
       "  };var element = document.getElementById(\"881df2a9-b5d4-43ba-9d55-4c91d28821b7\");\n",
       "  if (element == null) {\n",
       "    console.log(\"Bokeh: ERROR: autoload.js configured with elementid '881df2a9-b5d4-43ba-9d55-4c91d28821b7' but no matching script tag was found. \")\n",
       "    return false;\n",
       "  }\n",
       "\n",
       "  var js_urls = [\"https://cdn.pydata.org/bokeh/release/bokeh-0.12.15.min.js\", \"https://cdn.pydata.org/bokeh/release/bokeh-widgets-0.12.15.min.js\", \"https://cdn.pydata.org/bokeh/release/bokeh-tables-0.12.15.min.js\", \"https://cdn.pydata.org/bokeh/release/bokeh-gl-0.12.15.min.js\"];\n",
       "\n",
       "  var inline_js = [\n",
       "    function(Bokeh) {\n",
       "      Bokeh.set_log_level(\"info\");\n",
       "    },\n",
       "    \n",
       "    function(Bokeh) {\n",
       "      \n",
       "    },\n",
       "    function(Bokeh) {\n",
       "      console.log(\"Bokeh: injecting CSS: https://cdn.pydata.org/bokeh/release/bokeh-0.12.15.min.css\");\n",
       "      Bokeh.embed.inject_css(\"https://cdn.pydata.org/bokeh/release/bokeh-0.12.15.min.css\");\n",
       "      console.log(\"Bokeh: injecting CSS: https://cdn.pydata.org/bokeh/release/bokeh-widgets-0.12.15.min.css\");\n",
       "      Bokeh.embed.inject_css(\"https://cdn.pydata.org/bokeh/release/bokeh-widgets-0.12.15.min.css\");\n",
       "      console.log(\"Bokeh: injecting CSS: https://cdn.pydata.org/bokeh/release/bokeh-tables-0.12.15.min.css\");\n",
       "      Bokeh.embed.inject_css(\"https://cdn.pydata.org/bokeh/release/bokeh-tables-0.12.15.min.css\");\n",
       "    }\n",
       "  ];\n",
       "\n",
       "  function run_inline_js() {\n",
       "    \n",
       "    if ((root.Bokeh !== undefined) || (force === true)) {\n",
       "      for (var i = 0; i < inline_js.length; i++) {\n",
       "        inline_js[i].call(root, root.Bokeh);\n",
       "      }if (force === true) {\n",
       "        display_loaded();\n",
       "      }} else if (Date.now() < root._bokeh_timeout) {\n",
       "      setTimeout(run_inline_js, 100);\n",
       "    } else if (!root._bokeh_failed_load) {\n",
       "      console.log(\"Bokeh: BokehJS failed to load within specified timeout.\");\n",
       "      root._bokeh_failed_load = true;\n",
       "    } else if (force !== true) {\n",
       "      var cell = $(document.getElementById(\"881df2a9-b5d4-43ba-9d55-4c91d28821b7\")).parents('.cell').data().cell;\n",
       "      cell.output_area.append_execute_result(NB_LOAD_WARNING)\n",
       "    }\n",
       "\n",
       "  }\n",
       "\n",
       "  if (root._bokeh_is_loading === 0) {\n",
       "    console.log(\"Bokeh: BokehJS loaded, going straight to plotting\");\n",
       "    run_inline_js();\n",
       "  } else {\n",
       "    load_libs(js_urls, function() {\n",
       "      console.log(\"Bokeh: BokehJS plotting callback run at\", now());\n",
       "      run_inline_js();\n",
       "    });\n",
       "  }\n",
       "}(window));"
      ],
      "application/vnd.bokehjs_load.v0+json": "\n(function(root) {\n  function now() {\n    return new Date();\n  }\n\n  var force = true;\n\n  if (typeof (root._bokeh_onload_callbacks) === \"undefined\" || force === true) {\n    root._bokeh_onload_callbacks = [];\n    root._bokeh_is_loading = undefined;\n  }\n\n  \n\n  \n  if (typeof (root._bokeh_timeout) === \"undefined\" || force === true) {\n    root._bokeh_timeout = Date.now() + 5000;\n    root._bokeh_failed_load = false;\n  }\n\n  var NB_LOAD_WARNING = {'data': {'text/html':\n     \"<div style='background-color: #fdd'>\\n\"+\n     \"<p>\\n\"+\n     \"BokehJS does not appear to have successfully loaded. If loading BokehJS from CDN, this \\n\"+\n     \"may be due to a slow or bad network connection. Possible fixes:\\n\"+\n     \"</p>\\n\"+\n     \"<ul>\\n\"+\n     \"<li>re-rerun `output_notebook()` to attempt to load from CDN again, or</li>\\n\"+\n     \"<li>use INLINE resources instead, as so:</li>\\n\"+\n     \"</ul>\\n\"+\n     \"<code>\\n\"+\n     \"from bokeh.resources import INLINE\\n\"+\n     \"output_notebook(resources=INLINE)\\n\"+\n     \"</code>\\n\"+\n     \"</div>\"}};\n\n  function display_loaded() {\n    var el = document.getElementById(\"881df2a9-b5d4-43ba-9d55-4c91d28821b7\");\n    if (el != null) {\n      el.textContent = \"BokehJS is loading...\";\n    }\n    if (root.Bokeh !== undefined) {\n      if (el != null) {\n        el.textContent = \"BokehJS \" + root.Bokeh.version + \" successfully loaded.\";\n      }\n    } else if (Date.now() < root._bokeh_timeout) {\n      setTimeout(display_loaded, 100)\n    }\n  }\n\n\n  function run_callbacks() {\n    try {\n      root._bokeh_onload_callbacks.forEach(function(callback) { callback() });\n    }\n    finally {\n      delete root._bokeh_onload_callbacks\n    }\n    console.info(\"Bokeh: all callbacks have finished\");\n  }\n\n  function load_libs(js_urls, callback) {\n    root._bokeh_onload_callbacks.push(callback);\n    if (root._bokeh_is_loading > 0) {\n      console.log(\"Bokeh: BokehJS is being loaded, scheduling callback at\", now());\n      return null;\n    }\n    if (js_urls == null || js_urls.length === 0) {\n      run_callbacks();\n      return null;\n    }\n    console.log(\"Bokeh: BokehJS not loaded, scheduling load and callback at\", now());\n    root._bokeh_is_loading = js_urls.length;\n    for (var i = 0; i < js_urls.length; i++) {\n      var url = js_urls[i];\n      var s = document.createElement('script');\n      s.src = url;\n      s.async = false;\n      s.onreadystatechange = s.onload = function() {\n        root._bokeh_is_loading--;\n        if (root._bokeh_is_loading === 0) {\n          console.log(\"Bokeh: all BokehJS libraries loaded\");\n          run_callbacks()\n        }\n      };\n      s.onerror = function() {\n        console.warn(\"failed to load library \" + url);\n      };\n      console.log(\"Bokeh: injecting script tag for BokehJS library: \", url);\n      document.getElementsByTagName(\"head\")[0].appendChild(s);\n    }\n  };var element = document.getElementById(\"881df2a9-b5d4-43ba-9d55-4c91d28821b7\");\n  if (element == null) {\n    console.log(\"Bokeh: ERROR: autoload.js configured with elementid '881df2a9-b5d4-43ba-9d55-4c91d28821b7' but no matching script tag was found. \")\n    return false;\n  }\n\n  var js_urls = [\"https://cdn.pydata.org/bokeh/release/bokeh-0.12.15.min.js\", \"https://cdn.pydata.org/bokeh/release/bokeh-widgets-0.12.15.min.js\", \"https://cdn.pydata.org/bokeh/release/bokeh-tables-0.12.15.min.js\", \"https://cdn.pydata.org/bokeh/release/bokeh-gl-0.12.15.min.js\"];\n\n  var inline_js = [\n    function(Bokeh) {\n      Bokeh.set_log_level(\"info\");\n    },\n    \n    function(Bokeh) {\n      \n    },\n    function(Bokeh) {\n      console.log(\"Bokeh: injecting CSS: https://cdn.pydata.org/bokeh/release/bokeh-0.12.15.min.css\");\n      Bokeh.embed.inject_css(\"https://cdn.pydata.org/bokeh/release/bokeh-0.12.15.min.css\");\n      console.log(\"Bokeh: injecting CSS: https://cdn.pydata.org/bokeh/release/bokeh-widgets-0.12.15.min.css\");\n      Bokeh.embed.inject_css(\"https://cdn.pydata.org/bokeh/release/bokeh-widgets-0.12.15.min.css\");\n      console.log(\"Bokeh: injecting CSS: https://cdn.pydata.org/bokeh/release/bokeh-tables-0.12.15.min.css\");\n      Bokeh.embed.inject_css(\"https://cdn.pydata.org/bokeh/release/bokeh-tables-0.12.15.min.css\");\n    }\n  ];\n\n  function run_inline_js() {\n    \n    if ((root.Bokeh !== undefined) || (force === true)) {\n      for (var i = 0; i < inline_js.length; i++) {\n        inline_js[i].call(root, root.Bokeh);\n      }if (force === true) {\n        display_loaded();\n      }} else if (Date.now() < root._bokeh_timeout) {\n      setTimeout(run_inline_js, 100);\n    } else if (!root._bokeh_failed_load) {\n      console.log(\"Bokeh: BokehJS failed to load within specified timeout.\");\n      root._bokeh_failed_load = true;\n    } else if (force !== true) {\n      var cell = $(document.getElementById(\"881df2a9-b5d4-43ba-9d55-4c91d28821b7\")).parents('.cell').data().cell;\n      cell.output_area.append_execute_result(NB_LOAD_WARNING)\n    }\n\n  }\n\n  if (root._bokeh_is_loading === 0) {\n    console.log(\"Bokeh: BokehJS loaded, going straight to plotting\");\n    run_inline_js();\n  } else {\n    load_libs(js_urls, function() {\n      console.log(\"Bokeh: BokehJS plotting callback run at\", now());\n      run_inline_js();\n    });\n  }\n}(window));"
     },
     "metadata": {},
     "output_type": "display_data"
    }
   ],
   "source": [
    "from bokeh.io import show, output_notebook, push_notebook\n",
    "from bokeh.plotting import figure\n",
    "from IPython.display import clear_output\n",
    "output_notebook()"
   ]
  },
  {
   "cell_type": "code",
   "execution_count": 12,
   "metadata": {},
   "outputs": [],
   "source": [
    "symbol_list = [{\"angle\":0,\"xoffset\":0,\"yoffset\":8.15625,\"type\":\"esriPMS\",\"url\":\"http://static.arcgis.com/images/Symbols/AtoZ/blueA.png\",\"contentType\":\"image/png\",\"width\":14,\"height\":22},\n",
    "              {\"angle\":0,\"xoffset\":0,\"yoffset\":8.15625,\"type\":\"esriPMS\",\"url\":\"http://static.arcgis.com/images/Symbols/AtoZ/blueB.png\",\"contentType\":\"image/png\",\"width\":14,\"height\":22},\n",
    "              {\"angle\":0,\"xoffset\":0,\"yoffset\":8.15625,\"type\":\"esriPMS\",\"url\":\"http://static.arcgis.com/images/Symbols/AtoZ/blueC.png\",\"contentType\":\"image/png\",\"width\":14,\"height\":22},\n",
    "              {\"angle\":0,\"xoffset\":0,\"yoffset\":8.15625,\"type\":\"esriPMS\",\"url\":\"http://static.arcgis.com/images/Symbols/AtoZ/blueD.png\",\"contentType\":\"image/png\",\"width\":14,\"height\":22},\n",
    "              {\"angle\":0,\"xoffset\":0,\"yoffset\":8.15625,\"type\":\"esriPMS\",\"url\":\"http://static.arcgis.com/images/Symbols/AtoZ/blueE.png\",\"contentType\":\"image/png\",\"width\":14,\"height\":22},\n",
    "              {\"angle\":0,\"xoffset\":0,\"yoffset\":8.15625,\"type\":\"esriPMS\",\"url\":\"http://static.arcgis.com/images/Symbols/AtoZ/blueF.png\",\"contentType\":\"image/png\",\"width\":14,\"height\":22},\n",
    "              {\"angle\":0,\"xoffset\":0,\"yoffset\":8.15625,\"type\":\"esriPMS\",\"url\":\"http://static.arcgis.com/images/Symbols/AtoZ/blueG.png\",\"contentType\":\"image/png\",\"width\":14,\"height\":22},\n",
    "              {\"angle\":0,\"xoffset\":0,\"yoffset\":8.15625,\"type\":\"esriPMS\",\"url\":\"http://static.arcgis.com/images/Symbols/AtoZ/blueH.png\",\"contentType\":\"image/png\",\"width\":14,\"height\":22},\n",
    "              {\"angle\":0,\"xoffset\":0,\"yoffset\":8.15625,\"type\":\"esriPMS\",\"url\":\"http://static.arcgis.com/images/Symbols/AtoZ/blueI.png\",\"contentType\":\"image/png\",\"width\":14,\"height\":22},\n",
    "              {\"angle\":0,\"xoffset\":0,\"yoffset\":8.15625,\"type\":\"esriPMS\",\"url\":\"http://static.arcgis.com/images/Symbols/AtoZ/blueJ.png\",\"contentType\":\"image/png\",\"width\":14,\"height\":22},\n",
    "              {\"angle\":0,\"xoffset\":0,\"yoffset\":8.15625,\"type\":\"esriPMS\",\"url\":\"http://static.arcgis.com/images/Symbols/AtoZ/blueK.png\",\"contentType\":\"image/png\",\"width\":14,\"height\":22}]\n",
    "legend_list = ['A','B','C','D','E','F','G','H','I','J']\n",
    "bokeh_colors=['blue','blueviolet','brown',\n",
    "              'burlywood','cadetblue','chartreuse',\n",
    "              'chocolate','coral','cornflowerblue',\n",
    "             'cyan','darkblue']\n",
    "x_axis = [float(s['wavelength']) for s in aviris_bands]"
   ]
  },
  {
   "cell_type": "code",
   "execution_count": 30,
   "metadata": {},
   "outputs": [],
   "source": [
    "i = 0\n",
    "p = figure(title=\"Spectral Profile\", x_axis_label='Wavelengths', \n",
    "           y_axis_label='Radiance', width=600, height=300)\n",
    "\n",
    "def plot_reflectance_curves(map_handle, clicked_point):\n",
    "    global i, p\n",
    "    if i>0:\n",
    "          out.clear_output()\n",
    "#     print(i)\n",
    "\n",
    "    # Get cell value from imagery layer\n",
    "    image_data = aviris_layer.get_samples(clicked_point)\n",
    "    radiance_values = image_data[0]['values']\n",
    "\n",
    "    # choose symbol\n",
    "    map_handle.draw(clicked_point, symbol = symbol_list[i])\n",
    "        \n",
    "    lines = p.line(x_axis, radiance_values, legend=legend_list[i], line_color=bokeh_colors[i], line_width=2)\n",
    "    curve_handle = show(p, notebook_handle=True)\n",
    "\n",
    "#     if i>0:\n",
    "#         push_notebook(handle=curve_handle)\n",
    "    \n",
    "    i = i+1\n",
    "#     print(i)\n",
    "    \n",
    "map2.on_click(plot_reflectance_curves)"
   ]
  }
 ],
 "metadata": {
  "kernelspec": {
   "display_name": "Python 3",
   "language": "python",
   "name": "python3"
  },
  "language_info": {
   "codemirror_mode": {
    "name": "ipython",
    "version": 3
   },
   "file_extension": ".py",
   "mimetype": "text/x-python",
   "name": "python",
   "nbconvert_exporter": "python",
   "pygments_lexer": "ipython3",
   "version": "3.6.5"
  }
 },
 "nbformat": 4,
 "nbformat_minor": 2
}
