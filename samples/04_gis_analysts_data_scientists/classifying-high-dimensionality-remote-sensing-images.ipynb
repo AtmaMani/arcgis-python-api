{
 "cells": [
  {
   "cell_type": "markdown",
   "metadata": {},
   "source": [
    "# Classifying high dimensionality remote sensing images\n",
    "\n",
    "## Intro to hyperspectral remote sensing\n",
    "Insert graphic of cube, explanative text"
   ]
  },
  {
   "cell_type": "code",
   "execution_count": 1,
   "metadata": {},
   "outputs": [],
   "source": [
    "from arcgis.gis import GIS\n",
    "from arcgis import raster"
   ]
  },
  {
   "cell_type": "code",
   "execution_count": 2,
   "metadata": {},
   "outputs": [
    {
     "name": "stdout",
     "output_type": "stream",
     "text": [
      "Enter password: ········\n"
     ]
    }
   ],
   "source": [
    "# gis = GIS(\"https://dev0001902.esri.com/portal\",\"admin\", verify_cert=False)\n",
    "gis = GIS(\"https://pythonapi.playground.esri.com/portal\",\"atma.mani\")\n",
    "# gis = GIS(\"https://python.playground.esri.com/portal\",\"arcgis_python\",\"amazing_arcgis_123\")"
   ]
  },
  {
   "cell_type": "code",
   "execution_count": 3,
   "metadata": {},
   "outputs": [
    {
     "data": {
      "text/html": [
       "<div class=\"item_container\" style=\"height: auto; overflow: hidden; border: 1px solid #cfcfcf; border-radius: 2px; background: #f6fafa; line-height: 1.21429em; padding: 10px;\">\n",
       "                    <div class=\"item_left\" style=\"width: 210px; float: left;\">\n",
       "                       <a href='https://pythonapi.playground.esri.com/portal/home/item.html?id=2a0c245ff84e47bfaca04c05a2bcf9f1' target='_blank'>\n",
       "                        <img src='https://pythonapi.playground.esri.com/portal/portalimages/desktopapp.png' class=\"itemThumbnail\">\n",
       "                       </a>\n",
       "                    </div>\n",
       "\n",
       "                    <div class=\"item_right\"     style=\"float: none; width: auto; overflow: hidden;\">\n",
       "                        <a href='https://pythonapi.playground.esri.com/portal/home/item.html?id=2a0c245ff84e47bfaca04c05a2bcf9f1' target='_blank'><b>omaha_aviris</b>\n",
       "                        </a>\n",
       "                        <br/>AVIRIS data for farms in Omaha<img src='https://pythonapi.playground.esri.com/portal/home/js/jsapi/esri/css/images/item_type_icons/imagery16.png' style=\"vertical-align:middle;\">Imagery Layer by atma.mani\n",
       "                        <br/>Last Modified: April 26, 2018\n",
       "                        <br/>0 comments, 1 views\n",
       "                    </div>\n",
       "                </div>\n",
       "                "
      ],
      "text/plain": [
       "<Item title:\"omaha_aviris\" type:Imagery Layer owner:atma.mani>"
      ]
     },
     "execution_count": 3,
     "metadata": {},
     "output_type": "execute_result"
    }
   ],
   "source": [
    "# aviris_item = gis.content.get('596098ec0e834e7d9f8e81e14de14ef2')\n",
    "aviris_item = gis.content.search('AVIRIS', item_type='Imagery Layer')[0]\n",
    "aviris_item"
   ]
  },
  {
   "cell_type": "code",
   "execution_count": 4,
   "metadata": {},
   "outputs": [
    {
     "data": {
      "application/vnd.jupyter.widget-view+json": {
       "model_id": "bb9a3aaf8f334d0ea6de8f605d94e573",
       "version_major": 2,
       "version_minor": 0
      },
      "text/plain": [
       "MapView(basemaps=['dark-gray', 'dark-gray-vector', 'gray', 'gray-vector', 'hybrid', 'national-geographic', 'oc…"
      ]
     },
     "metadata": {},
     "output_type": "display_data"
    }
   ],
   "source": [
    "map1 = gis.map('Omaha, NE')\n",
    "map1"
   ]
  },
  {
   "cell_type": "code",
   "execution_count": 5,
   "metadata": {},
   "outputs": [],
   "source": [
    "map1.add_layer(aviris_item)"
   ]
  },
  {
   "cell_type": "markdown",
   "metadata": {},
   "source": [
    "## Draw using false color composite"
   ]
  },
  {
   "cell_type": "markdown",
   "metadata": {},
   "source": [
    "### Get AVIRIS band wavelengths"
   ]
  },
  {
   "cell_type": "code",
   "execution_count": 6,
   "metadata": {},
   "outputs": [
    {
     "data": {
      "text/plain": [
       "224"
      ]
     },
     "execution_count": 6,
     "metadata": {},
     "output_type": "execute_result"
    }
   ],
   "source": [
    "aviris_layer = aviris_item.layers[0]\n",
    "aviris_bands = aviris_layer.key_properties()['BandProperties']\n",
    "len(aviris_bands)"
   ]
  },
  {
   "cell_type": "code",
   "execution_count": 7,
   "metadata": {},
   "outputs": [
    {
     "data": {
      "text/plain": [
       "'365.9298'"
      ]
     },
     "execution_count": 7,
     "metadata": {},
     "output_type": "execute_result"
    }
   ],
   "source": [
    "aviris_bands[0]['wavelength']"
   ]
  },
  {
   "cell_type": "code",
   "execution_count": 8,
   "metadata": {},
   "outputs": [
    {
     "data": {
      "text/plain": [
       "'2497.036'"
      ]
     },
     "execution_count": 8,
     "metadata": {},
     "output_type": "execute_result"
    }
   ],
   "source": [
    "aviris_bands[-1]['wavelength']"
   ]
  },
  {
   "cell_type": "code",
   "execution_count": 9,
   "metadata": {},
   "outputs": [],
   "source": [
    "aviris_layer = aviris_item.layers[0]\n",
    "aviris_fcc = raster.stretch(raster = raster.extract_band(aviris_layer, band_wavelengths=[831, 665.0994, 560]),\n",
    "                            stretch_type='histogram')"
   ]
  },
  {
   "cell_type": "code",
   "execution_count": 10,
   "metadata": {},
   "outputs": [],
   "source": [
    "from ipywidgets import Output\n",
    "map1.remove_layers()\n",
    "map1.add_layer(aviris_fcc)"
   ]
  },
  {
   "cell_type": "markdown",
   "metadata": {},
   "source": [
    "## Get spectral signature from the remotely sensed image"
   ]
  },
  {
   "cell_type": "code",
   "execution_count": 11,
   "metadata": {
    "scrolled": false
   },
   "outputs": [
    {
     "data": {
      "application/vnd.jupyter.widget-view+json": {
       "model_id": "7964c00dbee94376924be370fdee9329",
       "version_major": 2,
       "version_minor": 0
      },
      "text/plain": [
       "MapView(basemaps=['dark-gray', 'dark-gray-vector', 'gray', 'gray-vector', 'hybrid', 'national-geographic', 'oc…"
      ]
     },
     "metadata": {},
     "output_type": "display_data"
    },
    {
     "data": {
      "text/html": [
       "\n",
       "<div class=\"bk-root\">\n",
       "    <div class=\"bk-plotdiv\" id=\"fcf17fd1-05d8-455b-8134-8ea108f67870\"></div>\n",
       "</div>"
      ]
     },
     "metadata": {},
     "output_type": "display_data"
    },
    {
     "data": {
      "application/javascript": [
       "(function(root) {\n",
       "  function embed_document(root) {\n",
       "    \n",
       "  var docs_json = {\"675f815e-93e4-4299-b739-b5885469db86\":{\"roots\":{\"references\":[{\"attributes\":{},\"id\":\"18efab52-1034-4b4b-a810-10ffbb929ff3\",\"type\":\"LinearScale\"},{\"attributes\":{\"axis_label\":\"Radiance\",\"formatter\":{\"id\":\"9ef28e37-4cc1-4aa7-82f4-2a2da03f64b9\",\"type\":\"BasicTickFormatter\"},\"plot\":{\"id\":\"bb1c7401-9d27-4c32-821b-ca951661b536\",\"subtype\":\"Figure\",\"type\":\"Plot\"},\"ticker\":{\"id\":\"31cae66c-2404-44a4-9986-c7fb4a467873\",\"type\":\"BasicTicker\"}},\"id\":\"54b0187d-5e44-4cc9-a2bd-5b9077dae155\",\"type\":\"LinearAxis\"},{\"attributes\":{\"callback\":null,\"column_names\":[\"x\",\"y\"],\"data\":{\"x\":[365.9298,375.594,385.2625,394.9355,404.6129,414.2946,423.9808,433.6713,443.3662,453.0655,462.7692,472.4773,482.1898,491.9066,501.6279,511.3535,521.0836,530.818,540.5568,550.3,560.0477,569.7996,579.556,589.3168,599.0819,608.8515,618.6254,628.4037,638.1865,647.9736,657.7651,667.561,655.2923,665.0994,674.9012,684.6979,694.4894,704.2756,714.0566,723.8325,733.6031,743.3685,753.1287,762.8837,772.6335,782.3781,792.1174,801.8516,811.5805,821.3043,831.0228,840.7361,850.4442,860.1471,869.8448,879.5372,889.2245,898.9066,908.5834,918.2551,927.9214,937.5827,947.2387,956.8895,966.5351,976.1755,985.8106,995.4406,1005.065,1014.685,1024.299,1033.908,1043.512,1053.111,1062.704,1072.293,1081.876,1091.454,1101.026,1110.594,1120.156,1129.713,1139.265,1148.811,1158.353,1167.889,1177.42,1186.946,1196.466,1205.982,1215.492,1224.997,1234.496,1243.991,1253.48,1262.964,1253.373,1263.346,1273.318,1283.291,1293.262,1303.234,1313.206,1323.177,1333.148,1343.119,1353.089,1363.06,1373.03,1383.0,1392.969,1402.939,1412.908,1422.877,1432.845,1442.814,1452.782,1462.75,1472.718,1482.685,1492.652,1502.619,1512.586,1522.552,1532.518,1542.484,1552.45,1562.416,1572.381,1582.346,1592.311,1602.275,1612.24,1622.204,1632.167,1642.131,1652.094,1662.057,1672.02,1681.983,1691.945,1701.907,1711.869,1721.831,1731.792,1741.753,1751.714,1761.675,1771.635,1781.596,1791.556,1801.515,1811.475,1821.434,1831.393,1841.352,1851.31,1861.269,1871.227,1873.184,1867.664,1877.725,1887.785,1897.842,1907.896,1917.948,1927.999,1938.046,1948.092,1958.135,1968.175,1978.214,1988.25,1998.284,2008.315,2018.345,2028.372,2038.396,2048.419,2058.439,2068.456,2078.472,2088.485,2098.496,2108.504,2118.51,2128.514,2138.516,2148.515,2158.512,2168.507,2178.499,2188.489,2198.477,2208.462,2218.445,2228.426,2238.405,2248.381,2258.354,2268.326,2278.295,2288.262,2298.227,2308.189,2318.149,2328.107,2338.062,2348.016,2357.967,2367.915,2377.861,2387.805,2397.747,2407.686,2417.623,2427.558,2437.49,2447.42,2457.348,2467.273,2477.196,2487.117,2497.036],\"y\":[996.0,1096.0,1085.0,1316.0,1809.0,1874.0,1727.0,1601.0,1737.0,1771.0,1687.0,1574.0,1477.0,1361.0,1301.0,1263.0,1234.0,1273.0,1313.0,1297.0,1223.0,1115.0,1035.0,952.0,919.0,882.0,822.0,781.0,767.0,729.0,689.0,685.0,676.0,665.0,638.0,597.0,674.0,887.0,1127.0,1441.0,2230.0,3049.0,3342.0,2263.0,3416.0,3623.0,3456.0,3368.0,3090.0,2665.0,2814.0,3074.0,3083.0,3050.0,3010.0,2973.0,2831.0,2297.0,2044.0,1908.0,1675.0,873.0,790.0,1013.0,1563.0,1758.0,2077.0,2156.0,2131.0,2145.0,2129.0,2101.0,2081.0,2028.0,1950.0,1896.0,1776.0,1653.0,1366.0,912.0,308.0,282.0,405.0,364.0,646.0,925.0,986.0,978.0,1016.0,997.0,1055.0,1113.0,1159.0,1156.0,1102.0,944.0,1078.0,568.0,443.0,432.0,406.0,309.0,228.0,249.0,98.0,57.0,6.0,1.0,1.0,0.0,1.0,2.0,10.0,14.0,18.0,22.0,43.0,49.0,41.0,59.0,107.0,142.0,624.0,552.0,558.0,519.0,578.0,593.0,532.0,528.0,506.0,450.0,441.0,451.0,446.0,417.0,427.0,432.0,435.0,435.0,449.0,450.0,436.0,408.0,386.0,328.0,332.0,307.0,274.0,218.0,170.0,73.0,21.0,7.0,0.0,0.0,0.0,0.0,0.0,0.0,1.0,1.0,2.0,2.0,1.0,1.0,3.0,4.0,9.0,18.0,59.0,118.0,155.0,98.0,37.0,67.0,175.0,233.0,198.0,156.0,173.0,234.0,268.0,287.0,294.0,297.0,314.0,323.0,316.0,306.0,301.0,298.0,296.0,288.0,300.0,312.0,303.0,291.0,273.0,249.0,235.0,219.0,210.0,186.0,191.0,162.0,162.0,149.0,119.0,119.0,107.0,86.0,80.0,87.0,65.0,46.0,62.0,49.0,30.0,34.0,26.0,15.0,3.0,1.0]},\"selected\":null,\"selection_policy\":null},\"id\":\"d249139b-dab5-4de7-a911-6c73b57db20e\",\"type\":\"ColumnDataSource\"},{\"attributes\":{\"callback\":null},\"id\":\"368644c2-d1ec-4839-b995-0d6bf44262ab\",\"type\":\"DataRange1d\"},{\"attributes\":{\"axis_label\":\"Wavelengths\",\"formatter\":{\"id\":\"6ad317fc-d35a-40f4-9216-311ebeb33ce7\",\"type\":\"BasicTickFormatter\"},\"plot\":{\"id\":\"bb1c7401-9d27-4c32-821b-ca951661b536\",\"subtype\":\"Figure\",\"type\":\"Plot\"},\"ticker\":{\"id\":\"3ce9d418-6de5-4020-a335-2156389d2f8c\",\"type\":\"BasicTicker\"}},\"id\":\"f807ee9b-338f-44a8-9057-360f07f6c6d3\",\"type\":\"LinearAxis\"},{\"attributes\":{},\"id\":\"31cae66c-2404-44a4-9986-c7fb4a467873\",\"type\":\"BasicTicker\"},{\"attributes\":{},\"id\":\"9b5fe8b5-8c46-4977-8fa5-b9bd493f823d\",\"type\":\"LinearScale\"},{\"attributes\":{\"dimension\":1,\"plot\":{\"id\":\"bb1c7401-9d27-4c32-821b-ca951661b536\",\"subtype\":\"Figure\",\"type\":\"Plot\"},\"ticker\":{\"id\":\"31cae66c-2404-44a4-9986-c7fb4a467873\",\"type\":\"BasicTicker\"}},\"id\":\"07ca91ca-ee1d-4e0e-837c-e428c49ccb91\",\"type\":\"Grid\"},{\"attributes\":{\"bottom_units\":\"screen\",\"fill_alpha\":{\"value\":0.5},\"fill_color\":{\"value\":\"lightgrey\"},\"left_units\":\"screen\",\"level\":\"overlay\",\"line_alpha\":{\"value\":1.0},\"line_color\":{\"value\":\"black\"},\"line_dash\":[4,4],\"line_width\":{\"value\":2},\"plot\":null,\"render_mode\":\"css\",\"right_units\":\"screen\",\"top_units\":\"screen\"},\"id\":\"d40e0699-2920-48c3-a6d9-ba4877707510\",\"type\":\"BoxAnnotation\"},{\"attributes\":{},\"id\":\"6ad317fc-d35a-40f4-9216-311ebeb33ce7\",\"type\":\"BasicTickFormatter\"},{\"attributes\":{\"items\":[{\"id\":\"77177dde-07b7-4ebf-892d-32b38524874f\",\"type\":\"LegendItem\"}],\"plot\":{\"id\":\"bb1c7401-9d27-4c32-821b-ca951661b536\",\"subtype\":\"Figure\",\"type\":\"Plot\"}},\"id\":\"8bd0fe5c-f9c0-40d4-85f0-74033e61c8e9\",\"type\":\"Legend\"},{\"attributes\":{\"active_drag\":\"auto\",\"active_inspect\":\"auto\",\"active_scroll\":\"auto\",\"active_tap\":\"auto\",\"tools\":[{\"id\":\"1e810f13-816f-486e-a8ee-a5c6b5bb30f1\",\"type\":\"PanTool\"},{\"id\":\"f797ede7-fc5f-4a08-8909-0710c577afcf\",\"type\":\"WheelZoomTool\"},{\"id\":\"0b08fa3e-a06d-4edc-8cc1-69f9cfa5edc7\",\"type\":\"BoxZoomTool\"},{\"id\":\"6f7a00c2-81b2-4f8b-b06b-ba25e5dd05b7\",\"type\":\"SaveTool\"},{\"id\":\"babe5356-d610-401f-aca9-05bb274483cb\",\"type\":\"ResetTool\"},{\"id\":\"28d1c0e7-1fb0-4918-b9bb-de7d83785d38\",\"type\":\"HelpTool\"}]},\"id\":\"28fa7e46-0c5f-44a3-bdaa-45615db48aba\",\"type\":\"Toolbar\"},{\"attributes\":{},\"id\":\"9ef28e37-4cc1-4aa7-82f4-2a2da03f64b9\",\"type\":\"BasicTickFormatter\"},{\"attributes\":{},\"id\":\"1e810f13-816f-486e-a8ee-a5c6b5bb30f1\",\"type\":\"PanTool\"},{\"attributes\":{\"plot\":null,\"text\":\"Spectral Profile\"},\"id\":\"268343dc-4bc8-48b8-b74a-41086a153279\",\"type\":\"Title\"},{\"attributes\":{\"source\":{\"id\":\"d249139b-dab5-4de7-a911-6c73b57db20e\",\"type\":\"ColumnDataSource\"}},\"id\":\"74c19986-344b-48b5-8cec-4eb29643bd56\",\"type\":\"CDSView\"},{\"attributes\":{\"callback\":null},\"id\":\"236a1778-ef6a-45fe-925a-5d8ea8397466\",\"type\":\"DataRange1d\"},{\"attributes\":{},\"id\":\"f797ede7-fc5f-4a08-8909-0710c577afcf\",\"type\":\"WheelZoomTool\"},{\"attributes\":{\"data_source\":{\"id\":\"d249139b-dab5-4de7-a911-6c73b57db20e\",\"type\":\"ColumnDataSource\"},\"glyph\":{\"id\":\"b880e2dc-1ef3-48ef-9dc0-0cb605bd0bee\",\"type\":\"Line\"},\"hover_glyph\":null,\"muted_glyph\":null,\"nonselection_glyph\":{\"id\":\"3f195798-a111-4781-ab74-ddc31fc39b9a\",\"type\":\"Line\"},\"selection_glyph\":null,\"view\":{\"id\":\"74c19986-344b-48b5-8cec-4eb29643bd56\",\"type\":\"CDSView\"}},\"id\":\"547be9e6-299f-49a7-b1c6-cf7ed15af95a\",\"type\":\"GlyphRenderer\"},{\"attributes\":{\"overlay\":{\"id\":\"d40e0699-2920-48c3-a6d9-ba4877707510\",\"type\":\"BoxAnnotation\"}},\"id\":\"0b08fa3e-a06d-4edc-8cc1-69f9cfa5edc7\",\"type\":\"BoxZoomTool\"},{\"attributes\":{\"label\":{\"value\":\"A\"},\"renderers\":[{\"id\":\"547be9e6-299f-49a7-b1c6-cf7ed15af95a\",\"type\":\"GlyphRenderer\"}]},\"id\":\"77177dde-07b7-4ebf-892d-32b38524874f\",\"type\":\"LegendItem\"},{\"attributes\":{},\"id\":\"6f7a00c2-81b2-4f8b-b06b-ba25e5dd05b7\",\"type\":\"SaveTool\"},{\"attributes\":{\"below\":[{\"id\":\"f807ee9b-338f-44a8-9057-360f07f6c6d3\",\"type\":\"LinearAxis\"}],\"left\":[{\"id\":\"54b0187d-5e44-4cc9-a2bd-5b9077dae155\",\"type\":\"LinearAxis\"}],\"plot_height\":300,\"renderers\":[{\"id\":\"f807ee9b-338f-44a8-9057-360f07f6c6d3\",\"type\":\"LinearAxis\"},{\"id\":\"2712503d-2e8a-4163-a551-82f06f90e71e\",\"type\":\"Grid\"},{\"id\":\"54b0187d-5e44-4cc9-a2bd-5b9077dae155\",\"type\":\"LinearAxis\"},{\"id\":\"07ca91ca-ee1d-4e0e-837c-e428c49ccb91\",\"type\":\"Grid\"},{\"id\":\"d40e0699-2920-48c3-a6d9-ba4877707510\",\"type\":\"BoxAnnotation\"},{\"id\":\"8bd0fe5c-f9c0-40d4-85f0-74033e61c8e9\",\"type\":\"Legend\"},{\"id\":\"547be9e6-299f-49a7-b1c6-cf7ed15af95a\",\"type\":\"GlyphRenderer\"}],\"title\":{\"id\":\"268343dc-4bc8-48b8-b74a-41086a153279\",\"type\":\"Title\"},\"toolbar\":{\"id\":\"28fa7e46-0c5f-44a3-bdaa-45615db48aba\",\"type\":\"Toolbar\"},\"x_range\":{\"id\":\"236a1778-ef6a-45fe-925a-5d8ea8397466\",\"type\":\"DataRange1d\"},\"x_scale\":{\"id\":\"9b5fe8b5-8c46-4977-8fa5-b9bd493f823d\",\"type\":\"LinearScale\"},\"y_range\":{\"id\":\"368644c2-d1ec-4839-b995-0d6bf44262ab\",\"type\":\"DataRange1d\"},\"y_scale\":{\"id\":\"18efab52-1034-4b4b-a810-10ffbb929ff3\",\"type\":\"LinearScale\"}},\"id\":\"bb1c7401-9d27-4c32-821b-ca951661b536\",\"subtype\":\"Figure\",\"type\":\"Plot\"},{\"attributes\":{\"line_color\":\"blue\",\"line_width\":2,\"x\":{\"field\":\"x\"},\"y\":{\"field\":\"y\"}},\"id\":\"b880e2dc-1ef3-48ef-9dc0-0cb605bd0bee\",\"type\":\"Line\"},{\"attributes\":{},\"id\":\"3ce9d418-6de5-4020-a335-2156389d2f8c\",\"type\":\"BasicTicker\"},{\"attributes\":{},\"id\":\"babe5356-d610-401f-aca9-05bb274483cb\",\"type\":\"ResetTool\"},{\"attributes\":{\"line_alpha\":0.1,\"line_color\":\"#1f77b4\",\"line_width\":2,\"x\":{\"field\":\"x\"},\"y\":{\"field\":\"y\"}},\"id\":\"3f195798-a111-4781-ab74-ddc31fc39b9a\",\"type\":\"Line\"},{\"attributes\":{},\"id\":\"28d1c0e7-1fb0-4918-b9bb-de7d83785d38\",\"type\":\"HelpTool\"},{\"attributes\":{\"plot\":{\"id\":\"bb1c7401-9d27-4c32-821b-ca951661b536\",\"subtype\":\"Figure\",\"type\":\"Plot\"},\"ticker\":{\"id\":\"3ce9d418-6de5-4020-a335-2156389d2f8c\",\"type\":\"BasicTicker\"}},\"id\":\"2712503d-2e8a-4163-a551-82f06f90e71e\",\"type\":\"Grid\"}],\"root_ids\":[\"bb1c7401-9d27-4c32-821b-ca951661b536\"]},\"title\":\"Bokeh Application\",\"version\":\"0.12.15\"}};\n",
       "  var render_items = [{\"docid\":\"675f815e-93e4-4299-b739-b5885469db86\",\"elementid\":\"fcf17fd1-05d8-455b-8134-8ea108f67870\",\"modelid\":\"bb1c7401-9d27-4c32-821b-ca951661b536\",\"notebook_comms_target\":\"7d811257-dc14-4a1d-882b-f38b67c00eaf\"}];\n",
       "  root.Bokeh.embed.embed_items_notebook(docs_json, render_items);\n",
       "\n",
       "  }\n",
       "  if (root.Bokeh !== undefined) {\n",
       "    embed_document(root);\n",
       "  } else {\n",
       "    var attempts = 0;\n",
       "    var timer = setInterval(function(root) {\n",
       "      if (root.Bokeh !== undefined) {\n",
       "        embed_document(root);\n",
       "        clearInterval(timer);\n",
       "      }\n",
       "      attempts++;\n",
       "      if (attempts > 100) {\n",
       "        console.log(\"Bokeh: ERROR: Unable to run BokehJS code because BokehJS library is missing\")\n",
       "        clearInterval(timer);\n",
       "      }\n",
       "    }, 10, root)\n",
       "  }\n",
       "})(window);"
      ],
      "application/vnd.bokehjs_exec.v0+json": ""
     },
     "metadata": {
      "application/vnd.bokehjs_exec.v0+json": {
       "id": "bb1c7401-9d27-4c32-821b-ca951661b536"
      }
     },
     "output_type": "display_data"
    },
    {
     "data": {
      "text/html": [
       "\n",
       "<div class=\"bk-root\">\n",
       "    <div class=\"bk-plotdiv\" id=\"ac322801-15b7-458d-98d0-df397c7e09e7\"></div>\n",
       "</div>"
      ]
     },
     "metadata": {},
     "output_type": "display_data"
    },
    {
     "data": {
      "application/javascript": [
       "(function(root) {\n",
       "  function embed_document(root) {\n",
       "    \n",
       "  var docs_json = {\"1a6fa49c-ae2e-4579-950c-fa0daa1d7b9e\":{\"roots\":{\"references\":[{\"attributes\":{\"label\":{\"value\":\"B\"},\"renderers\":[{\"id\":\"6aeb7440-f72f-4508-b2d9-e7c069695110\",\"type\":\"GlyphRenderer\"}]},\"id\":\"1f70597c-21b8-4fd5-ae62-fb32ab1821a1\",\"type\":\"LegendItem\"},{\"attributes\":{},\"id\":\"9b5fe8b5-8c46-4977-8fa5-b9bd493f823d\",\"type\":\"LinearScale\"},{\"attributes\":{\"active_drag\":\"auto\",\"active_inspect\":\"auto\",\"active_scroll\":\"auto\",\"active_tap\":\"auto\",\"tools\":[{\"id\":\"1e810f13-816f-486e-a8ee-a5c6b5bb30f1\",\"type\":\"PanTool\"},{\"id\":\"f797ede7-fc5f-4a08-8909-0710c577afcf\",\"type\":\"WheelZoomTool\"},{\"id\":\"0b08fa3e-a06d-4edc-8cc1-69f9cfa5edc7\",\"type\":\"BoxZoomTool\"},{\"id\":\"6f7a00c2-81b2-4f8b-b06b-ba25e5dd05b7\",\"type\":\"SaveTool\"},{\"id\":\"babe5356-d610-401f-aca9-05bb274483cb\",\"type\":\"ResetTool\"},{\"id\":\"28d1c0e7-1fb0-4918-b9bb-de7d83785d38\",\"type\":\"HelpTool\"}]},\"id\":\"28fa7e46-0c5f-44a3-bdaa-45615db48aba\",\"type\":\"Toolbar\"},{\"attributes\":{},\"id\":\"9ef28e37-4cc1-4aa7-82f4-2a2da03f64b9\",\"type\":\"BasicTickFormatter\"},{\"attributes\":{\"plot\":null,\"text\":\"Spectral Profile\"},\"id\":\"268343dc-4bc8-48b8-b74a-41086a153279\",\"type\":\"Title\"},{\"attributes\":{\"callback\":null},\"id\":\"236a1778-ef6a-45fe-925a-5d8ea8397466\",\"type\":\"DataRange1d\"},{\"attributes\":{\"data_source\":{\"id\":\"d249139b-dab5-4de7-a911-6c73b57db20e\",\"type\":\"ColumnDataSource\"},\"glyph\":{\"id\":\"b880e2dc-1ef3-48ef-9dc0-0cb605bd0bee\",\"type\":\"Line\"},\"hover_glyph\":null,\"muted_glyph\":null,\"nonselection_glyph\":{\"id\":\"3f195798-a111-4781-ab74-ddc31fc39b9a\",\"type\":\"Line\"},\"selection_glyph\":null,\"view\":{\"id\":\"74c19986-344b-48b5-8cec-4eb29643bd56\",\"type\":\"CDSView\"}},\"id\":\"547be9e6-299f-49a7-b1c6-cf7ed15af95a\",\"type\":\"GlyphRenderer\"},{\"attributes\":{\"label\":{\"value\":\"A\"},\"renderers\":[{\"id\":\"547be9e6-299f-49a7-b1c6-cf7ed15af95a\",\"type\":\"GlyphRenderer\"}]},\"id\":\"77177dde-07b7-4ebf-892d-32b38524874f\",\"type\":\"LegendItem\"},{\"attributes\":{\"below\":[{\"id\":\"f807ee9b-338f-44a8-9057-360f07f6c6d3\",\"type\":\"LinearAxis\"}],\"left\":[{\"id\":\"54b0187d-5e44-4cc9-a2bd-5b9077dae155\",\"type\":\"LinearAxis\"}],\"plot_height\":300,\"renderers\":[{\"id\":\"f807ee9b-338f-44a8-9057-360f07f6c6d3\",\"type\":\"LinearAxis\"},{\"id\":\"2712503d-2e8a-4163-a551-82f06f90e71e\",\"type\":\"Grid\"},{\"id\":\"54b0187d-5e44-4cc9-a2bd-5b9077dae155\",\"type\":\"LinearAxis\"},{\"id\":\"07ca91ca-ee1d-4e0e-837c-e428c49ccb91\",\"type\":\"Grid\"},{\"id\":\"d40e0699-2920-48c3-a6d9-ba4877707510\",\"type\":\"BoxAnnotation\"},{\"id\":\"8bd0fe5c-f9c0-40d4-85f0-74033e61c8e9\",\"type\":\"Legend\"},{\"id\":\"547be9e6-299f-49a7-b1c6-cf7ed15af95a\",\"type\":\"GlyphRenderer\"},{\"id\":\"6aeb7440-f72f-4508-b2d9-e7c069695110\",\"type\":\"GlyphRenderer\"}],\"title\":{\"id\":\"268343dc-4bc8-48b8-b74a-41086a153279\",\"type\":\"Title\"},\"toolbar\":{\"id\":\"28fa7e46-0c5f-44a3-bdaa-45615db48aba\",\"type\":\"Toolbar\"},\"x_range\":{\"id\":\"236a1778-ef6a-45fe-925a-5d8ea8397466\",\"type\":\"DataRange1d\"},\"x_scale\":{\"id\":\"9b5fe8b5-8c46-4977-8fa5-b9bd493f823d\",\"type\":\"LinearScale\"},\"y_range\":{\"id\":\"368644c2-d1ec-4839-b995-0d6bf44262ab\",\"type\":\"DataRange1d\"},\"y_scale\":{\"id\":\"18efab52-1034-4b4b-a810-10ffbb929ff3\",\"type\":\"LinearScale\"}},\"id\":\"bb1c7401-9d27-4c32-821b-ca951661b536\",\"subtype\":\"Figure\",\"type\":\"Plot\"},{\"attributes\":{\"line_color\":\"blue\",\"line_width\":2,\"x\":{\"field\":\"x\"},\"y\":{\"field\":\"y\"}},\"id\":\"b880e2dc-1ef3-48ef-9dc0-0cb605bd0bee\",\"type\":\"Line\"},{\"attributes\":{},\"id\":\"3ce9d418-6de5-4020-a335-2156389d2f8c\",\"type\":\"BasicTicker\"},{\"attributes\":{\"plot\":{\"id\":\"bb1c7401-9d27-4c32-821b-ca951661b536\",\"subtype\":\"Figure\",\"type\":\"Plot\"},\"ticker\":{\"id\":\"3ce9d418-6de5-4020-a335-2156389d2f8c\",\"type\":\"BasicTicker\"}},\"id\":\"2712503d-2e8a-4163-a551-82f06f90e71e\",\"type\":\"Grid\"},{\"attributes\":{},\"id\":\"18efab52-1034-4b4b-a810-10ffbb929ff3\",\"type\":\"LinearScale\"},{\"attributes\":{\"axis_label\":\"Radiance\",\"formatter\":{\"id\":\"9ef28e37-4cc1-4aa7-82f4-2a2da03f64b9\",\"type\":\"BasicTickFormatter\"},\"plot\":{\"id\":\"bb1c7401-9d27-4c32-821b-ca951661b536\",\"subtype\":\"Figure\",\"type\":\"Plot\"},\"ticker\":{\"id\":\"31cae66c-2404-44a4-9986-c7fb4a467873\",\"type\":\"BasicTicker\"}},\"id\":\"54b0187d-5e44-4cc9-a2bd-5b9077dae155\",\"type\":\"LinearAxis\"},{\"attributes\":{\"callback\":null,\"column_names\":[\"x\",\"y\"],\"data\":{\"x\":[365.9298,375.594,385.2625,394.9355,404.6129,414.2946,423.9808,433.6713,443.3662,453.0655,462.7692,472.4773,482.1898,491.9066,501.6279,511.3535,521.0836,530.818,540.5568,550.3,560.0477,569.7996,579.556,589.3168,599.0819,608.8515,618.6254,628.4037,638.1865,647.9736,657.7651,667.561,655.2923,665.0994,674.9012,684.6979,694.4894,704.2756,714.0566,723.8325,733.6031,743.3685,753.1287,762.8837,772.6335,782.3781,792.1174,801.8516,811.5805,821.3043,831.0228,840.7361,850.4442,860.1471,869.8448,879.5372,889.2245,898.9066,908.5834,918.2551,927.9214,937.5827,947.2387,956.8895,966.5351,976.1755,985.8106,995.4406,1005.065,1014.685,1024.299,1033.908,1043.512,1053.111,1062.704,1072.293,1081.876,1091.454,1101.026,1110.594,1120.156,1129.713,1139.265,1148.811,1158.353,1167.889,1177.42,1186.946,1196.466,1205.982,1215.492,1224.997,1234.496,1243.991,1253.48,1262.964,1253.373,1263.346,1273.318,1283.291,1293.262,1303.234,1313.206,1323.177,1333.148,1343.119,1353.089,1363.06,1373.03,1383.0,1392.969,1402.939,1412.908,1422.877,1432.845,1442.814,1452.782,1462.75,1472.718,1482.685,1492.652,1502.619,1512.586,1522.552,1532.518,1542.484,1552.45,1562.416,1572.381,1582.346,1592.311,1602.275,1612.24,1622.204,1632.167,1642.131,1652.094,1662.057,1672.02,1681.983,1691.945,1701.907,1711.869,1721.831,1731.792,1741.753,1751.714,1761.675,1771.635,1781.596,1791.556,1801.515,1811.475,1821.434,1831.393,1841.352,1851.31,1861.269,1871.227,1873.184,1867.664,1877.725,1887.785,1897.842,1907.896,1917.948,1927.999,1938.046,1948.092,1958.135,1968.175,1978.214,1988.25,1998.284,2008.315,2018.345,2028.372,2038.396,2048.419,2058.439,2068.456,2078.472,2088.485,2098.496,2108.504,2118.51,2128.514,2138.516,2148.515,2158.512,2168.507,2178.499,2188.489,2198.477,2208.462,2218.445,2228.426,2238.405,2248.381,2258.354,2268.326,2278.295,2288.262,2298.227,2308.189,2318.149,2328.107,2338.062,2348.016,2357.967,2367.915,2377.861,2387.805,2397.747,2407.686,2417.623,2427.558,2437.49,2447.42,2457.348,2467.273,2477.196,2487.117,2497.036],\"y\":[996.0,1096.0,1085.0,1316.0,1809.0,1874.0,1727.0,1601.0,1737.0,1771.0,1687.0,1574.0,1477.0,1361.0,1301.0,1263.0,1234.0,1273.0,1313.0,1297.0,1223.0,1115.0,1035.0,952.0,919.0,882.0,822.0,781.0,767.0,729.0,689.0,685.0,676.0,665.0,638.0,597.0,674.0,887.0,1127.0,1441.0,2230.0,3049.0,3342.0,2263.0,3416.0,3623.0,3456.0,3368.0,3090.0,2665.0,2814.0,3074.0,3083.0,3050.0,3010.0,2973.0,2831.0,2297.0,2044.0,1908.0,1675.0,873.0,790.0,1013.0,1563.0,1758.0,2077.0,2156.0,2131.0,2145.0,2129.0,2101.0,2081.0,2028.0,1950.0,1896.0,1776.0,1653.0,1366.0,912.0,308.0,282.0,405.0,364.0,646.0,925.0,986.0,978.0,1016.0,997.0,1055.0,1113.0,1159.0,1156.0,1102.0,944.0,1078.0,568.0,443.0,432.0,406.0,309.0,228.0,249.0,98.0,57.0,6.0,1.0,1.0,0.0,1.0,2.0,10.0,14.0,18.0,22.0,43.0,49.0,41.0,59.0,107.0,142.0,624.0,552.0,558.0,519.0,578.0,593.0,532.0,528.0,506.0,450.0,441.0,451.0,446.0,417.0,427.0,432.0,435.0,435.0,449.0,450.0,436.0,408.0,386.0,328.0,332.0,307.0,274.0,218.0,170.0,73.0,21.0,7.0,0.0,0.0,0.0,0.0,0.0,0.0,1.0,1.0,2.0,2.0,1.0,1.0,3.0,4.0,9.0,18.0,59.0,118.0,155.0,98.0,37.0,67.0,175.0,233.0,198.0,156.0,173.0,234.0,268.0,287.0,294.0,297.0,314.0,323.0,316.0,306.0,301.0,298.0,296.0,288.0,300.0,312.0,303.0,291.0,273.0,249.0,235.0,219.0,210.0,186.0,191.0,162.0,162.0,149.0,119.0,119.0,107.0,86.0,80.0,87.0,65.0,46.0,62.0,49.0,30.0,34.0,26.0,15.0,3.0,1.0]},\"selected\":null,\"selection_policy\":null},\"id\":\"d249139b-dab5-4de7-a911-6c73b57db20e\",\"type\":\"ColumnDataSource\"},{\"attributes\":{\"callback\":null},\"id\":\"368644c2-d1ec-4839-b995-0d6bf44262ab\",\"type\":\"DataRange1d\"},{\"attributes\":{\"line_alpha\":0.1,\"line_color\":\"#1f77b4\",\"line_width\":2,\"x\":{\"field\":\"x\"},\"y\":{\"field\":\"y\"}},\"id\":\"3e68dd2b-1895-43c1-8bce-6793ec27302b\",\"type\":\"Line\"},{\"attributes\":{\"axis_label\":\"Wavelengths\",\"formatter\":{\"id\":\"6ad317fc-d35a-40f4-9216-311ebeb33ce7\",\"type\":\"BasicTickFormatter\"},\"plot\":{\"id\":\"bb1c7401-9d27-4c32-821b-ca951661b536\",\"subtype\":\"Figure\",\"type\":\"Plot\"},\"ticker\":{\"id\":\"3ce9d418-6de5-4020-a335-2156389d2f8c\",\"type\":\"BasicTicker\"}},\"id\":\"f807ee9b-338f-44a8-9057-360f07f6c6d3\",\"type\":\"LinearAxis\"},{\"attributes\":{},\"id\":\"31cae66c-2404-44a4-9986-c7fb4a467873\",\"type\":\"BasicTicker\"},{\"attributes\":{\"dimension\":1,\"plot\":{\"id\":\"bb1c7401-9d27-4c32-821b-ca951661b536\",\"subtype\":\"Figure\",\"type\":\"Plot\"},\"ticker\":{\"id\":\"31cae66c-2404-44a4-9986-c7fb4a467873\",\"type\":\"BasicTicker\"}},\"id\":\"07ca91ca-ee1d-4e0e-837c-e428c49ccb91\",\"type\":\"Grid\"},{\"attributes\":{\"callback\":null,\"column_names\":[\"x\",\"y\"],\"data\":{\"x\":[365.9298,375.594,385.2625,394.9355,404.6129,414.2946,423.9808,433.6713,443.3662,453.0655,462.7692,472.4773,482.1898,491.9066,501.6279,511.3535,521.0836,530.818,540.5568,550.3,560.0477,569.7996,579.556,589.3168,599.0819,608.8515,618.6254,628.4037,638.1865,647.9736,657.7651,667.561,655.2923,665.0994,674.9012,684.6979,694.4894,704.2756,714.0566,723.8325,733.6031,743.3685,753.1287,762.8837,772.6335,782.3781,792.1174,801.8516,811.5805,821.3043,831.0228,840.7361,850.4442,860.1471,869.8448,879.5372,889.2245,898.9066,908.5834,918.2551,927.9214,937.5827,947.2387,956.8895,966.5351,976.1755,985.8106,995.4406,1005.065,1014.685,1024.299,1033.908,1043.512,1053.111,1062.704,1072.293,1081.876,1091.454,1101.026,1110.594,1120.156,1129.713,1139.265,1148.811,1158.353,1167.889,1177.42,1186.946,1196.466,1205.982,1215.492,1224.997,1234.496,1243.991,1253.48,1262.964,1253.373,1263.346,1273.318,1283.291,1293.262,1303.234,1313.206,1323.177,1333.148,1343.119,1353.089,1363.06,1373.03,1383.0,1392.969,1402.939,1412.908,1422.877,1432.845,1442.814,1452.782,1462.75,1472.718,1482.685,1492.652,1502.619,1512.586,1522.552,1532.518,1542.484,1552.45,1562.416,1572.381,1582.346,1592.311,1602.275,1612.24,1622.204,1632.167,1642.131,1652.094,1662.057,1672.02,1681.983,1691.945,1701.907,1711.869,1721.831,1731.792,1741.753,1751.714,1761.675,1771.635,1781.596,1791.556,1801.515,1811.475,1821.434,1831.393,1841.352,1851.31,1861.269,1871.227,1873.184,1867.664,1877.725,1887.785,1897.842,1907.896,1917.948,1927.999,1938.046,1948.092,1958.135,1968.175,1978.214,1988.25,1998.284,2008.315,2018.345,2028.372,2038.396,2048.419,2058.439,2068.456,2078.472,2088.485,2098.496,2108.504,2118.51,2128.514,2138.516,2148.515,2158.512,2168.507,2178.499,2188.489,2198.477,2208.462,2218.445,2228.426,2238.405,2248.381,2258.354,2268.326,2278.295,2288.262,2298.227,2308.189,2318.149,2328.107,2338.062,2348.016,2357.967,2367.915,2377.861,2387.805,2397.747,2407.686,2417.623,2427.558,2437.49,2447.42,2457.348,2467.273,2477.196,2487.117,2497.036],\"y\":[953.0,1078.0,1088.0,1295.0,1804.0,1881.0,1737.0,1609.0,1761.0,1823.0,1760.0,1659.0,1592.0,1493.0,1448.0,1406.0,1339.0,1358.0,1377.0,1371.0,1335.0,1294.0,1274.0,1224.0,1207.0,1198.0,1162.0,1129.0,1137.0,1118.0,1085.0,1114.0,1011.0,1035.0,1023.0,946.0,956.0,996.0,919.0,786.0,806.0,853.0,847.0,546.0,812.0,870.0,853.0,856.0,795.0,660.0,624.0,612.0,588.0,561.0,530.0,494.0,449.0,341.0,286.0,248.0,189.0,96.0,75.0,87.0,117.0,128.0,141.0,147.0,148.0,152.0,157.0,161.0,169.0,170.0,171.0,163.0,147.0,132.0,105.0,69.0,36.0,35.0,38.0,37.0,44.0,57.0,63.0,58.0,62.0,57.0,62.0,64.0,67.0,67.0,65.0,63.0,99.0,53.0,38.0,33.0,30.0,23.0,18.0,9.0,10.0,7.0,2.0,0.0,0.0,0.0,2.0,1.0,4.0,7.0,5.0,6.0,10.0,10.0,10.0,11.0,15.0,14.0,62.0,44.0,44.0,25.0,43.0,41.0,38.0,35.0,37.0,30.0,29.0,30.0,28.0,26.0,26.0,28.0,28.0,29.0,28.0,33.0,34.0,29.0,30.0,20.0,27.0,26.0,28.0,25.0,26.0,20.0,6.0,3.0,0.0,0.0,0.0,0.0,0.0,2.0,0.0,-1.0,0.0,0.0,1.0,1.0,2.0,1.0,4.0,6.0,21.0,36.0,45.0,30.0,12.0,22.0,47.0,60.0,53.0,44.0,45.0,55.0,61.0,65.0,63.0,62.0,67.0,66.0,63.0,64.0,63.0,61.0,59.0,57.0,56.0,61.0,57.0,55.0,55.0,48.0,47.0,45.0,45.0,39.0,41.0,31.0,30.0,28.0,24.0,24.0,22.0,15.0,15.0,11.0,12.0,9.0,10.0,9.0,7.0,7.0,3.0,1.0,0.0,0.0]},\"selected\":null,\"selection_policy\":null},\"id\":\"9cfa47e7-1593-43b2-8a8c-ac6d430c9d8a\",\"type\":\"ColumnDataSource\"},{\"attributes\":{\"bottom_units\":\"screen\",\"fill_alpha\":{\"value\":0.5},\"fill_color\":{\"value\":\"lightgrey\"},\"left_units\":\"screen\",\"level\":\"overlay\",\"line_alpha\":{\"value\":1.0},\"line_color\":{\"value\":\"black\"},\"line_dash\":[4,4],\"line_width\":{\"value\":2},\"plot\":null,\"render_mode\":\"css\",\"right_units\":\"screen\",\"top_units\":\"screen\"},\"id\":\"d40e0699-2920-48c3-a6d9-ba4877707510\",\"type\":\"BoxAnnotation\"},{\"attributes\":{},\"id\":\"6ad317fc-d35a-40f4-9216-311ebeb33ce7\",\"type\":\"BasicTickFormatter\"},{\"attributes\":{},\"id\":\"babe5356-d610-401f-aca9-05bb274483cb\",\"type\":\"ResetTool\"},{\"attributes\":{\"items\":[{\"id\":\"77177dde-07b7-4ebf-892d-32b38524874f\",\"type\":\"LegendItem\"},{\"id\":\"1f70597c-21b8-4fd5-ae62-fb32ab1821a1\",\"type\":\"LegendItem\"}],\"plot\":{\"id\":\"bb1c7401-9d27-4c32-821b-ca951661b536\",\"subtype\":\"Figure\",\"type\":\"Plot\"}},\"id\":\"8bd0fe5c-f9c0-40d4-85f0-74033e61c8e9\",\"type\":\"Legend\"},{\"attributes\":{\"line_color\":\"blueviolet\",\"line_width\":2,\"x\":{\"field\":\"x\"},\"y\":{\"field\":\"y\"}},\"id\":\"e4e11003-ba7e-4235-ab60-6a0edac4810b\",\"type\":\"Line\"},{\"attributes\":{},\"id\":\"1e810f13-816f-486e-a8ee-a5c6b5bb30f1\",\"type\":\"PanTool\"},{\"attributes\":{\"source\":{\"id\":\"d249139b-dab5-4de7-a911-6c73b57db20e\",\"type\":\"ColumnDataSource\"}},\"id\":\"74c19986-344b-48b5-8cec-4eb29643bd56\",\"type\":\"CDSView\"},{\"attributes\":{},\"id\":\"f797ede7-fc5f-4a08-8909-0710c577afcf\",\"type\":\"WheelZoomTool\"},{\"attributes\":{\"overlay\":{\"id\":\"d40e0699-2920-48c3-a6d9-ba4877707510\",\"type\":\"BoxAnnotation\"}},\"id\":\"0b08fa3e-a06d-4edc-8cc1-69f9cfa5edc7\",\"type\":\"BoxZoomTool\"},{\"attributes\":{\"source\":{\"id\":\"9cfa47e7-1593-43b2-8a8c-ac6d430c9d8a\",\"type\":\"ColumnDataSource\"}},\"id\":\"50448593-7bb5-4d37-8e60-1c88867f9dd6\",\"type\":\"CDSView\"},{\"attributes\":{},\"id\":\"6f7a00c2-81b2-4f8b-b06b-ba25e5dd05b7\",\"type\":\"SaveTool\"},{\"attributes\":{\"line_alpha\":0.1,\"line_color\":\"#1f77b4\",\"line_width\":2,\"x\":{\"field\":\"x\"},\"y\":{\"field\":\"y\"}},\"id\":\"3f195798-a111-4781-ab74-ddc31fc39b9a\",\"type\":\"Line\"},{\"attributes\":{},\"id\":\"28d1c0e7-1fb0-4918-b9bb-de7d83785d38\",\"type\":\"HelpTool\"},{\"attributes\":{\"data_source\":{\"id\":\"9cfa47e7-1593-43b2-8a8c-ac6d430c9d8a\",\"type\":\"ColumnDataSource\"},\"glyph\":{\"id\":\"e4e11003-ba7e-4235-ab60-6a0edac4810b\",\"type\":\"Line\"},\"hover_glyph\":null,\"muted_glyph\":null,\"nonselection_glyph\":{\"id\":\"3e68dd2b-1895-43c1-8bce-6793ec27302b\",\"type\":\"Line\"},\"selection_glyph\":null,\"view\":{\"id\":\"50448593-7bb5-4d37-8e60-1c88867f9dd6\",\"type\":\"CDSView\"}},\"id\":\"6aeb7440-f72f-4508-b2d9-e7c069695110\",\"type\":\"GlyphRenderer\"}],\"root_ids\":[\"bb1c7401-9d27-4c32-821b-ca951661b536\"]},\"title\":\"Bokeh Application\",\"version\":\"0.12.15\"}};\n",
       "  var render_items = [{\"docid\":\"1a6fa49c-ae2e-4579-950c-fa0daa1d7b9e\",\"elementid\":\"ac322801-15b7-458d-98d0-df397c7e09e7\",\"modelid\":\"bb1c7401-9d27-4c32-821b-ca951661b536\",\"notebook_comms_target\":\"2098edc9-339e-4a8e-a206-102dc946f582\"}];\n",
       "  root.Bokeh.embed.embed_items_notebook(docs_json, render_items);\n",
       "\n",
       "  }\n",
       "  if (root.Bokeh !== undefined) {\n",
       "    embed_document(root);\n",
       "  } else {\n",
       "    var attempts = 0;\n",
       "    var timer = setInterval(function(root) {\n",
       "      if (root.Bokeh !== undefined) {\n",
       "        embed_document(root);\n",
       "        clearInterval(timer);\n",
       "      }\n",
       "      attempts++;\n",
       "      if (attempts > 100) {\n",
       "        console.log(\"Bokeh: ERROR: Unable to run BokehJS code because BokehJS library is missing\")\n",
       "        clearInterval(timer);\n",
       "      }\n",
       "    }, 10, root)\n",
       "  }\n",
       "})(window);"
      ],
      "application/vnd.bokehjs_exec.v0+json": ""
     },
     "metadata": {
      "application/vnd.bokehjs_exec.v0+json": {
       "id": "bb1c7401-9d27-4c32-821b-ca951661b536"
      }
     },
     "output_type": "display_data"
    },
    {
     "data": {
      "text/html": [
       "\n",
       "<div class=\"bk-root\">\n",
       "    <div class=\"bk-plotdiv\" id=\"94747d62-a407-42bb-b620-45ececdf728e\"></div>\n",
       "</div>"
      ]
     },
     "metadata": {},
     "output_type": "display_data"
    },
    {
     "data": {
      "application/javascript": [
       "(function(root) {\n",
       "  function embed_document(root) {\n",
       "    \n",
       "  var docs_json = {\"d06961aa-d210-4bcb-b45b-3c81865568c1\":{\"roots\":{\"references\":[{\"attributes\":{\"label\":{\"value\":\"B\"},\"renderers\":[{\"id\":\"6aeb7440-f72f-4508-b2d9-e7c069695110\",\"type\":\"GlyphRenderer\"}]},\"id\":\"1f70597c-21b8-4fd5-ae62-fb32ab1821a1\",\"type\":\"LegendItem\"},{\"attributes\":{\"label\":{\"value\":\"C\"},\"renderers\":[{\"id\":\"3794bdc8-e59b-474d-9806-83d23e12c227\",\"type\":\"GlyphRenderer\"}]},\"id\":\"30135d40-4fe8-46d0-969d-9514bea15935\",\"type\":\"LegendItem\"},{\"attributes\":{},\"id\":\"9b5fe8b5-8c46-4977-8fa5-b9bd493f823d\",\"type\":\"LinearScale\"},{\"attributes\":{\"active_drag\":\"auto\",\"active_inspect\":\"auto\",\"active_scroll\":\"auto\",\"active_tap\":\"auto\",\"tools\":[{\"id\":\"1e810f13-816f-486e-a8ee-a5c6b5bb30f1\",\"type\":\"PanTool\"},{\"id\":\"f797ede7-fc5f-4a08-8909-0710c577afcf\",\"type\":\"WheelZoomTool\"},{\"id\":\"0b08fa3e-a06d-4edc-8cc1-69f9cfa5edc7\",\"type\":\"BoxZoomTool\"},{\"id\":\"6f7a00c2-81b2-4f8b-b06b-ba25e5dd05b7\",\"type\":\"SaveTool\"},{\"id\":\"babe5356-d610-401f-aca9-05bb274483cb\",\"type\":\"ResetTool\"},{\"id\":\"28d1c0e7-1fb0-4918-b9bb-de7d83785d38\",\"type\":\"HelpTool\"}]},\"id\":\"28fa7e46-0c5f-44a3-bdaa-45615db48aba\",\"type\":\"Toolbar\"},{\"attributes\":{},\"id\":\"9ef28e37-4cc1-4aa7-82f4-2a2da03f64b9\",\"type\":\"BasicTickFormatter\"},{\"attributes\":{\"plot\":null,\"text\":\"Spectral Profile\"},\"id\":\"268343dc-4bc8-48b8-b74a-41086a153279\",\"type\":\"Title\"},{\"attributes\":{\"callback\":null},\"id\":\"236a1778-ef6a-45fe-925a-5d8ea8397466\",\"type\":\"DataRange1d\"},{\"attributes\":{\"data_source\":{\"id\":\"d249139b-dab5-4de7-a911-6c73b57db20e\",\"type\":\"ColumnDataSource\"},\"glyph\":{\"id\":\"b880e2dc-1ef3-48ef-9dc0-0cb605bd0bee\",\"type\":\"Line\"},\"hover_glyph\":null,\"muted_glyph\":null,\"nonselection_glyph\":{\"id\":\"3f195798-a111-4781-ab74-ddc31fc39b9a\",\"type\":\"Line\"},\"selection_glyph\":null,\"view\":{\"id\":\"74c19986-344b-48b5-8cec-4eb29643bd56\",\"type\":\"CDSView\"}},\"id\":\"547be9e6-299f-49a7-b1c6-cf7ed15af95a\",\"type\":\"GlyphRenderer\"},{\"attributes\":{\"label\":{\"value\":\"A\"},\"renderers\":[{\"id\":\"547be9e6-299f-49a7-b1c6-cf7ed15af95a\",\"type\":\"GlyphRenderer\"}]},\"id\":\"77177dde-07b7-4ebf-892d-32b38524874f\",\"type\":\"LegendItem\"},{\"attributes\":{\"line_color\":\"brown\",\"line_width\":2,\"x\":{\"field\":\"x\"},\"y\":{\"field\":\"y\"}},\"id\":\"3c398dd3-7e90-481d-8fce-bfc318930537\",\"type\":\"Line\"},{\"attributes\":{\"below\":[{\"id\":\"f807ee9b-338f-44a8-9057-360f07f6c6d3\",\"type\":\"LinearAxis\"}],\"left\":[{\"id\":\"54b0187d-5e44-4cc9-a2bd-5b9077dae155\",\"type\":\"LinearAxis\"}],\"plot_height\":300,\"renderers\":[{\"id\":\"f807ee9b-338f-44a8-9057-360f07f6c6d3\",\"type\":\"LinearAxis\"},{\"id\":\"2712503d-2e8a-4163-a551-82f06f90e71e\",\"type\":\"Grid\"},{\"id\":\"54b0187d-5e44-4cc9-a2bd-5b9077dae155\",\"type\":\"LinearAxis\"},{\"id\":\"07ca91ca-ee1d-4e0e-837c-e428c49ccb91\",\"type\":\"Grid\"},{\"id\":\"d40e0699-2920-48c3-a6d9-ba4877707510\",\"type\":\"BoxAnnotation\"},{\"id\":\"8bd0fe5c-f9c0-40d4-85f0-74033e61c8e9\",\"type\":\"Legend\"},{\"id\":\"547be9e6-299f-49a7-b1c6-cf7ed15af95a\",\"type\":\"GlyphRenderer\"},{\"id\":\"6aeb7440-f72f-4508-b2d9-e7c069695110\",\"type\":\"GlyphRenderer\"},{\"id\":\"3794bdc8-e59b-474d-9806-83d23e12c227\",\"type\":\"GlyphRenderer\"}],\"title\":{\"id\":\"268343dc-4bc8-48b8-b74a-41086a153279\",\"type\":\"Title\"},\"toolbar\":{\"id\":\"28fa7e46-0c5f-44a3-bdaa-45615db48aba\",\"type\":\"Toolbar\"},\"x_range\":{\"id\":\"236a1778-ef6a-45fe-925a-5d8ea8397466\",\"type\":\"DataRange1d\"},\"x_scale\":{\"id\":\"9b5fe8b5-8c46-4977-8fa5-b9bd493f823d\",\"type\":\"LinearScale\"},\"y_range\":{\"id\":\"368644c2-d1ec-4839-b995-0d6bf44262ab\",\"type\":\"DataRange1d\"},\"y_scale\":{\"id\":\"18efab52-1034-4b4b-a810-10ffbb929ff3\",\"type\":\"LinearScale\"}},\"id\":\"bb1c7401-9d27-4c32-821b-ca951661b536\",\"subtype\":\"Figure\",\"type\":\"Plot\"},{\"attributes\":{\"line_color\":\"blue\",\"line_width\":2,\"x\":{\"field\":\"x\"},\"y\":{\"field\":\"y\"}},\"id\":\"b880e2dc-1ef3-48ef-9dc0-0cb605bd0bee\",\"type\":\"Line\"},{\"attributes\":{},\"id\":\"3ce9d418-6de5-4020-a335-2156389d2f8c\",\"type\":\"BasicTicker\"},{\"attributes\":{\"plot\":{\"id\":\"bb1c7401-9d27-4c32-821b-ca951661b536\",\"subtype\":\"Figure\",\"type\":\"Plot\"},\"ticker\":{\"id\":\"3ce9d418-6de5-4020-a335-2156389d2f8c\",\"type\":\"BasicTicker\"}},\"id\":\"2712503d-2e8a-4163-a551-82f06f90e71e\",\"type\":\"Grid\"},{\"attributes\":{\"source\":{\"id\":\"a71995f6-58f3-4f17-90f8-4f253be02eba\",\"type\":\"ColumnDataSource\"}},\"id\":\"6cede8bf-9f4f-4d35-bf5e-95f1c41bc7db\",\"type\":\"CDSView\"},{\"attributes\":{},\"id\":\"18efab52-1034-4b4b-a810-10ffbb929ff3\",\"type\":\"LinearScale\"},{\"attributes\":{\"axis_label\":\"Radiance\",\"formatter\":{\"id\":\"9ef28e37-4cc1-4aa7-82f4-2a2da03f64b9\",\"type\":\"BasicTickFormatter\"},\"plot\":{\"id\":\"bb1c7401-9d27-4c32-821b-ca951661b536\",\"subtype\":\"Figure\",\"type\":\"Plot\"},\"ticker\":{\"id\":\"31cae66c-2404-44a4-9986-c7fb4a467873\",\"type\":\"BasicTicker\"}},\"id\":\"54b0187d-5e44-4cc9-a2bd-5b9077dae155\",\"type\":\"LinearAxis\"},{\"attributes\":{\"callback\":null,\"column_names\":[\"x\",\"y\"],\"data\":{\"x\":[365.9298,375.594,385.2625,394.9355,404.6129,414.2946,423.9808,433.6713,443.3662,453.0655,462.7692,472.4773,482.1898,491.9066,501.6279,511.3535,521.0836,530.818,540.5568,550.3,560.0477,569.7996,579.556,589.3168,599.0819,608.8515,618.6254,628.4037,638.1865,647.9736,657.7651,667.561,655.2923,665.0994,674.9012,684.6979,694.4894,704.2756,714.0566,723.8325,733.6031,743.3685,753.1287,762.8837,772.6335,782.3781,792.1174,801.8516,811.5805,821.3043,831.0228,840.7361,850.4442,860.1471,869.8448,879.5372,889.2245,898.9066,908.5834,918.2551,927.9214,937.5827,947.2387,956.8895,966.5351,976.1755,985.8106,995.4406,1005.065,1014.685,1024.299,1033.908,1043.512,1053.111,1062.704,1072.293,1081.876,1091.454,1101.026,1110.594,1120.156,1129.713,1139.265,1148.811,1158.353,1167.889,1177.42,1186.946,1196.466,1205.982,1215.492,1224.997,1234.496,1243.991,1253.48,1262.964,1253.373,1263.346,1273.318,1283.291,1293.262,1303.234,1313.206,1323.177,1333.148,1343.119,1353.089,1363.06,1373.03,1383.0,1392.969,1402.939,1412.908,1422.877,1432.845,1442.814,1452.782,1462.75,1472.718,1482.685,1492.652,1502.619,1512.586,1522.552,1532.518,1542.484,1552.45,1562.416,1572.381,1582.346,1592.311,1602.275,1612.24,1622.204,1632.167,1642.131,1652.094,1662.057,1672.02,1681.983,1691.945,1701.907,1711.869,1721.831,1731.792,1741.753,1751.714,1761.675,1771.635,1781.596,1791.556,1801.515,1811.475,1821.434,1831.393,1841.352,1851.31,1861.269,1871.227,1873.184,1867.664,1877.725,1887.785,1897.842,1907.896,1917.948,1927.999,1938.046,1948.092,1958.135,1968.175,1978.214,1988.25,1998.284,2008.315,2018.345,2028.372,2038.396,2048.419,2058.439,2068.456,2078.472,2088.485,2098.496,2108.504,2118.51,2128.514,2138.516,2148.515,2158.512,2168.507,2178.499,2188.489,2198.477,2208.462,2218.445,2228.426,2238.405,2248.381,2258.354,2268.326,2278.295,2288.262,2298.227,2308.189,2318.149,2328.107,2338.062,2348.016,2357.967,2367.915,2377.861,2387.805,2397.747,2407.686,2417.623,2427.558,2437.49,2447.42,2457.348,2467.273,2477.196,2487.117,2497.036],\"y\":[996.0,1096.0,1085.0,1316.0,1809.0,1874.0,1727.0,1601.0,1737.0,1771.0,1687.0,1574.0,1477.0,1361.0,1301.0,1263.0,1234.0,1273.0,1313.0,1297.0,1223.0,1115.0,1035.0,952.0,919.0,882.0,822.0,781.0,767.0,729.0,689.0,685.0,676.0,665.0,638.0,597.0,674.0,887.0,1127.0,1441.0,2230.0,3049.0,3342.0,2263.0,3416.0,3623.0,3456.0,3368.0,3090.0,2665.0,2814.0,3074.0,3083.0,3050.0,3010.0,2973.0,2831.0,2297.0,2044.0,1908.0,1675.0,873.0,790.0,1013.0,1563.0,1758.0,2077.0,2156.0,2131.0,2145.0,2129.0,2101.0,2081.0,2028.0,1950.0,1896.0,1776.0,1653.0,1366.0,912.0,308.0,282.0,405.0,364.0,646.0,925.0,986.0,978.0,1016.0,997.0,1055.0,1113.0,1159.0,1156.0,1102.0,944.0,1078.0,568.0,443.0,432.0,406.0,309.0,228.0,249.0,98.0,57.0,6.0,1.0,1.0,0.0,1.0,2.0,10.0,14.0,18.0,22.0,43.0,49.0,41.0,59.0,107.0,142.0,624.0,552.0,558.0,519.0,578.0,593.0,532.0,528.0,506.0,450.0,441.0,451.0,446.0,417.0,427.0,432.0,435.0,435.0,449.0,450.0,436.0,408.0,386.0,328.0,332.0,307.0,274.0,218.0,170.0,73.0,21.0,7.0,0.0,0.0,0.0,0.0,0.0,0.0,1.0,1.0,2.0,2.0,1.0,1.0,3.0,4.0,9.0,18.0,59.0,118.0,155.0,98.0,37.0,67.0,175.0,233.0,198.0,156.0,173.0,234.0,268.0,287.0,294.0,297.0,314.0,323.0,316.0,306.0,301.0,298.0,296.0,288.0,300.0,312.0,303.0,291.0,273.0,249.0,235.0,219.0,210.0,186.0,191.0,162.0,162.0,149.0,119.0,119.0,107.0,86.0,80.0,87.0,65.0,46.0,62.0,49.0,30.0,34.0,26.0,15.0,3.0,1.0]},\"selected\":null,\"selection_policy\":null},\"id\":\"d249139b-dab5-4de7-a911-6c73b57db20e\",\"type\":\"ColumnDataSource\"},{\"attributes\":{\"callback\":null},\"id\":\"368644c2-d1ec-4839-b995-0d6bf44262ab\",\"type\":\"DataRange1d\"},{\"attributes\":{\"line_alpha\":0.1,\"line_color\":\"#1f77b4\",\"line_width\":2,\"x\":{\"field\":\"x\"},\"y\":{\"field\":\"y\"}},\"id\":\"3e68dd2b-1895-43c1-8bce-6793ec27302b\",\"type\":\"Line\"},{\"attributes\":{\"axis_label\":\"Wavelengths\",\"formatter\":{\"id\":\"6ad317fc-d35a-40f4-9216-311ebeb33ce7\",\"type\":\"BasicTickFormatter\"},\"plot\":{\"id\":\"bb1c7401-9d27-4c32-821b-ca951661b536\",\"subtype\":\"Figure\",\"type\":\"Plot\"},\"ticker\":{\"id\":\"3ce9d418-6de5-4020-a335-2156389d2f8c\",\"type\":\"BasicTicker\"}},\"id\":\"f807ee9b-338f-44a8-9057-360f07f6c6d3\",\"type\":\"LinearAxis\"},{\"attributes\":{},\"id\":\"31cae66c-2404-44a4-9986-c7fb4a467873\",\"type\":\"BasicTicker\"},{\"attributes\":{\"dimension\":1,\"plot\":{\"id\":\"bb1c7401-9d27-4c32-821b-ca951661b536\",\"subtype\":\"Figure\",\"type\":\"Plot\"},\"ticker\":{\"id\":\"31cae66c-2404-44a4-9986-c7fb4a467873\",\"type\":\"BasicTicker\"}},\"id\":\"07ca91ca-ee1d-4e0e-837c-e428c49ccb91\",\"type\":\"Grid\"},{\"attributes\":{\"callback\":null,\"column_names\":[\"x\",\"y\"],\"data\":{\"x\":[365.9298,375.594,385.2625,394.9355,404.6129,414.2946,423.9808,433.6713,443.3662,453.0655,462.7692,472.4773,482.1898,491.9066,501.6279,511.3535,521.0836,530.818,540.5568,550.3,560.0477,569.7996,579.556,589.3168,599.0819,608.8515,618.6254,628.4037,638.1865,647.9736,657.7651,667.561,655.2923,665.0994,674.9012,684.6979,694.4894,704.2756,714.0566,723.8325,733.6031,743.3685,753.1287,762.8837,772.6335,782.3781,792.1174,801.8516,811.5805,821.3043,831.0228,840.7361,850.4442,860.1471,869.8448,879.5372,889.2245,898.9066,908.5834,918.2551,927.9214,937.5827,947.2387,956.8895,966.5351,976.1755,985.8106,995.4406,1005.065,1014.685,1024.299,1033.908,1043.512,1053.111,1062.704,1072.293,1081.876,1091.454,1101.026,1110.594,1120.156,1129.713,1139.265,1148.811,1158.353,1167.889,1177.42,1186.946,1196.466,1205.982,1215.492,1224.997,1234.496,1243.991,1253.48,1262.964,1253.373,1263.346,1273.318,1283.291,1293.262,1303.234,1313.206,1323.177,1333.148,1343.119,1353.089,1363.06,1373.03,1383.0,1392.969,1402.939,1412.908,1422.877,1432.845,1442.814,1452.782,1462.75,1472.718,1482.685,1492.652,1502.619,1512.586,1522.552,1532.518,1542.484,1552.45,1562.416,1572.381,1582.346,1592.311,1602.275,1612.24,1622.204,1632.167,1642.131,1652.094,1662.057,1672.02,1681.983,1691.945,1701.907,1711.869,1721.831,1731.792,1741.753,1751.714,1761.675,1771.635,1781.596,1791.556,1801.515,1811.475,1821.434,1831.393,1841.352,1851.31,1861.269,1871.227,1873.184,1867.664,1877.725,1887.785,1897.842,1907.896,1917.948,1927.999,1938.046,1948.092,1958.135,1968.175,1978.214,1988.25,1998.284,2008.315,2018.345,2028.372,2038.396,2048.419,2058.439,2068.456,2078.472,2088.485,2098.496,2108.504,2118.51,2128.514,2138.516,2148.515,2158.512,2168.507,2178.499,2188.489,2198.477,2208.462,2218.445,2228.426,2238.405,2248.381,2258.354,2268.326,2278.295,2288.262,2298.227,2308.189,2318.149,2328.107,2338.062,2348.016,2357.967,2367.915,2377.861,2387.805,2397.747,2407.686,2417.623,2427.558,2437.49,2447.42,2457.348,2467.273,2477.196,2487.117,2497.036],\"y\":[953.0,1078.0,1088.0,1295.0,1804.0,1881.0,1737.0,1609.0,1761.0,1823.0,1760.0,1659.0,1592.0,1493.0,1448.0,1406.0,1339.0,1358.0,1377.0,1371.0,1335.0,1294.0,1274.0,1224.0,1207.0,1198.0,1162.0,1129.0,1137.0,1118.0,1085.0,1114.0,1011.0,1035.0,1023.0,946.0,956.0,996.0,919.0,786.0,806.0,853.0,847.0,546.0,812.0,870.0,853.0,856.0,795.0,660.0,624.0,612.0,588.0,561.0,530.0,494.0,449.0,341.0,286.0,248.0,189.0,96.0,75.0,87.0,117.0,128.0,141.0,147.0,148.0,152.0,157.0,161.0,169.0,170.0,171.0,163.0,147.0,132.0,105.0,69.0,36.0,35.0,38.0,37.0,44.0,57.0,63.0,58.0,62.0,57.0,62.0,64.0,67.0,67.0,65.0,63.0,99.0,53.0,38.0,33.0,30.0,23.0,18.0,9.0,10.0,7.0,2.0,0.0,0.0,0.0,2.0,1.0,4.0,7.0,5.0,6.0,10.0,10.0,10.0,11.0,15.0,14.0,62.0,44.0,44.0,25.0,43.0,41.0,38.0,35.0,37.0,30.0,29.0,30.0,28.0,26.0,26.0,28.0,28.0,29.0,28.0,33.0,34.0,29.0,30.0,20.0,27.0,26.0,28.0,25.0,26.0,20.0,6.0,3.0,0.0,0.0,0.0,0.0,0.0,2.0,0.0,-1.0,0.0,0.0,1.0,1.0,2.0,1.0,4.0,6.0,21.0,36.0,45.0,30.0,12.0,22.0,47.0,60.0,53.0,44.0,45.0,55.0,61.0,65.0,63.0,62.0,67.0,66.0,63.0,64.0,63.0,61.0,59.0,57.0,56.0,61.0,57.0,55.0,55.0,48.0,47.0,45.0,45.0,39.0,41.0,31.0,30.0,28.0,24.0,24.0,22.0,15.0,15.0,11.0,12.0,9.0,10.0,9.0,7.0,7.0,3.0,1.0,0.0,0.0]},\"selected\":null,\"selection_policy\":null},\"id\":\"9cfa47e7-1593-43b2-8a8c-ac6d430c9d8a\",\"type\":\"ColumnDataSource\"},{\"attributes\":{\"bottom_units\":\"screen\",\"fill_alpha\":{\"value\":0.5},\"fill_color\":{\"value\":\"lightgrey\"},\"left_units\":\"screen\",\"level\":\"overlay\",\"line_alpha\":{\"value\":1.0},\"line_color\":{\"value\":\"black\"},\"line_dash\":[4,4],\"line_width\":{\"value\":2},\"plot\":null,\"render_mode\":\"css\",\"right_units\":\"screen\",\"top_units\":\"screen\"},\"id\":\"d40e0699-2920-48c3-a6d9-ba4877707510\",\"type\":\"BoxAnnotation\"},{\"attributes\":{},\"id\":\"6ad317fc-d35a-40f4-9216-311ebeb33ce7\",\"type\":\"BasicTickFormatter\"},{\"attributes\":{},\"id\":\"babe5356-d610-401f-aca9-05bb274483cb\",\"type\":\"ResetTool\"},{\"attributes\":{\"items\":[{\"id\":\"77177dde-07b7-4ebf-892d-32b38524874f\",\"type\":\"LegendItem\"},{\"id\":\"1f70597c-21b8-4fd5-ae62-fb32ab1821a1\",\"type\":\"LegendItem\"},{\"id\":\"30135d40-4fe8-46d0-969d-9514bea15935\",\"type\":\"LegendItem\"}],\"plot\":{\"id\":\"bb1c7401-9d27-4c32-821b-ca951661b536\",\"subtype\":\"Figure\",\"type\":\"Plot\"}},\"id\":\"8bd0fe5c-f9c0-40d4-85f0-74033e61c8e9\",\"type\":\"Legend\"},{\"attributes\":{\"line_color\":\"blueviolet\",\"line_width\":2,\"x\":{\"field\":\"x\"},\"y\":{\"field\":\"y\"}},\"id\":\"e4e11003-ba7e-4235-ab60-6a0edac4810b\",\"type\":\"Line\"},{\"attributes\":{\"line_alpha\":0.1,\"line_color\":\"#1f77b4\",\"line_width\":2,\"x\":{\"field\":\"x\"},\"y\":{\"field\":\"y\"}},\"id\":\"bc5edee3-f993-47c0-ad59-ed15c3783986\",\"type\":\"Line\"},{\"attributes\":{},\"id\":\"1e810f13-816f-486e-a8ee-a5c6b5bb30f1\",\"type\":\"PanTool\"},{\"attributes\":{\"source\":{\"id\":\"d249139b-dab5-4de7-a911-6c73b57db20e\",\"type\":\"ColumnDataSource\"}},\"id\":\"74c19986-344b-48b5-8cec-4eb29643bd56\",\"type\":\"CDSView\"},{\"attributes\":{},\"id\":\"f797ede7-fc5f-4a08-8909-0710c577afcf\",\"type\":\"WheelZoomTool\"},{\"attributes\":{\"overlay\":{\"id\":\"d40e0699-2920-48c3-a6d9-ba4877707510\",\"type\":\"BoxAnnotation\"}},\"id\":\"0b08fa3e-a06d-4edc-8cc1-69f9cfa5edc7\",\"type\":\"BoxZoomTool\"},{\"attributes\":{\"source\":{\"id\":\"9cfa47e7-1593-43b2-8a8c-ac6d430c9d8a\",\"type\":\"ColumnDataSource\"}},\"id\":\"50448593-7bb5-4d37-8e60-1c88867f9dd6\",\"type\":\"CDSView\"},{\"attributes\":{\"callback\":null,\"column_names\":[\"x\",\"y\"],\"data\":{\"x\":[365.9298,375.594,385.2625,394.9355,404.6129,414.2946,423.9808,433.6713,443.3662,453.0655,462.7692,472.4773,482.1898,491.9066,501.6279,511.3535,521.0836,530.818,540.5568,550.3,560.0477,569.7996,579.556,589.3168,599.0819,608.8515,618.6254,628.4037,638.1865,647.9736,657.7651,667.561,655.2923,665.0994,674.9012,684.6979,694.4894,704.2756,714.0566,723.8325,733.6031,743.3685,753.1287,762.8837,772.6335,782.3781,792.1174,801.8516,811.5805,821.3043,831.0228,840.7361,850.4442,860.1471,869.8448,879.5372,889.2245,898.9066,908.5834,918.2551,927.9214,937.5827,947.2387,956.8895,966.5351,976.1755,985.8106,995.4406,1005.065,1014.685,1024.299,1033.908,1043.512,1053.111,1062.704,1072.293,1081.876,1091.454,1101.026,1110.594,1120.156,1129.713,1139.265,1148.811,1158.353,1167.889,1177.42,1186.946,1196.466,1205.982,1215.492,1224.997,1234.496,1243.991,1253.48,1262.964,1253.373,1263.346,1273.318,1283.291,1293.262,1303.234,1313.206,1323.177,1333.148,1343.119,1353.089,1363.06,1373.03,1383.0,1392.969,1402.939,1412.908,1422.877,1432.845,1442.814,1452.782,1462.75,1472.718,1482.685,1492.652,1502.619,1512.586,1522.552,1532.518,1542.484,1552.45,1562.416,1572.381,1582.346,1592.311,1602.275,1612.24,1622.204,1632.167,1642.131,1652.094,1662.057,1672.02,1681.983,1691.945,1701.907,1711.869,1721.831,1731.792,1741.753,1751.714,1761.675,1771.635,1781.596,1791.556,1801.515,1811.475,1821.434,1831.393,1841.352,1851.31,1861.269,1871.227,1873.184,1867.664,1877.725,1887.785,1897.842,1907.896,1917.948,1927.999,1938.046,1948.092,1958.135,1968.175,1978.214,1988.25,1998.284,2008.315,2018.345,2028.372,2038.396,2048.419,2058.439,2068.456,2078.472,2088.485,2098.496,2108.504,2118.51,2128.514,2138.516,2148.515,2158.512,2168.507,2178.499,2188.489,2198.477,2208.462,2218.445,2228.426,2238.405,2248.381,2258.354,2268.326,2278.295,2288.262,2298.227,2308.189,2318.149,2328.107,2338.062,2348.016,2357.967,2367.915,2377.861,2387.805,2397.747,2407.686,2417.623,2427.558,2437.49,2447.42,2457.348,2467.273,2477.196,2487.117,2497.036],\"y\":[962.0,1071.0,1044.0,1244.0,1720.0,1757.0,1626.0,1503.0,1608.0,1621.0,1529.0,1431.0,1325.0,1212.0,1153.0,1110.0,1073.0,1106.0,1139.0,1126.0,1048.0,940.0,850.0,771.0,734.0,691.0,639.0,588.0,573.0,530.0,492.0,478.0,484.0,466.0,446.0,418.0,484.0,692.0,948.0,1334.0,2272.0,3368.0,3878.0,2704.0,4114.0,4375.0,4186.0,4084.0,3728.0,3215.0,3394.0,3698.0,3713.0,3667.0,3617.0,3565.0,3389.0,2731.0,2428.0,2256.0,1974.0,1021.0,888.0,1127.0,1732.0,1945.0,2302.0,2405.0,2379.0,2414.0,2404.0,2397.0,2376.0,2321.0,2236.0,2168.0,2026.0,1880.0,1536.0,1021.0,342.0,302.0,427.0,371.0,649.0,927.0,985.0,974.0,1007.0,989.0,1053.0,1106.0,1154.0,1155.0,1105.0,941.0,1080.0,572.0,445.0,427.0,400.0,299.0,218.0,235.0,89.0,50.0,4.0,1.0,0.0,0.0,2.0,1.0,5.0,8.0,9.0,10.0,23.0,26.0,22.0,33.0,62.0,85.0,393.0,361.0,370.0,358.0,407.0,425.0,386.0,387.0,380.0,336.0,332.0,345.0,338.0,321.0,330.0,335.0,339.0,338.0,345.0,341.0,335.0,309.0,291.0,245.0,241.0,223.0,192.0,150.0,116.0,47.0,15.0,1.0,0.0,0.0,1.0,0.0,0.0,0.0,1.0,1.0,2.0,0.0,0.0,0.0,0.0,1.0,1.0,5.0,15.0,33.0,45.0,30.0,12.0,22.0,62.0,87.0,77.0,62.0,72.0,104.0,127.0,137.0,149.0,152.0,162.0,169.0,169.0,164.0,163.0,165.0,163.0,158.0,171.0,175.0,170.0,163.0,150.0,136.0,125.0,119.0,108.0,95.0,96.0,81.0,79.0,67.0,53.0,52.0,45.0,38.0,33.0,33.0,26.0,18.0,22.0,19.0,11.0,11.0,11.0,3.0,0.0,0.0]},\"selected\":null,\"selection_policy\":null},\"id\":\"a71995f6-58f3-4f17-90f8-4f253be02eba\",\"type\":\"ColumnDataSource\"},{\"attributes\":{\"line_alpha\":0.1,\"line_color\":\"#1f77b4\",\"line_width\":2,\"x\":{\"field\":\"x\"},\"y\":{\"field\":\"y\"}},\"id\":\"3f195798-a111-4781-ab74-ddc31fc39b9a\",\"type\":\"Line\"},{\"attributes\":{},\"id\":\"6f7a00c2-81b2-4f8b-b06b-ba25e5dd05b7\",\"type\":\"SaveTool\"},{\"attributes\":{\"data_source\":{\"id\":\"a71995f6-58f3-4f17-90f8-4f253be02eba\",\"type\":\"ColumnDataSource\"},\"glyph\":{\"id\":\"3c398dd3-7e90-481d-8fce-bfc318930537\",\"type\":\"Line\"},\"hover_glyph\":null,\"muted_glyph\":null,\"nonselection_glyph\":{\"id\":\"bc5edee3-f993-47c0-ad59-ed15c3783986\",\"type\":\"Line\"},\"selection_glyph\":null,\"view\":{\"id\":\"6cede8bf-9f4f-4d35-bf5e-95f1c41bc7db\",\"type\":\"CDSView\"}},\"id\":\"3794bdc8-e59b-474d-9806-83d23e12c227\",\"type\":\"GlyphRenderer\"},{\"attributes\":{},\"id\":\"28d1c0e7-1fb0-4918-b9bb-de7d83785d38\",\"type\":\"HelpTool\"},{\"attributes\":{\"data_source\":{\"id\":\"9cfa47e7-1593-43b2-8a8c-ac6d430c9d8a\",\"type\":\"ColumnDataSource\"},\"glyph\":{\"id\":\"e4e11003-ba7e-4235-ab60-6a0edac4810b\",\"type\":\"Line\"},\"hover_glyph\":null,\"muted_glyph\":null,\"nonselection_glyph\":{\"id\":\"3e68dd2b-1895-43c1-8bce-6793ec27302b\",\"type\":\"Line\"},\"selection_glyph\":null,\"view\":{\"id\":\"50448593-7bb5-4d37-8e60-1c88867f9dd6\",\"type\":\"CDSView\"}},\"id\":\"6aeb7440-f72f-4508-b2d9-e7c069695110\",\"type\":\"GlyphRenderer\"}],\"root_ids\":[\"bb1c7401-9d27-4c32-821b-ca951661b536\"]},\"title\":\"Bokeh Application\",\"version\":\"0.12.15\"}};\n",
       "  var render_items = [{\"docid\":\"d06961aa-d210-4bcb-b45b-3c81865568c1\",\"elementid\":\"94747d62-a407-42bb-b620-45ececdf728e\",\"modelid\":\"bb1c7401-9d27-4c32-821b-ca951661b536\",\"notebook_comms_target\":\"d5acba00-420d-435f-a824-84a8600f931a\"}];\n",
       "  root.Bokeh.embed.embed_items_notebook(docs_json, render_items);\n",
       "\n",
       "  }\n",
       "  if (root.Bokeh !== undefined) {\n",
       "    embed_document(root);\n",
       "  } else {\n",
       "    var attempts = 0;\n",
       "    var timer = setInterval(function(root) {\n",
       "      if (root.Bokeh !== undefined) {\n",
       "        embed_document(root);\n",
       "        clearInterval(timer);\n",
       "      }\n",
       "      attempts++;\n",
       "      if (attempts > 100) {\n",
       "        console.log(\"Bokeh: ERROR: Unable to run BokehJS code because BokehJS library is missing\")\n",
       "        clearInterval(timer);\n",
       "      }\n",
       "    }, 10, root)\n",
       "  }\n",
       "})(window);"
      ],
      "application/vnd.bokehjs_exec.v0+json": ""
     },
     "metadata": {
      "application/vnd.bokehjs_exec.v0+json": {
       "id": "bb1c7401-9d27-4c32-821b-ca951661b536"
      }
     },
     "output_type": "display_data"
    }
   ],
   "source": [
    "from ipywidgets import Output\n",
    "from IPython.display import display\n",
    "\n",
    "map2 = gis.map('Greenwood, NE', zoomlevel=13)\n",
    "display(map2)"
   ]
  },
  {
   "cell_type": "code",
   "execution_count": 12,
   "metadata": {},
   "outputs": [],
   "source": [
    "map2.add_layer(aviris_fcc)"
   ]
  },
  {
   "cell_type": "code",
   "execution_count": 13,
   "metadata": {},
   "outputs": [],
   "source": [
    "out = Output()"
   ]
  },
  {
   "cell_type": "markdown",
   "metadata": {},
   "source": [
    "##### drawing logic"
   ]
  },
  {
   "cell_type": "code",
   "execution_count": 14,
   "metadata": {},
   "outputs": [
    {
     "data": {
      "text/html": [
       "\n",
       "    <div class=\"bk-root\">\n",
       "        <a href=\"https://bokeh.pydata.org\" target=\"_blank\" class=\"bk-logo bk-logo-small bk-logo-notebook\"></a>\n",
       "        <span id=\"5966a98b-64e7-40f0-8705-3d53087ab1a5\">Loading BokehJS ...</span>\n",
       "    </div>"
      ]
     },
     "metadata": {},
     "output_type": "display_data"
    },
    {
     "data": {
      "application/javascript": [
       "\n",
       "(function(root) {\n",
       "  function now() {\n",
       "    return new Date();\n",
       "  }\n",
       "\n",
       "  var force = true;\n",
       "\n",
       "  if (typeof (root._bokeh_onload_callbacks) === \"undefined\" || force === true) {\n",
       "    root._bokeh_onload_callbacks = [];\n",
       "    root._bokeh_is_loading = undefined;\n",
       "  }\n",
       "\n",
       "  var JS_MIME_TYPE = 'application/javascript';\n",
       "  var HTML_MIME_TYPE = 'text/html';\n",
       "  var EXEC_MIME_TYPE = 'application/vnd.bokehjs_exec.v0+json';\n",
       "  var CLASS_NAME = 'output_bokeh rendered_html';\n",
       "\n",
       "  /**\n",
       "   * Render data to the DOM node\n",
       "   */\n",
       "  function render(props, node) {\n",
       "    var script = document.createElement(\"script\");\n",
       "    node.appendChild(script);\n",
       "  }\n",
       "\n",
       "  /**\n",
       "   * Handle when an output is cleared or removed\n",
       "   */\n",
       "  function handleClearOutput(event, handle) {\n",
       "    var cell = handle.cell;\n",
       "\n",
       "    var id = cell.output_area._bokeh_element_id;\n",
       "    var server_id = cell.output_area._bokeh_server_id;\n",
       "    // Clean up Bokeh references\n",
       "    if (id !== undefined) {\n",
       "      Bokeh.index[id].model.document.clear();\n",
       "      delete Bokeh.index[id];\n",
       "    }\n",
       "\n",
       "    if (server_id !== undefined) {\n",
       "      // Clean up Bokeh references\n",
       "      var cmd = \"from bokeh.io.state import curstate; print(curstate().uuid_to_server['\" + server_id + \"'].get_sessions()[0].document.roots[0]._id)\";\n",
       "      cell.notebook.kernel.execute(cmd, {\n",
       "        iopub: {\n",
       "          output: function(msg) {\n",
       "            var element_id = msg.content.text.trim();\n",
       "            Bokeh.index[element_id].model.document.clear();\n",
       "            delete Bokeh.index[element_id];\n",
       "          }\n",
       "        }\n",
       "      });\n",
       "      // Destroy server and session\n",
       "      var cmd = \"import bokeh.io.notebook as ion; ion.destroy_server('\" + server_id + \"')\";\n",
       "      cell.notebook.kernel.execute(cmd);\n",
       "    }\n",
       "  }\n",
       "\n",
       "  /**\n",
       "   * Handle when a new output is added\n",
       "   */\n",
       "  function handleAddOutput(event, handle) {\n",
       "    var output_area = handle.output_area;\n",
       "    var output = handle.output;\n",
       "\n",
       "    // limit handleAddOutput to display_data with EXEC_MIME_TYPE content only\n",
       "    if ((output.output_type != \"display_data\") || (!output.data.hasOwnProperty(EXEC_MIME_TYPE))) {\n",
       "      return\n",
       "    }\n",
       "\n",
       "    var toinsert = output_area.element.find(\".\" + CLASS_NAME.split(' ')[0]);\n",
       "\n",
       "    if (output.metadata[EXEC_MIME_TYPE][\"id\"] !== undefined) {\n",
       "      toinsert[toinsert.length - 1].firstChild.textContent = output.data[JS_MIME_TYPE];\n",
       "      // store reference to embed id on output_area\n",
       "      output_area._bokeh_element_id = output.metadata[EXEC_MIME_TYPE][\"id\"];\n",
       "    }\n",
       "    if (output.metadata[EXEC_MIME_TYPE][\"server_id\"] !== undefined) {\n",
       "      var bk_div = document.createElement(\"div\");\n",
       "      bk_div.innerHTML = output.data[HTML_MIME_TYPE];\n",
       "      var script_attrs = bk_div.children[0].attributes;\n",
       "      for (var i = 0; i < script_attrs.length; i++) {\n",
       "        toinsert[toinsert.length - 1].firstChild.setAttribute(script_attrs[i].name, script_attrs[i].value);\n",
       "      }\n",
       "      // store reference to server id on output_area\n",
       "      output_area._bokeh_server_id = output.metadata[EXEC_MIME_TYPE][\"server_id\"];\n",
       "    }\n",
       "  }\n",
       "\n",
       "  function register_renderer(events, OutputArea) {\n",
       "\n",
       "    function append_mime(data, metadata, element) {\n",
       "      // create a DOM node to render to\n",
       "      var toinsert = this.create_output_subarea(\n",
       "        metadata,\n",
       "        CLASS_NAME,\n",
       "        EXEC_MIME_TYPE\n",
       "      );\n",
       "      this.keyboard_manager.register_events(toinsert);\n",
       "      // Render to node\n",
       "      var props = {data: data, metadata: metadata[EXEC_MIME_TYPE]};\n",
       "      render(props, toinsert[toinsert.length - 1]);\n",
       "      element.append(toinsert);\n",
       "      return toinsert\n",
       "    }\n",
       "\n",
       "    /* Handle when an output is cleared or removed */\n",
       "    events.on('clear_output.CodeCell', handleClearOutput);\n",
       "    events.on('delete.Cell', handleClearOutput);\n",
       "\n",
       "    /* Handle when a new output is added */\n",
       "    events.on('output_added.OutputArea', handleAddOutput);\n",
       "\n",
       "    /**\n",
       "     * Register the mime type and append_mime function with output_area\n",
       "     */\n",
       "    OutputArea.prototype.register_mime_type(EXEC_MIME_TYPE, append_mime, {\n",
       "      /* Is output safe? */\n",
       "      safe: true,\n",
       "      /* Index of renderer in `output_area.display_order` */\n",
       "      index: 0\n",
       "    });\n",
       "  }\n",
       "\n",
       "  // register the mime type if in Jupyter Notebook environment and previously unregistered\n",
       "  if (root.Jupyter !== undefined) {\n",
       "    var events = require('base/js/events');\n",
       "    var OutputArea = require('notebook/js/outputarea').OutputArea;\n",
       "\n",
       "    if (OutputArea.prototype.mime_types().indexOf(EXEC_MIME_TYPE) == -1) {\n",
       "      register_renderer(events, OutputArea);\n",
       "    }\n",
       "  }\n",
       "\n",
       "  \n",
       "  if (typeof (root._bokeh_timeout) === \"undefined\" || force === true) {\n",
       "    root._bokeh_timeout = Date.now() + 5000;\n",
       "    root._bokeh_failed_load = false;\n",
       "  }\n",
       "\n",
       "  var NB_LOAD_WARNING = {'data': {'text/html':\n",
       "     \"<div style='background-color: #fdd'>\\n\"+\n",
       "     \"<p>\\n\"+\n",
       "     \"BokehJS does not appear to have successfully loaded. If loading BokehJS from CDN, this \\n\"+\n",
       "     \"may be due to a slow or bad network connection. Possible fixes:\\n\"+\n",
       "     \"</p>\\n\"+\n",
       "     \"<ul>\\n\"+\n",
       "     \"<li>re-rerun `output_notebook()` to attempt to load from CDN again, or</li>\\n\"+\n",
       "     \"<li>use INLINE resources instead, as so:</li>\\n\"+\n",
       "     \"</ul>\\n\"+\n",
       "     \"<code>\\n\"+\n",
       "     \"from bokeh.resources import INLINE\\n\"+\n",
       "     \"output_notebook(resources=INLINE)\\n\"+\n",
       "     \"</code>\\n\"+\n",
       "     \"</div>\"}};\n",
       "\n",
       "  function display_loaded() {\n",
       "    var el = document.getElementById(\"5966a98b-64e7-40f0-8705-3d53087ab1a5\");\n",
       "    if (el != null) {\n",
       "      el.textContent = \"BokehJS is loading...\";\n",
       "    }\n",
       "    if (root.Bokeh !== undefined) {\n",
       "      if (el != null) {\n",
       "        el.textContent = \"BokehJS \" + root.Bokeh.version + \" successfully loaded.\";\n",
       "      }\n",
       "    } else if (Date.now() < root._bokeh_timeout) {\n",
       "      setTimeout(display_loaded, 100)\n",
       "    }\n",
       "  }\n",
       "\n",
       "\n",
       "  function run_callbacks() {\n",
       "    try {\n",
       "      root._bokeh_onload_callbacks.forEach(function(callback) { callback() });\n",
       "    }\n",
       "    finally {\n",
       "      delete root._bokeh_onload_callbacks\n",
       "    }\n",
       "    console.info(\"Bokeh: all callbacks have finished\");\n",
       "  }\n",
       "\n",
       "  function load_libs(js_urls, callback) {\n",
       "    root._bokeh_onload_callbacks.push(callback);\n",
       "    if (root._bokeh_is_loading > 0) {\n",
       "      console.log(\"Bokeh: BokehJS is being loaded, scheduling callback at\", now());\n",
       "      return null;\n",
       "    }\n",
       "    if (js_urls == null || js_urls.length === 0) {\n",
       "      run_callbacks();\n",
       "      return null;\n",
       "    }\n",
       "    console.log(\"Bokeh: BokehJS not loaded, scheduling load and callback at\", now());\n",
       "    root._bokeh_is_loading = js_urls.length;\n",
       "    for (var i = 0; i < js_urls.length; i++) {\n",
       "      var url = js_urls[i];\n",
       "      var s = document.createElement('script');\n",
       "      s.src = url;\n",
       "      s.async = false;\n",
       "      s.onreadystatechange = s.onload = function() {\n",
       "        root._bokeh_is_loading--;\n",
       "        if (root._bokeh_is_loading === 0) {\n",
       "          console.log(\"Bokeh: all BokehJS libraries loaded\");\n",
       "          run_callbacks()\n",
       "        }\n",
       "      };\n",
       "      s.onerror = function() {\n",
       "        console.warn(\"failed to load library \" + url);\n",
       "      };\n",
       "      console.log(\"Bokeh: injecting script tag for BokehJS library: \", url);\n",
       "      document.getElementsByTagName(\"head\")[0].appendChild(s);\n",
       "    }\n",
       "  };var element = document.getElementById(\"5966a98b-64e7-40f0-8705-3d53087ab1a5\");\n",
       "  if (element == null) {\n",
       "    console.log(\"Bokeh: ERROR: autoload.js configured with elementid '5966a98b-64e7-40f0-8705-3d53087ab1a5' but no matching script tag was found. \")\n",
       "    return false;\n",
       "  }\n",
       "\n",
       "  var js_urls = [\"https://cdn.pydata.org/bokeh/release/bokeh-0.12.15.min.js\", \"https://cdn.pydata.org/bokeh/release/bokeh-widgets-0.12.15.min.js\", \"https://cdn.pydata.org/bokeh/release/bokeh-tables-0.12.15.min.js\", \"https://cdn.pydata.org/bokeh/release/bokeh-gl-0.12.15.min.js\"];\n",
       "\n",
       "  var inline_js = [\n",
       "    function(Bokeh) {\n",
       "      Bokeh.set_log_level(\"info\");\n",
       "    },\n",
       "    \n",
       "    function(Bokeh) {\n",
       "      \n",
       "    },\n",
       "    function(Bokeh) {\n",
       "      console.log(\"Bokeh: injecting CSS: https://cdn.pydata.org/bokeh/release/bokeh-0.12.15.min.css\");\n",
       "      Bokeh.embed.inject_css(\"https://cdn.pydata.org/bokeh/release/bokeh-0.12.15.min.css\");\n",
       "      console.log(\"Bokeh: injecting CSS: https://cdn.pydata.org/bokeh/release/bokeh-widgets-0.12.15.min.css\");\n",
       "      Bokeh.embed.inject_css(\"https://cdn.pydata.org/bokeh/release/bokeh-widgets-0.12.15.min.css\");\n",
       "      console.log(\"Bokeh: injecting CSS: https://cdn.pydata.org/bokeh/release/bokeh-tables-0.12.15.min.css\");\n",
       "      Bokeh.embed.inject_css(\"https://cdn.pydata.org/bokeh/release/bokeh-tables-0.12.15.min.css\");\n",
       "    }\n",
       "  ];\n",
       "\n",
       "  function run_inline_js() {\n",
       "    \n",
       "    if ((root.Bokeh !== undefined) || (force === true)) {\n",
       "      for (var i = 0; i < inline_js.length; i++) {\n",
       "        inline_js[i].call(root, root.Bokeh);\n",
       "      }if (force === true) {\n",
       "        display_loaded();\n",
       "      }} else if (Date.now() < root._bokeh_timeout) {\n",
       "      setTimeout(run_inline_js, 100);\n",
       "    } else if (!root._bokeh_failed_load) {\n",
       "      console.log(\"Bokeh: BokehJS failed to load within specified timeout.\");\n",
       "      root._bokeh_failed_load = true;\n",
       "    } else if (force !== true) {\n",
       "      var cell = $(document.getElementById(\"5966a98b-64e7-40f0-8705-3d53087ab1a5\")).parents('.cell').data().cell;\n",
       "      cell.output_area.append_execute_result(NB_LOAD_WARNING)\n",
       "    }\n",
       "\n",
       "  }\n",
       "\n",
       "  if (root._bokeh_is_loading === 0) {\n",
       "    console.log(\"Bokeh: BokehJS loaded, going straight to plotting\");\n",
       "    run_inline_js();\n",
       "  } else {\n",
       "    load_libs(js_urls, function() {\n",
       "      console.log(\"Bokeh: BokehJS plotting callback run at\", now());\n",
       "      run_inline_js();\n",
       "    });\n",
       "  }\n",
       "}(window));"
      ],
      "application/vnd.bokehjs_load.v0+json": "\n(function(root) {\n  function now() {\n    return new Date();\n  }\n\n  var force = true;\n\n  if (typeof (root._bokeh_onload_callbacks) === \"undefined\" || force === true) {\n    root._bokeh_onload_callbacks = [];\n    root._bokeh_is_loading = undefined;\n  }\n\n  \n\n  \n  if (typeof (root._bokeh_timeout) === \"undefined\" || force === true) {\n    root._bokeh_timeout = Date.now() + 5000;\n    root._bokeh_failed_load = false;\n  }\n\n  var NB_LOAD_WARNING = {'data': {'text/html':\n     \"<div style='background-color: #fdd'>\\n\"+\n     \"<p>\\n\"+\n     \"BokehJS does not appear to have successfully loaded. If loading BokehJS from CDN, this \\n\"+\n     \"may be due to a slow or bad network connection. Possible fixes:\\n\"+\n     \"</p>\\n\"+\n     \"<ul>\\n\"+\n     \"<li>re-rerun `output_notebook()` to attempt to load from CDN again, or</li>\\n\"+\n     \"<li>use INLINE resources instead, as so:</li>\\n\"+\n     \"</ul>\\n\"+\n     \"<code>\\n\"+\n     \"from bokeh.resources import INLINE\\n\"+\n     \"output_notebook(resources=INLINE)\\n\"+\n     \"</code>\\n\"+\n     \"</div>\"}};\n\n  function display_loaded() {\n    var el = document.getElementById(\"5966a98b-64e7-40f0-8705-3d53087ab1a5\");\n    if (el != null) {\n      el.textContent = \"BokehJS is loading...\";\n    }\n    if (root.Bokeh !== undefined) {\n      if (el != null) {\n        el.textContent = \"BokehJS \" + root.Bokeh.version + \" successfully loaded.\";\n      }\n    } else if (Date.now() < root._bokeh_timeout) {\n      setTimeout(display_loaded, 100)\n    }\n  }\n\n\n  function run_callbacks() {\n    try {\n      root._bokeh_onload_callbacks.forEach(function(callback) { callback() });\n    }\n    finally {\n      delete root._bokeh_onload_callbacks\n    }\n    console.info(\"Bokeh: all callbacks have finished\");\n  }\n\n  function load_libs(js_urls, callback) {\n    root._bokeh_onload_callbacks.push(callback);\n    if (root._bokeh_is_loading > 0) {\n      console.log(\"Bokeh: BokehJS is being loaded, scheduling callback at\", now());\n      return null;\n    }\n    if (js_urls == null || js_urls.length === 0) {\n      run_callbacks();\n      return null;\n    }\n    console.log(\"Bokeh: BokehJS not loaded, scheduling load and callback at\", now());\n    root._bokeh_is_loading = js_urls.length;\n    for (var i = 0; i < js_urls.length; i++) {\n      var url = js_urls[i];\n      var s = document.createElement('script');\n      s.src = url;\n      s.async = false;\n      s.onreadystatechange = s.onload = function() {\n        root._bokeh_is_loading--;\n        if (root._bokeh_is_loading === 0) {\n          console.log(\"Bokeh: all BokehJS libraries loaded\");\n          run_callbacks()\n        }\n      };\n      s.onerror = function() {\n        console.warn(\"failed to load library \" + url);\n      };\n      console.log(\"Bokeh: injecting script tag for BokehJS library: \", url);\n      document.getElementsByTagName(\"head\")[0].appendChild(s);\n    }\n  };var element = document.getElementById(\"5966a98b-64e7-40f0-8705-3d53087ab1a5\");\n  if (element == null) {\n    console.log(\"Bokeh: ERROR: autoload.js configured with elementid '5966a98b-64e7-40f0-8705-3d53087ab1a5' but no matching script tag was found. \")\n    return false;\n  }\n\n  var js_urls = [\"https://cdn.pydata.org/bokeh/release/bokeh-0.12.15.min.js\", \"https://cdn.pydata.org/bokeh/release/bokeh-widgets-0.12.15.min.js\", \"https://cdn.pydata.org/bokeh/release/bokeh-tables-0.12.15.min.js\", \"https://cdn.pydata.org/bokeh/release/bokeh-gl-0.12.15.min.js\"];\n\n  var inline_js = [\n    function(Bokeh) {\n      Bokeh.set_log_level(\"info\");\n    },\n    \n    function(Bokeh) {\n      \n    },\n    function(Bokeh) {\n      console.log(\"Bokeh: injecting CSS: https://cdn.pydata.org/bokeh/release/bokeh-0.12.15.min.css\");\n      Bokeh.embed.inject_css(\"https://cdn.pydata.org/bokeh/release/bokeh-0.12.15.min.css\");\n      console.log(\"Bokeh: injecting CSS: https://cdn.pydata.org/bokeh/release/bokeh-widgets-0.12.15.min.css\");\n      Bokeh.embed.inject_css(\"https://cdn.pydata.org/bokeh/release/bokeh-widgets-0.12.15.min.css\");\n      console.log(\"Bokeh: injecting CSS: https://cdn.pydata.org/bokeh/release/bokeh-tables-0.12.15.min.css\");\n      Bokeh.embed.inject_css(\"https://cdn.pydata.org/bokeh/release/bokeh-tables-0.12.15.min.css\");\n    }\n  ];\n\n  function run_inline_js() {\n    \n    if ((root.Bokeh !== undefined) || (force === true)) {\n      for (var i = 0; i < inline_js.length; i++) {\n        inline_js[i].call(root, root.Bokeh);\n      }if (force === true) {\n        display_loaded();\n      }} else if (Date.now() < root._bokeh_timeout) {\n      setTimeout(run_inline_js, 100);\n    } else if (!root._bokeh_failed_load) {\n      console.log(\"Bokeh: BokehJS failed to load within specified timeout.\");\n      root._bokeh_failed_load = true;\n    } else if (force !== true) {\n      var cell = $(document.getElementById(\"5966a98b-64e7-40f0-8705-3d53087ab1a5\")).parents('.cell').data().cell;\n      cell.output_area.append_execute_result(NB_LOAD_WARNING)\n    }\n\n  }\n\n  if (root._bokeh_is_loading === 0) {\n    console.log(\"Bokeh: BokehJS loaded, going straight to plotting\");\n    run_inline_js();\n  } else {\n    load_libs(js_urls, function() {\n      console.log(\"Bokeh: BokehJS plotting callback run at\", now());\n      run_inline_js();\n    });\n  }\n}(window));"
     },
     "metadata": {},
     "output_type": "display_data"
    }
   ],
   "source": [
    "from bokeh.io import show, output_notebook, push_notebook\n",
    "from bokeh.plotting import figure\n",
    "from IPython.display import clear_output\n",
    "output_notebook()"
   ]
  },
  {
   "cell_type": "code",
   "execution_count": 15,
   "metadata": {},
   "outputs": [],
   "source": [
    "symbol_list = [{\"angle\":0,\"xoffset\":0,\"yoffset\":8.15625,\"type\":\"esriPMS\",\"url\":\"http://static.arcgis.com/images/Symbols/AtoZ/blueA.png\",\"contentType\":\"image/png\",\"width\":14,\"height\":22},\n",
    "              {\"angle\":0,\"xoffset\":0,\"yoffset\":8.15625,\"type\":\"esriPMS\",\"url\":\"http://static.arcgis.com/images/Symbols/AtoZ/blueB.png\",\"contentType\":\"image/png\",\"width\":14,\"height\":22},\n",
    "              {\"angle\":0,\"xoffset\":0,\"yoffset\":8.15625,\"type\":\"esriPMS\",\"url\":\"http://static.arcgis.com/images/Symbols/AtoZ/blueC.png\",\"contentType\":\"image/png\",\"width\":14,\"height\":22},\n",
    "              {\"angle\":0,\"xoffset\":0,\"yoffset\":8.15625,\"type\":\"esriPMS\",\"url\":\"http://static.arcgis.com/images/Symbols/AtoZ/blueD.png\",\"contentType\":\"image/png\",\"width\":14,\"height\":22},\n",
    "              {\"angle\":0,\"xoffset\":0,\"yoffset\":8.15625,\"type\":\"esriPMS\",\"url\":\"http://static.arcgis.com/images/Symbols/AtoZ/blueE.png\",\"contentType\":\"image/png\",\"width\":14,\"height\":22},\n",
    "              {\"angle\":0,\"xoffset\":0,\"yoffset\":8.15625,\"type\":\"esriPMS\",\"url\":\"http://static.arcgis.com/images/Symbols/AtoZ/blueF.png\",\"contentType\":\"image/png\",\"width\":14,\"height\":22},\n",
    "              {\"angle\":0,\"xoffset\":0,\"yoffset\":8.15625,\"type\":\"esriPMS\",\"url\":\"http://static.arcgis.com/images/Symbols/AtoZ/blueG.png\",\"contentType\":\"image/png\",\"width\":14,\"height\":22},\n",
    "              {\"angle\":0,\"xoffset\":0,\"yoffset\":8.15625,\"type\":\"esriPMS\",\"url\":\"http://static.arcgis.com/images/Symbols/AtoZ/blueH.png\",\"contentType\":\"image/png\",\"width\":14,\"height\":22},\n",
    "              {\"angle\":0,\"xoffset\":0,\"yoffset\":8.15625,\"type\":\"esriPMS\",\"url\":\"http://static.arcgis.com/images/Symbols/AtoZ/blueI.png\",\"contentType\":\"image/png\",\"width\":14,\"height\":22},\n",
    "              {\"angle\":0,\"xoffset\":0,\"yoffset\":8.15625,\"type\":\"esriPMS\",\"url\":\"http://static.arcgis.com/images/Symbols/AtoZ/blueJ.png\",\"contentType\":\"image/png\",\"width\":14,\"height\":22},\n",
    "              {\"angle\":0,\"xoffset\":0,\"yoffset\":8.15625,\"type\":\"esriPMS\",\"url\":\"http://static.arcgis.com/images/Symbols/AtoZ/blueK.png\",\"contentType\":\"image/png\",\"width\":14,\"height\":22}]\n",
    "legend_list = ['A','B','C','D','E','F','G','H','I','J']\n",
    "bokeh_colors=['blue','blueviolet','brown',\n",
    "              'burlywood','cadetblue','chartreuse',\n",
    "              'chocolate','coral','cornflowerblue',\n",
    "             'cyan','darkblue']\n",
    "x_axis = [float(s['wavelength']) for s in aviris_bands]"
   ]
  },
  {
   "cell_type": "code",
   "execution_count": 16,
   "metadata": {},
   "outputs": [],
   "source": [
    "i = 0\n",
    "p = figure(title=\"Spectral Profile\", x_axis_label='Wavelengths', \n",
    "           y_axis_label='Radiance', width=600, height=300)\n",
    "\n",
    "def plot_reflectance_curves(map_handle, clicked_point):\n",
    "    global i, p\n",
    "    if i>0:\n",
    "          out.clear_output()\n",
    "#     print(i)\n",
    "\n",
    "    # Get cell value from imagery layer\n",
    "    image_data = aviris_layer.get_samples(clicked_point)\n",
    "    radiance_values = image_data[0]['values']\n",
    "\n",
    "    # choose symbol\n",
    "    map_handle.draw(clicked_point, symbol = symbol_list[i])\n",
    "        \n",
    "    lines = p.line(x_axis, radiance_values, legend=legend_list[i], line_color=bokeh_colors[i], line_width=2)\n",
    "    curve_handle = show(p, notebook_handle=True)\n",
    "\n",
    "#     if i>0:\n",
    "#         push_notebook(handle=curve_handle)\n",
    "    \n",
    "    i = i+1\n",
    "#     print(i)\n",
    "    \n",
    "map2.on_click(plot_reflectance_curves)"
   ]
  },
  {
   "cell_type": "code",
   "execution_count": null,
   "metadata": {},
   "outputs": [],
   "source": []
  }
 ],
 "metadata": {
  "kernelspec": {
   "display_name": "Python 3",
   "language": "python",
   "name": "python3"
  },
  "language_info": {
   "codemirror_mode": {
    "name": "ipython",
    "version": 3
   },
   "file_extension": ".py",
   "mimetype": "text/x-python",
   "name": "python",
   "nbconvert_exporter": "python",
   "pygments_lexer": "ipython3",
   "version": "3.6.5"
  }
 },
 "nbformat": 4,
 "nbformat_minor": 2
}
